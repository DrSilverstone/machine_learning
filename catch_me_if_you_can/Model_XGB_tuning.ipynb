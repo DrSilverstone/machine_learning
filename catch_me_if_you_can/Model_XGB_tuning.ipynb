{
 "cells": [
  {
   "cell_type": "code",
   "execution_count": 1,
   "metadata": {},
   "outputs": [
    {
     "name": "stdout",
     "output_type": "stream",
     "text": [
      "Populating the interactive namespace from numpy and matplotlib\n"
     ]
    }
   ],
   "source": [
    "%pylab inline\n",
    "import pandas as pd\n",
    "from scipy import stats\n",
    "import matplotlib.pyplot as plt\n",
    "import warnings\n",
    "from itertools import product"
   ]
  },
  {
   "cell_type": "code",
   "execution_count": 2,
   "metadata": {
    "collapsed": true
   },
   "outputs": [],
   "source": [
    "from sklearn import preprocessing\n",
    "from matplotlib.colors import LogNorm"
   ]
  },
  {
   "cell_type": "code",
   "execution_count": 3,
   "metadata": {
    "collapsed": true
   },
   "outputs": [],
   "source": [
    "import matplotlib.pyplot as plt\n",
    "import warnings\n",
    "from itertools import product"
   ]
  },
  {
   "cell_type": "code",
   "execution_count": 4,
   "metadata": {
    "collapsed": true
   },
   "outputs": [],
   "source": [
    "import numpy as np\n",
    "from sklearn.preprocessing import MinMaxScaler"
   ]
  },
  {
   "cell_type": "code",
   "execution_count": 5,
   "metadata": {
    "collapsed": true
   },
   "outputs": [],
   "source": [
    "import time\n",
    "import datetime"
   ]
  },
  {
   "cell_type": "code",
   "execution_count": 6,
   "metadata": {
    "collapsed": true
   },
   "outputs": [],
   "source": [
    "%matplotlib inline"
   ]
  },
  {
   "cell_type": "markdown",
   "metadata": {},
   "source": [
    "# XGBoost"
   ]
  },
  {
   "cell_type": "code",
   "execution_count": 7,
   "metadata": {},
   "outputs": [
    {
     "name": "stderr",
     "output_type": "stream",
     "text": [
      "/Users/aurinko/anaconda/envs/Py27_proekt/lib/python2.7/site-packages/sklearn/cross_validation.py:41: DeprecationWarning: This module was deprecated in version 0.18 in favor of the model_selection module into which all the refactored classes and functions are moved. Also note that the interface of the new CV iterators are different from that of this module. This module will be removed in 0.20.\n",
      "  \"This module will be removed in 0.20.\", DeprecationWarning)\n",
      "/Users/aurinko/anaconda/envs/Py27_proekt/lib/python2.7/site-packages/sklearn/learning_curve.py:22: DeprecationWarning: This module was deprecated in version 0.18 in favor of the model_selection module into which all the functions are moved. This module will be removed in 0.20\n",
      "  DeprecationWarning)\n"
     ]
    }
   ],
   "source": [
    "from sklearn import ensemble , cross_validation, learning_curve, metrics "
   ]
  },
  {
   "cell_type": "code",
   "execution_count": null,
   "metadata": {
    "collapsed": true
   },
   "outputs": [],
   "source": [
    "import xgboost as xgb"
   ]
  },
  {
   "cell_type": "markdown",
   "metadata": {},
   "source": [
    "# Загрузка готовых кусков csv выборок"
   ]
  },
  {
   "cell_type": "code",
   "execution_count": 9,
   "metadata": {
    "collapsed": true
   },
   "outputs": [],
   "source": [
    "# E_001 - E_005\n",
    "\n",
    "# Sites 100 most popular as dummy\n",
    "sites_train =  pd.read_csv('hundred_sites_dymmy_test.csv',',',  dayfirst=True)\n",
    "sites_test = pd.read_csv('hundred_sites_dymmy_train.csv',',',  dayfirst=True)\n",
    "\n",
    "# 3 in row (need to be transponed)\n",
    "X_train_sitelines = pd.read_csv('three_in_row_site_lines.csv',',',  dayfirst=True)\n",
    "X_test_sitelines = pd.read_csv('three_in_row_site_lines_20_TEST.csv',',',  dayfirst=True)\n",
    "\n",
    "\n",
    "\n",
    "\n",
    "\n",
    "# 2 in row (need to be transponed)\n",
    "X_train_sitelines_2 = pd.read_csv('two_in_row_site_lines.csv',',',  dayfirst=True)\n",
    "X_test_sitelines_2 = pd.read_csv('two_in_row_site_lines_TEST.csv',',',  dayfirst=True)\n",
    "\n",
    "\n",
    "\n",
    "\n",
    "# обработка данных с учетом расшифровки сайтов.\n",
    "\n",
    "\n",
    "\n",
    "# 3 in row (need to be transponed) 50sht.\n",
    "X_train_sitelines_3_50 = pd.read_csv('sor_alice_3inrow_friquent_than_50_count_all_set_matrix_31_10.csv',',',  dayfirst=True)\n",
    "X_test_sitelines_3_50 = pd.read_csv('sor_alice_3inrow_friquent_than_50_count_all_set_matrix_31_10_test.csv',',',  dayfirst=True)\n",
    "\n",
    "# 3 in row (need to be transponed) 20sht.\n",
    "#X_train_sitelines_3_20 = pd.read_csv('sor_alice_3inrow_friquent_than_20_count_all_set_matrix_31_10.csv',',',  dayfirst=True)\n",
    "#X_test_sitelines_3_20 = pd.read_csv('sor_alice_3inrow_friquent_than_20_count_all_set_matrix_31_10_test.csv',',',  dayfirst=True)\n",
    "\n",
    "# TIME\n",
    "time_train = pd.read_csv('time_train.csv',',',  dayfirst=True)\n",
    "time_test = pd.read_csv('time_test.csv',',',  dayfirst=True)\n",
    "\n",
    "# SITES\n",
    "sites_scaled_train = pd.read_csv('df_sites_scaled.csv',',',  dayfirst=True)\n",
    "sites_scaled_test = pd.read_csv('df_test_sites_scaled.csv',',',  dayfirst=True)\n",
    "\n",
    "# Sites in first sec\n",
    "first_sites_train = pd.read_csv('first_sites.csv',',',  dayfirst=True)\n",
    "first_sites_test = pd.read_csv('first_sites_test.csv',',',  dayfirst=True)\n",
    "\n",
    "# Sites first friquent 105 (appears >21 times)\n",
    "sparse_matrix_train = pd.read_csv('sparse_matr_TRAIN_31_10.csv',',',  dayfirst=True)\n",
    "sparse_matrix_test = pd.read_csv('sparse_matr_TEST_31_10.csv',',',  dayfirst=True)"
   ]
  },
  {
   "cell_type": "code",
   "execution_count": 12,
   "metadata": {
    "collapsed": true
   },
   "outputs": [],
   "source": [
    "#samples building\n",
    "def build(first, second):#, therd, forth, fifth, sixs, seven):\n",
    "    \n",
    "    fich_names = np.hstack((first.columns, second.columns))\n",
    "                            #, therd.columns, forth.columns, \n",
    "                            #fifth.columns, sixs.columns, seven.columns))\n",
    "     \n",
    "    \n",
    "    X = np.hstack((np.array(first.values), np.array(second.values)))\n",
    "                   #, np.array(therd.values), np.array(forth.values), \n",
    "                   #np.array(fifth.values), np.array(sixs.values), np.array(seven.values)))\n",
    "    \n",
    "    return X, fich_names"
   ]
  },
  {
   "cell_type": "code",
   "execution_count": 36,
   "metadata": {
    "collapsed": true
   },
   "outputs": [],
   "source": [
    "# Sites in first sec\n",
    "f_sites_train = pd.read_csv('f_train_nov11.csv',',',  dayfirst=True)\n",
    "df_sites_train = pd.read_csv('df_train_nov11.csv',',',  dayfirst=True)\n",
    "\n",
    "y = pd.read_csv('target_train_nov11.csv',',',  dayfirst=True)\n",
    "\n",
    "#first_sites_test = pd.read_csv('first_sites_test.csv',',',  dayfirst=True)\n",
    "\n",
    "\n",
    "#TEST\n",
    "f_sites_test = pd.read_csv('f_test_nov11.csv',',',  dayfirst=True)\n",
    "df_sites_test = pd.read_csv('df_test_nov11.csv',',',  dayfirst=True)\n",
    "\n",
    "#droped_id = pd.read_csv(''ind_from_nan.npy'',',',  dayfirst=True)"
   ]
  },
  {
   "cell_type": "code",
   "execution_count": 22,
   "metadata": {},
   "outputs": [
    {
     "data": {
      "text/html": [
       "<div>\n",
       "<table border=\"1\" class=\"dataframe\">\n",
       "  <thead>\n",
       "    <tr style=\"text-align: right;\">\n",
       "      <th></th>\n",
       "      <th>Wednesday</th>\n",
       "      <th>Saturday</th>\n",
       "      <th>Sunday</th>\n",
       "      <th>Hour_8</th>\n",
       "      <th>Hour_9</th>\n",
       "      <th>Hour_10</th>\n",
       "      <th>Hour_11</th>\n",
       "      <th>Hour_14</th>\n",
       "      <th>Hour_15</th>\n",
       "      <th>Hour_19_23</th>\n",
       "      <th>M_0</th>\n",
       "      <th>M_1</th>\n",
       "      <th>M_4</th>\n",
       "      <th>M_summer</th>\n",
       "      <th>M_9</th>\n",
       "      <th>M_10</th>\n",
       "      <th>M_11</th>\n",
       "    </tr>\n",
       "  </thead>\n",
       "  <tbody>\n",
       "    <tr>\n",
       "      <th>0</th>\n",
       "      <td>0</td>\n",
       "      <td>1</td>\n",
       "      <td>0</td>\n",
       "      <td>0</td>\n",
       "      <td>0</td>\n",
       "      <td>0</td>\n",
       "      <td>1</td>\n",
       "      <td>0</td>\n",
       "      <td>0</td>\n",
       "      <td>0</td>\n",
       "      <td>0</td>\n",
       "      <td>0</td>\n",
       "      <td>0</td>\n",
       "      <td>0</td>\n",
       "      <td>0</td>\n",
       "      <td>0</td>\n",
       "      <td>0</td>\n",
       "    </tr>\n",
       "    <tr>\n",
       "      <th>1</th>\n",
       "      <td>0</td>\n",
       "      <td>0</td>\n",
       "      <td>0</td>\n",
       "      <td>0</td>\n",
       "      <td>0</td>\n",
       "      <td>0</td>\n",
       "      <td>0</td>\n",
       "      <td>0</td>\n",
       "      <td>0</td>\n",
       "      <td>0</td>\n",
       "      <td>0</td>\n",
       "      <td>0</td>\n",
       "      <td>0</td>\n",
       "      <td>0</td>\n",
       "      <td>0</td>\n",
       "      <td>0</td>\n",
       "      <td>0</td>\n",
       "    </tr>\n",
       "    <tr>\n",
       "      <th>2</th>\n",
       "      <td>0</td>\n",
       "      <td>0</td>\n",
       "      <td>0</td>\n",
       "      <td>0</td>\n",
       "      <td>0</td>\n",
       "      <td>0</td>\n",
       "      <td>1</td>\n",
       "      <td>0</td>\n",
       "      <td>0</td>\n",
       "      <td>0</td>\n",
       "      <td>0</td>\n",
       "      <td>0</td>\n",
       "      <td>0</td>\n",
       "      <td>0</td>\n",
       "      <td>0</td>\n",
       "      <td>0</td>\n",
       "      <td>0</td>\n",
       "    </tr>\n",
       "    <tr>\n",
       "      <th>3</th>\n",
       "      <td>0</td>\n",
       "      <td>0</td>\n",
       "      <td>0</td>\n",
       "      <td>0</td>\n",
       "      <td>0</td>\n",
       "      <td>0</td>\n",
       "      <td>1</td>\n",
       "      <td>0</td>\n",
       "      <td>0</td>\n",
       "      <td>0</td>\n",
       "      <td>0</td>\n",
       "      <td>0</td>\n",
       "      <td>0</td>\n",
       "      <td>0</td>\n",
       "      <td>0</td>\n",
       "      <td>0</td>\n",
       "      <td>0</td>\n",
       "    </tr>\n",
       "    <tr>\n",
       "      <th>4</th>\n",
       "      <td>0</td>\n",
       "      <td>0</td>\n",
       "      <td>0</td>\n",
       "      <td>0</td>\n",
       "      <td>0</td>\n",
       "      <td>0</td>\n",
       "      <td>0</td>\n",
       "      <td>0</td>\n",
       "      <td>0</td>\n",
       "      <td>0</td>\n",
       "      <td>0</td>\n",
       "      <td>0</td>\n",
       "      <td>0</td>\n",
       "      <td>0</td>\n",
       "      <td>0</td>\n",
       "      <td>0</td>\n",
       "      <td>0</td>\n",
       "    </tr>\n",
       "  </tbody>\n",
       "</table>\n",
       "</div>"
      ],
      "text/plain": [
       "   Wednesday  Saturday  Sunday  Hour_8  Hour_9  Hour_10  Hour_11  Hour_14  \\\n",
       "0          0         1       0       0       0        0        1        0   \n",
       "1          0         0       0       0       0        0        0        0   \n",
       "2          0         0       0       0       0        0        1        0   \n",
       "3          0         0       0       0       0        0        1        0   \n",
       "4          0         0       0       0       0        0        0        0   \n",
       "\n",
       "   Hour_15  Hour_19_23  M_0  M_1  M_4  M_summer  M_9  M_10  M_11  \n",
       "0        0           0    0    0    0         0    0     0     0  \n",
       "1        0           0    0    0    0         0    0     0     0  \n",
       "2        0           0    0    0    0         0    0     0     0  \n",
       "3        0           0    0    0    0         0    0     0     0  \n",
       "4        0           0    0    0    0         0    0     0     0  "
      ]
     },
     "execution_count": 22,
     "metadata": {},
     "output_type": "execute_result"
    }
   ],
   "source": [
    "df_sites_train.head()"
   ]
  },
  {
   "cell_type": "markdown",
   "metadata": {},
   "source": [
    "X_train_sitelines_3_50,time_train,sites_scaled_train,first_sites_train,sparse_matrix_train,X_train_sitelines_2\n",
    "\n",
    "X_test_sitelines_3_50,time_test,sites_scaled_test,first_sites_test,sparse_matrix_test,X_test_sitelines_2"
   ]
  },
  {
   "cell_type": "code",
   "execution_count": 37,
   "metadata": {},
   "outputs": [
    {
     "data": {
      "text/plain": [
       "array(['dayOfyear', 'Day', 'TimeMinOfDay', 'time1-2', 'time2-3'], dtype=object)"
      ]
     },
     "execution_count": 37,
     "metadata": {},
     "output_type": "execute_result"
    }
   ],
   "source": [
    "# Объединение\n",
    "\n",
    "\n",
    "# TRAIN\n",
    "X,fich_names =  build (f_sites_train, df_sites_train) \n",
    "\n",
    "y = np.load('target_nov10.npy')\n",
    "\n",
    "# TEST\n",
    "\n",
    "X_TEST, _ =  build (f_sites_test, df_sites_test) \n",
    "#                   sparse_matrix_test,X_test_sitelines_2,sites_test)\n",
    "\n",
    "fich_names[:5]"
   ]
  },
  {
   "cell_type": "code",
   "execution_count": 38,
   "metadata": {
    "collapsed": true
   },
   "outputs": [],
   "source": [
    "from sklearn.cross_validation import train_test_split\n",
    "# Разбиение выборки\n",
    "\n",
    "# Разбиение выборки\n",
    "X_train_big, X_test, y_train_big, y_test = train_test_split(X, y,\n",
    "                                                  test_size = 0.2,\n",
    "                                                  random_state=42)\n",
    "\n",
    "X_train_sm, X_test_sm, y_train_sm, y_test_sm = train_test_split(X_train_big, y_train_big,\n",
    "                                                  test_size = 0.2,\n",
    "                                                  random_state=42)\n",
    "\n",
    "# Нормальное деление (data, label=label, missing=-999.0)\n",
    "xgdmat_train = xgb.DMatrix(X_train_sm, label = y_train_sm) \n",
    "xgdmat_test = xgb.DMatrix(X_test_sm, label = y_test_sm) \n",
    "xgdmat_test_final = xgb.DMatrix(X_test)\n",
    "xgdmat = xgb.DMatrix(X_test_sm) \n",
    "xgdmat_for_evaluation = xgb.DMatrix(X, label = y) \n",
    "xgdmat_TEST = xgb.DMatrix(X_TEST)"
   ]
  },
  {
   "cell_type": "code",
   "execution_count": 39,
   "metadata": {
    "collapsed": true
   },
   "outputs": [],
   "source": [
    "namexy = np.hstack((fich_names,'y'))[:3]"
   ]
  },
  {
   "cell_type": "markdown",
   "metadata": {},
   "source": [
    "# XGBoost"
   ]
  },
  {
   "cell_type": "code",
   "execution_count": 27,
   "metadata": {
    "collapsed": true
   },
   "outputs": [
    {
     "name": "stderr",
     "output_type": "stream",
     "text": [
      "Will train until Test error hasn't decreased in 15 rounds.\n",
      "[0]\tTest-error:0.009278\n",
      "[1]\tTest-error:0.009089\n",
      "[2]\tTest-error:0.009143\n",
      "[3]\tTest-error:0.008899\n",
      "[4]\tTest-error:0.008899\n",
      "[5]\tTest-error:0.008818\n",
      "[6]\tTest-error:0.008602\n",
      "[7]\tTest-error:0.008602\n",
      "[8]\tTest-error:0.008494\n",
      "[9]\tTest-error:0.008494\n",
      "[10]\tTest-error:0.008521\n",
      "[11]\tTest-error:0.008412\n",
      "[12]\tTest-error:0.008358\n",
      "[13]\tTest-error:0.008250\n",
      "[14]\tTest-error:0.008223\n",
      "[15]\tTest-error:0.008196\n",
      "[16]\tTest-error:0.008223\n",
      "[17]\tTest-error:0.008142\n",
      "[18]\tTest-error:0.008142\n",
      "[19]\tTest-error:0.008142\n",
      "[20]\tTest-error:0.008169\n",
      "[21]\tTest-error:0.008196\n",
      "[22]\tTest-error:0.008169\n",
      "[23]\tTest-error:0.008196\n",
      "[24]\tTest-error:0.008196\n",
      "[25]\tTest-error:0.008115\n",
      "[26]\tTest-error:0.008142\n",
      "[27]\tTest-error:0.008142\n",
      "[28]\tTest-error:0.008061\n",
      "[29]\tTest-error:0.008061\n",
      "[30]\tTest-error:0.008142\n",
      "[31]\tTest-error:0.008115\n",
      "[32]\tTest-error:0.008088\n",
      "[33]\tTest-error:0.008007\n",
      "[34]\tTest-error:0.007953\n",
      "[35]\tTest-error:0.007926\n",
      "[36]\tTest-error:0.007899\n",
      "[37]\tTest-error:0.007899\n",
      "[38]\tTest-error:0.007844\n",
      "[39]\tTest-error:0.007817\n",
      "[40]\tTest-error:0.007790\n",
      "[41]\tTest-error:0.007926\n",
      "[42]\tTest-error:0.007926\n",
      "[43]\tTest-error:0.007980\n",
      "[44]\tTest-error:0.007926\n",
      "[45]\tTest-error:0.007926\n",
      "[46]\tTest-error:0.008007\n",
      "[47]\tTest-error:0.008007\n",
      "[48]\tTest-error:0.008007\n",
      "[49]\tTest-error:0.007980\n",
      "[50]\tTest-error:0.008061\n",
      "[51]\tTest-error:0.008007\n",
      "[52]\tTest-error:0.008034\n",
      "[53]\tTest-error:0.007953\n",
      "[54]\tTest-error:0.007953\n",
      "[55]\tTest-error:0.007953\n",
      "Stopping. Best iteration:\n",
      "[40]\tTest-error:0.007790\n",
      "\n"
     ]
    }
   ],
   "source": [
    "# 0.84039\n",
    "num_boost_round = 999\n",
    "\n",
    "our_params = {'eta': 0.1, 'seed':0, 'subsample': 0.8, 'eval_metric' : 'error',\n",
    "             'objective': 'binary:logistic', 'max_depth':11, 'min_child_weight':1,\n",
    "              'n_estimators': 10,'learning_rate': 0.1}\n",
    "\n",
    "\n",
    "model = xgb.train(\n",
    "    our_params,\n",
    "    xgdmat_train,\n",
    "    num_boost_round=num_boost_round,\n",
    "    evals=[(xgdmat_test, \"Test\")],\n",
    "    early_stopping_rounds=15)"
   ]
  },
  {
   "cell_type": "code",
   "execution_count": 28,
   "metadata": {},
   "outputs": [
    {
     "name": "stdout",
     "output_type": "stream",
     "text": [
      "Best error: 0.00779 in 41 rounds\n"
     ]
    }
   ],
   "source": [
    "print(\"Best error: {} in {} rounds\".format(model.best_score, model.best_iteration+1))"
   ]
  },
  {
   "cell_type": "code",
   "execution_count": null,
   "metadata": {
    "collapsed": true
   },
   "outputs": [],
   "source": [
    "Best error: 0.00779 in 41 rounds # новая выборка\n",
    "\n",
    "Best error: 0.002637 in 132 rounds\n",
    "    \n",
    "Best error: 0.003278 in 47 rounds\n",
    "Best error: 0.002835 in 100 rounds\n",
    "    \n",
    "    \n",
    "    \n",
    "\n",
    "Best error: 0.002982 in 95 rounds   'max_depth':11 early_stopping_rounds=10 'eval_metric' : 'error'\n",
    "\n",
    "Best error: 0.002899 in 102 rounds  'max_depth':11 early_stopping_rounds=10 'eval_metric' : 'error'\n",
    "Best error: 0.002899 in 102 rounds  'max_depth':11 early_stopping_rounds=15 'eval_metric' : 'error'\n",
    "\n",
    "\n",
    "Best error: 0.008213 in 151 rounds  'max_depth':11 early_stopping_rounds=15 'eval_metric' : 'logloss' (знатно переобучается)\n",
    "Best error: 0.003116 in 84 rounds  'max_depth':10 early_stopping_rounds=15  'eval_metric' :'error'\n",
    "Best error: 0.00282 in 106 rounds  'max_depth':11 early_stopping_rounds=10\n",
    "Best error: 0.00282 in 106 rounds  'max_depth':13\n",
    "Best error: 0.003175 in 46 rounds  'max_depth':22\n",
    "Best error: 0.003056 in 41 rounds\n",
    "Best error: 0.003056 in 41 rounds\n",
    "Best error: 0.003155 in 45 rounds"
   ]
  },
  {
   "cell_type": "markdown",
   "metadata": {},
   "source": [
    "our_params = {'eta': 0.1, 'seed':0, 'subsample': 0.8, \n",
    "             'objective': 'binary:logistic', 'max_depth':22, 'min_child_weight':1,\n",
    "              'n_estimators': 10,'learning_rate': 0.1}"
   ]
  },
  {
   "cell_type": "code",
   "execution_count": null,
   "metadata": {
    "collapsed": true
   },
   "outputs": [],
   "source": [
    "xgb1.fit(xgtrain, y, eval_metric='auc')\n",
    "dtrain_predictions = xgb1.predict(xgtest)   "
   ]
  },
  {
   "cell_type": "code",
   "execution_count": 31,
   "metadata": {},
   "outputs": [
    {
     "name": "stdout",
     "output_type": "stream",
     "text": [
      "2017-11-11 15:45:09.945347\n",
      "--- 23.4603462219 sec ---\n"
     ]
    }
   ],
   "source": [
    "start_time = time.time()\n",
    "\n",
    "now = datetime.datetime.now()\n",
    "print (now)\n",
    "\n",
    "final_gb = xgb.train(our_params, xgdmat_train, num_boost_round = model.best_iteration+1)\n",
    "\n",
    "print(\"--- %s sec ---\" % (time.time() - start_time)) "
   ]
  },
  {
   "cell_type": "code",
   "execution_count": 34,
   "metadata": {},
   "outputs": [
    {
     "name": "stdout",
     "output_type": "stream",
     "text": [
      "('y_pred', array([ 0.00808874,  0.01248377,  0.00816265,  0.00808874,  0.00845189], dtype=float32))\n",
      "matrix_test_sm\n",
      "[[36345   266]\n",
      " [  109   249]]\n",
      "\n",
      "('test', 0.57044673539518898)\n",
      "('y_pred_f', array([ 0.00948131,  0.00816265,  0.00808874,  0.00845189,  0.00808874], dtype=float32))\n",
      "matrix_test\n",
      "[[45434   342]\n",
      " [  127   308]]\n",
      "\n",
      "('test', 0.56774193548387097)\n"
     ]
    }
   ],
   "source": [
    "y_pred = final_gb.predict(xgdmat) # Predict using our testdmat\n",
    "print ('y_pred', y_pred[:5])\n",
    "\n",
    "y_pred[y_pred > 0.2] = 1\n",
    "y_pred[y_pred <= 0.2] = 0\n",
    "\n",
    "\n",
    "print ('matrix_test_sm') \n",
    "print (metrics.confusion_matrix(y_test_sm, y_pred))\n",
    "print (\"\")\n",
    "print ('test', metrics.f1_score(y_test_sm, y_pred))\n",
    "\n",
    "\n",
    "# final\n",
    "\n",
    "y_pred_f = final_gb.predict(xgdmat_test_final) # Predict using our testdmat\n",
    "print ('y_pred_f', y_pred_f[:5])\n",
    "\n",
    "y_pred_f[y_pred_f > 0.2] = 1\n",
    "y_pred_f[y_pred_f <= 0.2] = 0\n",
    "\n",
    "\n",
    "print ('matrix_test') \n",
    "print (metrics.confusion_matrix(y_test, y_pred_f))\n",
    "print (\"\")\n",
    "print ('test', metrics.f1_score(y_test, y_pred_f))"
   ]
  },
  {
   "cell_type": "code",
   "execution_count": null,
   "metadata": {
    "collapsed": true
   },
   "outputs": [],
   "source": [
    "matrix_test\n",
    "[[50255     0]\n",
    " [    7   451]]\n",
    "\n",
    "('test', 0.99229922992299235)"
   ]
  },
  {
   "cell_type": "code",
   "execution_count": null,
   "metadata": {
    "collapsed": true
   },
   "outputs": [],
   "source": [
    "matrix_test\n",
    "[[50255     0]\n",
    " [   30   426]]\n",
    "\n",
    "('test', 0.94833524684270953)"
   ]
  },
  {
   "cell_type": "code",
   "execution_count": 40,
   "metadata": {},
   "outputs": [
    {
     "data": {
      "text/plain": [
       "27"
      ]
     },
     "execution_count": 40,
     "metadata": {},
     "output_type": "execute_result"
    }
   ],
   "source": [
    "fs = final_gb.get_fscore()\n",
    "len(fs)"
   ]
  },
  {
   "cell_type": "code",
   "execution_count": 46,
   "metadata": {
    "collapsed": true
   },
   "outputs": [],
   "source": [
    "for i in range(len(tos)):\n",
    "    tos.real = int(tos.feature[i].split('f')[-1])"
   ]
  },
  {
   "cell_type": "code",
   "execution_count": 47,
   "metadata": {},
   "outputs": [
    {
     "data": {
      "text/html": [
       "<div>\n",
       "<table border=\"1\" class=\"dataframe\">\n",
       "  <thead>\n",
       "    <tr style=\"text-align: right;\">\n",
       "      <th></th>\n",
       "      <th>feature</th>\n",
       "      <th>importance</th>\n",
       "      <th>real</th>\n",
       "    </tr>\n",
       "  </thead>\n",
       "  <tbody>\n",
       "    <tr>\n",
       "      <th>0</th>\n",
       "      <td>f0</td>\n",
       "      <td>827</td>\n",
       "      <td>f0</td>\n",
       "    </tr>\n",
       "    <tr>\n",
       "      <th>1</th>\n",
       "      <td>f1</td>\n",
       "      <td>386</td>\n",
       "      <td>f1</td>\n",
       "    </tr>\n",
       "    <tr>\n",
       "      <th>2</th>\n",
       "      <td>f2</td>\n",
       "      <td>1360</td>\n",
       "      <td>f2</td>\n",
       "    </tr>\n",
       "    <tr>\n",
       "      <th>3</th>\n",
       "      <td>f3</td>\n",
       "      <td>210</td>\n",
       "      <td>f3</td>\n",
       "    </tr>\n",
       "    <tr>\n",
       "      <th>4</th>\n",
       "      <td>f4</td>\n",
       "      <td>226</td>\n",
       "      <td>f4</td>\n",
       "    </tr>\n",
       "  </tbody>\n",
       "</table>\n",
       "</div>"
      ],
      "text/plain": [
       "  feature  importance real\n",
       "0      f0         827   f0\n",
       "1      f1         386   f1\n",
       "2      f2        1360   f2\n",
       "3      f3         210   f3\n",
       "4      f4         226   f4"
      ]
     },
     "execution_count": 47,
     "metadata": {},
     "output_type": "execute_result"
    }
   ],
   "source": [
    "tos = pd.DataFrame(final_gb.get_fscore().items(), columns=['feature','importance'])\n",
    "tos['real'] = tos.feature\n",
    "tos.head()"
   ]
  },
  {
   "cell_type": "code",
   "execution_count": 44,
   "metadata": {},
   "outputs": [
    {
     "data": {
      "text/plain": [
       "(27, 3)"
      ]
     },
     "execution_count": 44,
     "metadata": {},
     "output_type": "execute_result"
    }
   ],
   "source": [
    "tos.shape"
   ]
  },
  {
   "cell_type": "code",
   "execution_count": 45,
   "metadata": {},
   "outputs": [
    {
     "data": {
      "text/plain": [
       "37"
      ]
     },
     "execution_count": 45,
     "metadata": {},
     "output_type": "execute_result"
    }
   ],
   "source": [
    "len(fich_names)"
   ]
  },
  {
   "cell_type": "code",
   "execution_count": 48,
   "metadata": {
    "collapsed": true
   },
   "outputs": [],
   "source": [
    "importances = final_gb.get_fscore()\n",
    "#importances"
   ]
  },
  {
   "cell_type": "code",
   "execution_count": 49,
   "metadata": {},
   "outputs": [
    {
     "data": {
      "text/plain": [
       "<matplotlib.axes._subplots.AxesSubplot at 0x117984bd0>"
      ]
     },
     "execution_count": 49,
     "metadata": {},
     "output_type": "execute_result"
    },
    {
     "data": {
      "text/plain": [
       "<matplotlib.figure.Figure at 0x117270210>"
      ]
     },
     "metadata": {},
     "output_type": "display_data"
    },
    {
     "data": {
      "image/png": "[encoded data removed]",
      "text/plain": [
       "<matplotlib.figure.Figure at 0x117270650>"
      ]
     },
     "metadata": {},
     "output_type": "display_data"
    },
    {
     "data": {
      "image/png": "[encoded data removed]",
      "text/plain": [
       "<matplotlib.figure.Figure at 0x11726efd0>"
      ]
     },
     "metadata": {},
     "output_type": "display_data"
    }
   ],
   "source": [
    "features = fich_names\n",
    "df = pd.DataFrame({'Importance': list(importances.values()), 'Feature': list(importances.keys())})\n",
    "\n",
    "plt.figure()\n",
    "df.plot()\n",
    "df.plot(kind='barh', x='Feature', y='Importance', legend=False, figsize=(10, 25))"
   ]
  },
  {
   "cell_type": "code",
   "execution_count": 50,
   "metadata": {},
   "outputs": [
    {
     "data": {
      "text/plain": [
       "{'f0': 827,\n",
       " 'f1': 386,\n",
       " 'f10': 243,\n",
       " 'f11': 237,\n",
       " 'f12': 166,\n",
       " 'f13': 179,\n",
       " 'f14': 167,\n",
       " 'f15': 161,\n",
       " 'f16': 134,\n",
       " 'f17': 157,\n",
       " 'f18': 150,\n",
       " 'f19': 320,\n",
       " 'f2': 1360,\n",
       " 'f20': 54,\n",
       " 'f21': 10,\n",
       " 'f22': 10,\n",
       " 'f24': 19,\n",
       " 'f3': 210,\n",
       " 'f32': 30,\n",
       " 'f34': 37,\n",
       " 'f36': 48,\n",
       " 'f4': 226,\n",
       " 'f5': 209,\n",
       " 'f6': 223,\n",
       " 'f7': 240,\n",
       " 'f8': 212,\n",
       " 'f9': 220}"
      ]
     },
     "execution_count": 50,
     "metadata": {},
     "output_type": "execute_result"
    }
   ],
   "source": [
    "final_gb.get_fscore()"
   ]
  },
  {
   "cell_type": "code",
   "execution_count": 51,
   "metadata": {
    "collapsed": true
   },
   "outputs": [],
   "source": [
    "importances_full_set = importances\n",
    "most_important = []\n",
    "for i in list(importances_full_set.keys()):\n",
    "    if importances_full_set[i] > 20:\n",
    "        #print (int(i.split('f')[-1]), importances_full_set[i])\n",
    "        \n",
    "        most_important.append(int(i.split('f')[-1]))"
   ]
  },
  {
   "cell_type": "code",
   "execution_count": 52,
   "metadata": {
    "collapsed": true
   },
   "outputs": [],
   "source": [
    "np.save('most_important_fitures_XGBoo.npy', most_important)"
   ]
  },
  {
   "cell_type": "code",
   "execution_count": 53,
   "metadata": {},
   "outputs": [
    {
     "data": {
      "text/plain": [
       "<matplotlib.axes._subplots.AxesSubplot at 0x1170440d0>"
      ]
     },
     "execution_count": 53,
     "metadata": {},
     "output_type": "execute_result"
    },
    {
     "data": {
      "image/png": "[encoded data removed]",
      "text/plain": [
       "<matplotlib.figure.Figure at 0x1172702d0>"
      ]
     },
     "metadata": {},
     "output_type": "display_data"
    }
   ],
   "source": [
    "importance_frame = pd.DataFrame({'Importance': list(importances.values()), 'Feature': list(importances.keys())})\n",
    "#importance_frame.sort_values(by = 'Importance', inplace = True)\n",
    "importance_frame.plot(kind = 'barh', x = 'Feature', figsize = (20,20), color = 'orange')"
   ]
  },
  {
   "cell_type": "code",
   "execution_count": 59,
   "metadata": {},
   "outputs": [
    {
     "data": {
      "text/plain": [
       "<matplotlib.axes._subplots.AxesSubplot at 0x11994a710>"
      ]
     },
     "execution_count": 59,
     "metadata": {},
     "output_type": "execute_result"
    },
    {
     "data": {
      "image/png": "[encoded data removed]",
      "text/plain": [
       "<matplotlib.figure.Figure at 0x117a55710>"
      ]
     },
     "metadata": {},
     "output_type": "display_data"
    }
   ],
   "source": [
    "features = fich_names#[ \"your list of features ...\" ]\n",
    "mapFeat = dict(zip([\"f\"+str(i) for i in range(len(features))],features))\n",
    "ts = pd.Series(final_gb.get_fscore())\n",
    "ts.index = ts.reset_index()['index'].map(mapFeat)\n",
    "ts.order()[:].plot(kind=\"barh\", title=(\"features importance\"), figsize = (20,20))"
   ]
  },
  {
   "cell_type": "code",
   "execution_count": 60,
   "metadata": {},
   "outputs": [
    {
     "name": "stdout",
     "output_type": "stream",
     "text": [
      "2017-11-11 16:01:39.317989\n",
      "--- 40.7676851749 sec ---\n"
     ]
    }
   ],
   "source": [
    "# \n",
    "\n",
    "start_time = time.time()\n",
    "\n",
    "now = datetime.datetime.now()\n",
    "print (now)\n",
    "\n",
    "final_gb = xgb.train(our_params, xgdmat_for_evaluation, num_boost_round = model.best_iteration+1)\n",
    "\n",
    "print(\"--- %s sec ---\" % (time.time() - start_time)) "
   ]
  },
  {
   "cell_type": "code",
   "execution_count": null,
   "metadata": {
    "collapsed": true
   },
   "outputs": [],
   "source": []
  },
  {
   "cell_type": "code",
   "execution_count": null,
   "metadata": {
    "collapsed": true
   },
   "outputs": [],
   "source": []
  },
  {
   "cell_type": "code",
   "execution_count": null,
   "metadata": {
    "collapsed": true
   },
   "outputs": [],
   "source": []
  },
  {
   "cell_type": "code",
   "execution_count": null,
   "metadata": {
    "collapsed": true
   },
   "outputs": [],
   "source": []
  },
  {
   "cell_type": "code",
   "execution_count": 95,
   "metadata": {
    "collapsed": true
   },
   "outputs": [],
   "source": [
    "#Short\n",
    "\n",
    "most_important = np.load('most_important_fitures_XGBoo.npy')\n",
    "most_important[:10]\n",
    "\n",
    "# Делаю короткую выборку, в которой importances > 10\n",
    "X_short = X[:,(most_important)]\n",
    "\n",
    "X_TEST_short = X_TEST[:,(most_important)]\n",
    "\n",
    "#fich_names_short = fich_names[(most_important)]\n",
    "\n",
    "\n",
    "# Разбиение выборки\n",
    "X_train, X_test, y_train, y_test = train_test_split(X_short, y,\n",
    "                                                  test_size = 0.2,\n",
    "                                                  random_state=42)\n",
    "\n",
    "# Нормальное деление SHORT\n",
    "\n",
    "xgdmat_train = xgb.DMatrix(X_train, y_train) \n",
    "xgdmat_test = xgb.DMatrix(X_test, y_test) \n",
    "xgdmat = xgb.DMatrix(X_test) \n",
    "xgdmat_for_evaluation = xgb.DMatrix(X_short, y) \n",
    "\n",
    "xgdmat_TEST_short = xgb.DMatrix(X_TEST_short)"
   ]
  },
  {
   "cell_type": "code",
   "execution_count": 96,
   "metadata": {},
   "outputs": [
    {
     "name": "stdout",
     "output_type": "stream",
     "text": [
      "2017-11-02 19:14:29.035690\n",
      "--- 373.51574707 sec ---\n"
     ]
    }
   ],
   "source": [
    "start_time = time.time()\n",
    "\n",
    "now = datetime.datetime.now()\n",
    "print (now)\n",
    "\n",
    "final_gb = xgb.train(our_params, xgdmat_for_evaluation, num_boost_round = model.best_iteration+1)\n",
    "\n",
    "print(\"--- %s sec ---\" % (time.time() - start_time)) "
   ]
  },
  {
   "cell_type": "code",
   "execution_count": 61,
   "metadata": {},
   "outputs": [
    {
     "data": {
      "text/plain": [
       "array([ 0.0080699 ,  0.00965812,  0.00805329, ...,  0.0080699 ,\n",
       "        0.00815317,  0.0080699 ], dtype=float32)"
      ]
     },
     "execution_count": 61,
     "metadata": {},
     "output_type": "execute_result"
    }
   ],
   "source": [
    "y_pred = final_gb.predict(xgdmat) # Predict using our testdmat\n",
    "y_pred"
   ]
  },
  {
   "cell_type": "code",
   "execution_count": 98,
   "metadata": {},
   "outputs": [
    {
     "data": {
      "text/plain": [
       "array([ 0.,  0.,  0., ...,  0.,  0.,  0.], dtype=float32)"
      ]
     },
     "execution_count": 98,
     "metadata": {},
     "output_type": "execute_result"
    }
   ],
   "source": [
    "y_pred[y_pred > 0.5] = 1\n",
    "y_pred[y_pred <= 0.5] = 0\n",
    "y_pred"
   ]
  },
  {
   "cell_type": "code",
   "execution_count": 99,
   "metadata": {
    "scrolled": true
   },
   "outputs": [
    {
     "name": "stdout",
     "output_type": "stream",
     "text": [
      "matrix_test\n",
      "[[50255     0]\n",
      " [   11   447]]\n",
      "\n",
      "('test', 0.98784530386740321)\n"
     ]
    }
   ],
   "source": [
    "print ('matrix_test') \n",
    "print (metrics.confusion_matrix(y_test, y_pred))\n",
    "print (\"\")\n",
    "print ('test', metrics.f1_score(y_test, y_pred))"
   ]
  },
  {
   "cell_type": "markdown",
   "metadata": {},
   "source": [
    "matrix_test\n",
    "[[50255     0]\n",
    " [   31   427]]\n",
    "\n",
    "('test', 0.96497175141242941)"
   ]
  },
  {
   "cell_type": "markdown",
   "metadata": {},
   "source": [
    "# Передсказание на рабочем тесте\n",
    "# SUB 8\n"
   ]
  },
  {
   "cell_type": "code",
   "execution_count": 62,
   "metadata": {
    "collapsed": true
   },
   "outputs": [],
   "source": [
    "y_pred_TEST = final_gb.predict(xgdmat_TEST)"
   ]
  },
  {
   "cell_type": "code",
   "execution_count": 63,
   "metadata": {},
   "outputs": [
    {
     "data": {
      "text/plain": [
       "array([ 0.0080699 ,  0.0080699 ,  0.00876443, ...,  0.0080699 ,\n",
       "        0.0080699 ,  0.00805329], dtype=float32)"
      ]
     },
     "execution_count": 63,
     "metadata": {},
     "output_type": "execute_result"
    }
   ],
   "source": [
    "y_pred_TEST"
   ]
  },
  {
   "cell_type": "code",
   "execution_count": 64,
   "metadata": {},
   "outputs": [
    {
     "data": {
      "text/plain": [
       "array([ 0.54340696,  0.57383996,  0.5381155 ,  0.56924909,  0.64717114,\n",
       "        0.51104289,  0.80396217,  0.58617896,  0.65881169,  0.54871887,\n",
       "        0.77896971,  0.5775817 ,  0.82013297,  0.54524159,  0.76332915,\n",
       "        0.74115539,  0.55415303,  0.7250464 ,  0.74115539,  0.57833773,\n",
       "        0.65296692,  0.72182566,  0.59761012,  0.51361167,  0.68286818,\n",
       "        0.58122057,  0.57624531,  0.50459439,  0.63888669,  0.55447733,\n",
       "        0.53158915,  0.78065717,  0.52862722,  0.5034343 ,  0.56619996,\n",
       "        0.50446588,  0.67694873,  0.7646718 ,  0.6036945 ,  0.57714909,\n",
       "        0.59477925,  0.75095773,  0.56744373,  0.65608448,  0.69862747,\n",
       "        0.61756605,  0.77214211,  0.69042498], dtype=float32)"
      ]
     },
     "execution_count": 64,
     "metadata": {},
     "output_type": "execute_result"
    }
   ],
   "source": [
    "y_pred_TEST[y_pred_TEST>0.5]"
   ]
  },
  {
   "cell_type": "markdown",
   "metadata": {},
   "source": [
    "# загрузка с неполной выборкой"
   ]
  },
  {
   "cell_type": "code",
   "execution_count": 98,
   "metadata": {
    "collapsed": true
   },
   "outputs": [],
   "source": [
    "#82797\n",
    "nan_id = np.load('ind_from_nan.npy')\n",
    "not_nan_id = np.load('ind_from_not_nan.npy')\n",
    "zerr = np.zeros(len(nan_id))\n",
    "\n",
    "# создаю полную строку id\n",
    "session_id_full = np.hstack([not_nan_id,nan_id])\n",
    "\n",
    "p = y_pred_TEST\n",
    "\n",
    "# создаю полную строку ответов\n",
    "answ = np.hstack([p,zerr])\n",
    "\n"
   ]
  },
  {
   "cell_type": "code",
   "execution_count": 99,
   "metadata": {
    "collapsed": true
   },
   "outputs": [],
   "source": [
    "resalt_after_pred = np.vstack([not_nan_id, p])\n",
    "resalt_for_0 = np.vstack([nan_id, zerr])\n",
    "resalt = np.hstack([resalt_after_pred, resalt_for_0])"
   ]
  },
  {
   "cell_type": "code",
   "execution_count": 100,
   "metadata": {},
   "outputs": [
    {
     "data": {
      "text/plain": [
       "array([[  1.00000000e+00,   2.00000000e+00,   3.00000000e+00, ...,\n",
       "          8.27500000e+04,   8.27690000e+04,   8.27930000e+04],\n",
       "       [  8.06990080e-03,   8.06990080e-03,   8.76443181e-03, ...,\n",
       "          0.00000000e+00,   0.00000000e+00,   0.00000000e+00]])"
      ]
     },
     "execution_count": 100,
     "metadata": {},
     "output_type": "execute_result"
    }
   ],
   "source": [
    "resalt"
   ]
  },
  {
   "cell_type": "code",
   "execution_count": 101,
   "metadata": {},
   "outputs": [
    {
     "data": {
      "text/plain": [
       "array([[  1.00000000e+00,   8.06990080e-03],\n",
       "       [  2.00000000e+00,   8.06990080e-03],\n",
       "       [  3.00000000e+00,   8.76443181e-03],\n",
       "       [  4.00000000e+00,   8.05329066e-03],\n",
       "       [  5.00000000e+00,   8.29802733e-03],\n",
       "       [  6.00000000e+00,   8.06990080e-03],\n",
       "       [  7.00000000e+00,   8.29802733e-03],\n",
       "       [  9.00000000e+00,   8.06990080e-03],\n",
       "       [  1.00000000e+01,   8.06990080e-03],\n",
       "       [  1.10000000e+01,   9.46080871e-03]])"
      ]
     },
     "execution_count": 101,
     "metadata": {},
     "output_type": "execute_result"
    }
   ],
   "source": [
    "resalt.T[:10]"
   ]
  },
  {
   "cell_type": "code",
   "execution_count": 102,
   "metadata": {},
   "outputs": [
    {
     "data": {
      "text/plain": [
       "array([    1,     2,     3, ..., 82750, 82769, 82793])"
      ]
     },
     "execution_count": 102,
     "metadata": {},
     "output_type": "execute_result"
    }
   ],
   "source": [
    "session_id_full"
   ]
  },
  {
   "cell_type": "code",
   "execution_count": 103,
   "metadata": {},
   "outputs": [
    {
     "data": {
      "text/plain": [
       "array([    8,    22,    34, ..., 82750, 82769, 82793])"
      ]
     },
     "execution_count": 103,
     "metadata": {},
     "output_type": "execute_result"
    }
   ],
   "source": [
    "nan_id"
   ]
  },
  {
   "cell_type": "code",
   "execution_count": 104,
   "metadata": {},
   "outputs": [
    {
     "data": {
      "text/plain": [
       "array([ 1,  2,  3,  4,  5,  6,  7,  9, 10, 11])"
      ]
     },
     "execution_count": 104,
     "metadata": {},
     "output_type": "execute_result"
    }
   ],
   "source": [
    "not_nan_id[:10]"
   ]
  },
  {
   "cell_type": "code",
   "execution_count": 118,
   "metadata": {},
   "outputs": [
    {
     "data": {
      "text/html": [
       "<div>\n",
       "<table border=\"1\" class=\"dataframe\">\n",
       "  <thead>\n",
       "    <tr style=\"text-align: right;\">\n",
       "      <th></th>\n",
       "      <th>session_id</th>\n",
       "      <th>target</th>\n",
       "    </tr>\n",
       "  </thead>\n",
       "  <tbody>\n",
       "    <tr>\n",
       "      <th>0</th>\n",
       "      <td>1</td>\n",
       "      <td>0.008070</td>\n",
       "    </tr>\n",
       "    <tr>\n",
       "      <th>1</th>\n",
       "      <td>2</td>\n",
       "      <td>0.008070</td>\n",
       "    </tr>\n",
       "    <tr>\n",
       "      <th>2</th>\n",
       "      <td>3</td>\n",
       "      <td>0.008764</td>\n",
       "    </tr>\n",
       "    <tr>\n",
       "      <th>3</th>\n",
       "      <td>4</td>\n",
       "      <td>0.008053</td>\n",
       "    </tr>\n",
       "    <tr>\n",
       "      <th>4</th>\n",
       "      <td>5</td>\n",
       "      <td>0.008298</td>\n",
       "    </tr>\n",
       "    <tr>\n",
       "      <th>5</th>\n",
       "      <td>6</td>\n",
       "      <td>0.008070</td>\n",
       "    </tr>\n",
       "    <tr>\n",
       "      <th>6</th>\n",
       "      <td>7</td>\n",
       "      <td>0.008298</td>\n",
       "    </tr>\n",
       "    <tr>\n",
       "      <th>7</th>\n",
       "      <td>9</td>\n",
       "      <td>0.008070</td>\n",
       "    </tr>\n",
       "    <tr>\n",
       "      <th>8</th>\n",
       "      <td>10</td>\n",
       "      <td>0.008070</td>\n",
       "    </tr>\n",
       "    <tr>\n",
       "      <th>9</th>\n",
       "      <td>11</td>\n",
       "      <td>0.009461</td>\n",
       "    </tr>\n",
       "  </tbody>\n",
       "</table>\n",
       "</div>"
      ],
      "text/plain": [
       "   session_id    target\n",
       "0           1  0.008070\n",
       "1           2  0.008070\n",
       "2           3  0.008764\n",
       "3           4  0.008053\n",
       "4           5  0.008298\n",
       "5           6  0.008070\n",
       "6           7  0.008298\n",
       "7           9  0.008070\n",
       "8          10  0.008070\n",
       "9          11  0.009461"
      ]
     },
     "execution_count": 118,
     "metadata": {},
     "output_type": "execute_result"
    }
   ],
   "source": [
    "#d = {'session_id': session_id_full, 'target': answ}\n",
    "b = pd.DataFrame(data=resalt.T )\n",
    "b.columns = ['session_id', 'target']\n",
    "b.head(10)"
   ]
  },
  {
   "cell_type": "code",
   "execution_count": 119,
   "metadata": {},
   "outputs": [
    {
     "data": {
      "text/html": [
       "<div>\n",
       "<table border=\"1\" class=\"dataframe\">\n",
       "  <thead>\n",
       "    <tr style=\"text-align: right;\">\n",
       "      <th></th>\n",
       "      <th>session_id</th>\n",
       "      <th>target</th>\n",
       "    </tr>\n",
       "  </thead>\n",
       "  <tbody>\n",
       "    <tr>\n",
       "      <th>82787</th>\n",
       "      <td>82678</td>\n",
       "      <td>0</td>\n",
       "    </tr>\n",
       "    <tr>\n",
       "      <th>82788</th>\n",
       "      <td>82682</td>\n",
       "      <td>0</td>\n",
       "    </tr>\n",
       "    <tr>\n",
       "      <th>82789</th>\n",
       "      <td>82685</td>\n",
       "      <td>0</td>\n",
       "    </tr>\n",
       "    <tr>\n",
       "      <th>82790</th>\n",
       "      <td>82689</td>\n",
       "      <td>0</td>\n",
       "    </tr>\n",
       "    <tr>\n",
       "      <th>82791</th>\n",
       "      <td>82692</td>\n",
       "      <td>0</td>\n",
       "    </tr>\n",
       "    <tr>\n",
       "      <th>82792</th>\n",
       "      <td>82724</td>\n",
       "      <td>0</td>\n",
       "    </tr>\n",
       "    <tr>\n",
       "      <th>82793</th>\n",
       "      <td>82726</td>\n",
       "      <td>0</td>\n",
       "    </tr>\n",
       "    <tr>\n",
       "      <th>82794</th>\n",
       "      <td>82750</td>\n",
       "      <td>0</td>\n",
       "    </tr>\n",
       "    <tr>\n",
       "      <th>82795</th>\n",
       "      <td>82769</td>\n",
       "      <td>0</td>\n",
       "    </tr>\n",
       "    <tr>\n",
       "      <th>82796</th>\n",
       "      <td>82793</td>\n",
       "      <td>0</td>\n",
       "    </tr>\n",
       "  </tbody>\n",
       "</table>\n",
       "</div>"
      ],
      "text/plain": [
       "       session_id  target\n",
       "82787       82678       0\n",
       "82788       82682       0\n",
       "82789       82685       0\n",
       "82790       82689       0\n",
       "82791       82692       0\n",
       "82792       82724       0\n",
       "82793       82726       0\n",
       "82794       82750       0\n",
       "82795       82769       0\n",
       "82796       82793       0"
      ]
     },
     "execution_count": 119,
     "metadata": {},
     "output_type": "execute_result"
    }
   ],
   "source": [
    "b.tail(10)"
   ]
  },
  {
   "cell_type": "code",
   "execution_count": 120,
   "metadata": {},
   "outputs": [
    {
     "data": {
      "text/html": [
       "<div>\n",
       "<table border=\"1\" class=\"dataframe\">\n",
       "  <thead>\n",
       "    <tr style=\"text-align: right;\">\n",
       "      <th></th>\n",
       "      <th>session_id</th>\n",
       "      <th>target</th>\n",
       "    </tr>\n",
       "  </thead>\n",
       "  <tbody>\n",
       "    <tr>\n",
       "      <th>0</th>\n",
       "      <td>1</td>\n",
       "      <td>0.008070</td>\n",
       "    </tr>\n",
       "    <tr>\n",
       "      <th>1</th>\n",
       "      <td>2</td>\n",
       "      <td>0.008070</td>\n",
       "    </tr>\n",
       "    <tr>\n",
       "      <th>2</th>\n",
       "      <td>3</td>\n",
       "      <td>0.008764</td>\n",
       "    </tr>\n",
       "    <tr>\n",
       "      <th>3</th>\n",
       "      <td>4</td>\n",
       "      <td>0.008053</td>\n",
       "    </tr>\n",
       "    <tr>\n",
       "      <th>4</th>\n",
       "      <td>5</td>\n",
       "      <td>0.008298</td>\n",
       "    </tr>\n",
       "    <tr>\n",
       "      <th>5</th>\n",
       "      <td>6</td>\n",
       "      <td>0.008070</td>\n",
       "    </tr>\n",
       "    <tr>\n",
       "      <th>6</th>\n",
       "      <td>7</td>\n",
       "      <td>0.008298</td>\n",
       "    </tr>\n",
       "    <tr>\n",
       "      <th>7</th>\n",
       "      <td>9</td>\n",
       "      <td>0.008070</td>\n",
       "    </tr>\n",
       "    <tr>\n",
       "      <th>8</th>\n",
       "      <td>10</td>\n",
       "      <td>0.008070</td>\n",
       "    </tr>\n",
       "    <tr>\n",
       "      <th>9</th>\n",
       "      <td>11</td>\n",
       "      <td>0.009461</td>\n",
       "    </tr>\n",
       "  </tbody>\n",
       "</table>\n",
       "</div>"
      ],
      "text/plain": [
       "   session_id    target\n",
       "0           1  0.008070\n",
       "1           2  0.008070\n",
       "2           3  0.008764\n",
       "3           4  0.008053\n",
       "4           5  0.008298\n",
       "5           6  0.008070\n",
       "6           7  0.008298\n",
       "7           9  0.008070\n",
       "8          10  0.008070\n",
       "9          11  0.009461"
      ]
     },
     "execution_count": 120,
     "metadata": {},
     "output_type": "execute_result"
    }
   ],
   "source": [
    "#создаю датафрейм ответа\n",
    "d = {'session_id': session_id_full, 'target': answ}\n",
    "a = pd.DataFrame(data=d )\n",
    "a.head(10)\n",
    "\n"
   ]
  },
  {
   "cell_type": "code",
   "execution_count": 125,
   "metadata": {},
   "outputs": [
    {
     "data": {
      "text/plain": [
       "session_id    True\n",
       "target        True\n",
       "dtype: bool"
      ]
     },
     "execution_count": 125,
     "metadata": {},
     "output_type": "execute_result"
    }
   ],
   "source": [
    "(a == b).all()"
   ]
  },
  {
   "cell_type": "code",
   "execution_count": 126,
   "metadata": {},
   "outputs": [
    {
     "data": {
      "text/html": [
       "<div>\n",
       "<table border=\"1\" class=\"dataframe\">\n",
       "  <thead>\n",
       "    <tr style=\"text-align: right;\">\n",
       "      <th></th>\n",
       "      <th>session_id</th>\n",
       "      <th>target</th>\n",
       "    </tr>\n",
       "  </thead>\n",
       "  <tbody>\n",
       "    <tr>\n",
       "      <th>0</th>\n",
       "      <td>1</td>\n",
       "      <td>0.008070</td>\n",
       "    </tr>\n",
       "    <tr>\n",
       "      <th>1</th>\n",
       "      <td>2</td>\n",
       "      <td>0.008070</td>\n",
       "    </tr>\n",
       "    <tr>\n",
       "      <th>2</th>\n",
       "      <td>3</td>\n",
       "      <td>0.008764</td>\n",
       "    </tr>\n",
       "    <tr>\n",
       "      <th>3</th>\n",
       "      <td>4</td>\n",
       "      <td>0.008053</td>\n",
       "    </tr>\n",
       "    <tr>\n",
       "      <th>4</th>\n",
       "      <td>5</td>\n",
       "      <td>0.008298</td>\n",
       "    </tr>\n",
       "  </tbody>\n",
       "</table>\n",
       "</div>"
      ],
      "text/plain": [
       "   session_id    target\n",
       "0           1  0.008070\n",
       "1           2  0.008070\n",
       "2           3  0.008764\n",
       "3           4  0.008053\n",
       "4           5  0.008298"
      ]
     },
     "execution_count": 126,
     "metadata": {},
     "output_type": "execute_result"
    }
   ],
   "source": [
    "a.to_csv('TEST_11_nov_SUB.csv', sep=',', index=False)\n",
    "a.head()"
   ]
  },
  {
   "cell_type": "code",
   "execution_count": null,
   "metadata": {
    "collapsed": true
   },
   "outputs": [],
   "source": []
  },
  {
   "cell_type": "code",
   "execution_count": 102,
   "metadata": {
    "scrolled": true
   },
   "outputs": [
    {
     "name": "stdout",
     "output_type": "stream",
     "text": [
      "82797\n",
      "82797\n"
     ]
    },
    {
     "data": {
      "text/html": [
       "<div>\n",
       "<table border=\"1\" class=\"dataframe\">\n",
       "  <thead>\n",
       "    <tr style=\"text-align: right;\">\n",
       "      <th></th>\n",
       "      <th>session_id</th>\n",
       "      <th>target</th>\n",
       "    </tr>\n",
       "  </thead>\n",
       "  <tbody>\n",
       "    <tr>\n",
       "      <th>0</th>\n",
       "      <td>1</td>\n",
       "      <td>0.005327</td>\n",
       "    </tr>\n",
       "    <tr>\n",
       "      <th>1</th>\n",
       "      <td>2</td>\n",
       "      <td>0.005326</td>\n",
       "    </tr>\n",
       "    <tr>\n",
       "      <th>2</th>\n",
       "      <td>3</td>\n",
       "      <td>0.008781</td>\n",
       "    </tr>\n",
       "    <tr>\n",
       "      <th>3</th>\n",
       "      <td>4</td>\n",
       "      <td>0.003490</td>\n",
       "    </tr>\n",
       "    <tr>\n",
       "      <th>4</th>\n",
       "      <td>5</td>\n",
       "      <td>0.020907</td>\n",
       "    </tr>\n",
       "  </tbody>\n",
       "</table>\n",
       "</div>"
      ],
      "text/plain": [
       "   session_id    target\n",
       "0           1  0.005327\n",
       "1           2  0.005326\n",
       "2           3  0.008781\n",
       "3           4  0.003490\n",
       "4           5  0.020907"
      ]
     },
     "execution_count": 102,
     "metadata": {},
     "output_type": "execute_result"
    }
   ],
   "source": [
    "# Подготовка к загрузке на кегл\n",
    "p = y_pred_TEST\n",
    "\n",
    "# Преобразования ответа\n",
    "\n",
    "\n",
    "\n",
    "# создаю полную строку сессий\n",
    "session_id_full = range(1, len(p)+1)\n",
    "\n",
    "print (len(session_id_full))\n",
    "print (len(p))\n",
    "\n",
    "#создаю датафрейм ответа\n",
    "d = {'session_id': session_id_full, 'target': p}\n",
    "a = pd.DataFrame(data=d )\n",
    "a.head()\n",
    "\n",
    "a.to_csv('TEST_8_SUB.csv', sep=',', index=False)\n",
    "a.head()"
   ]
  },
  {
   "cell_type": "code",
   "execution_count": 115,
   "metadata": {
    "collapsed": true
   },
   "outputs": [],
   "source": [
    "# загружаю номера сессий с нанами (они не участвовали ни в обучении, ни в тесте)\n",
    "nan_id = np.load('nan_id.npy')"
   ]
  },
  {
   "cell_type": "code",
   "execution_count": 116,
   "metadata": {},
   "outputs": [
    {
     "data": {
      "text/plain": [
       "array([    8,    22,    34, ..., 82750, 82769, 82793])"
      ]
     },
     "execution_count": 116,
     "metadata": {},
     "output_type": "execute_result"
    }
   ],
   "source": [
    "nan_id"
   ]
  },
  {
   "cell_type": "code",
   "execution_count": 126,
   "metadata": {},
   "outputs": [
    {
     "data": {
      "text/plain": [
       "[array([ 0.00428744], dtype=float32),\n",
       " array([ 0.00832282], dtype=float32),\n",
       " array([ 0.00028273], dtype=float32),\n",
       " array([ 0.01279459], dtype=float32),\n",
       " array([ 0.00745319], dtype=float32),\n",
       " array([ 0.00950533], dtype=float32),\n",
       " array([ 0.00618406], dtype=float32),\n",
       " array([  4.97042492e-05], dtype=float32),\n",
       " array([ 0.0055753], dtype=float32),\n",
       " array([ 0.00342923], dtype=float32),\n",
       " array([  9.07303838e-05], dtype=float32),\n",
       " array([ 0.00511674], dtype=float32),\n",
       " array([ 0.00587543], dtype=float32),\n",
       " array([ 0.0038129], dtype=float32),\n",
       " array([ 0.00632716], dtype=float32),\n",
       " array([ 0.00456197], dtype=float32),\n",
       " array([ 0.00049724], dtype=float32),\n",
       " array([  7.78604153e-05], dtype=float32),\n",
       " array([  9.30806709e-05], dtype=float32),\n",
       " array([ 0.0001037], dtype=float32),\n",
       " array([ 0.0045331], dtype=float32),\n",
       " array([  6.77430507e-05], dtype=float32),\n",
       " array([ 0.0001788], dtype=float32),\n",
       " array([ 0.00468619], dtype=float32),\n",
       " array([ 0.00443031], dtype=float32),\n",
       " array([ 0.00035308], dtype=float32),\n",
       " array([ 0.00032259], dtype=float32),\n",
       " array([ 0.00861985], dtype=float32),\n",
       " array([ 0.00417494], dtype=float32),\n",
       " array([ 0.00273211], dtype=float32),\n",
       " array([ 0.00693926], dtype=float32),\n",
       " array([ 0.01877168], dtype=float32),\n",
       " array([ 0.0097723], dtype=float32),\n",
       " array([  7.78604153e-05], dtype=float32),\n",
       " array([ 0.0006125], dtype=float32),\n",
       " array([ 0.00230234], dtype=float32),\n",
       " array([ 0.01322413], dtype=float32),\n",
       " array([ 0.00428482], dtype=float32),\n",
       " array([ 0.00810152], dtype=float32),\n",
       " array([ 0.0001037], dtype=float32),\n",
       " array([ 0.01251235], dtype=float32),\n",
       " array([ 0.00407241], dtype=float32),\n",
       " array([  3.09979841e-05], dtype=float32),\n",
       " array([ 0.0045466], dtype=float32),\n",
       " array([  6.53006573e-05], dtype=float32),\n",
       " array([  9.90267727e-05], dtype=float32),\n",
       " array([ 0.00331544], dtype=float32),\n",
       " array([  7.49351384e-05], dtype=float32),\n",
       " array([ 0.00328371], dtype=float32),\n",
       " array([ 0.00582239], dtype=float32),\n",
       " array([ 0.0058096], dtype=float32),\n",
       " array([ 0.00985687], dtype=float32),\n",
       " array([ 0.00628855], dtype=float32),\n",
       " array([ 0.00836301], dtype=float32),\n",
       " array([ 0.00339316], dtype=float32),\n",
       " array([ 0.00251046], dtype=float32),\n",
       " array([  3.43038337e-05], dtype=float32),\n",
       " array([  5.88770272e-05], dtype=float32),\n",
       " array([ 0.0001035], dtype=float32),\n",
       " array([ 0.00391713], dtype=float32),\n",
       " array([ 0.01488211], dtype=float32),\n",
       " array([  6.15532044e-05], dtype=float32),\n",
       " array([ 0.00047293], dtype=float32),\n",
       " array([ 0.00012091], dtype=float32),\n",
       " array([ 0.00636366], dtype=float32),\n",
       " array([ 0.01168268], dtype=float32),\n",
       " array([  6.68474604e-05], dtype=float32),\n",
       " array([ 0.00882432], dtype=float32),\n",
       " array([ 0.00508576], dtype=float32),\n",
       " array([ 0.00064544], dtype=float32),\n",
       " array([ 0.00396979], dtype=float32),\n",
       " array([ 0.0031803], dtype=float32),\n",
       " array([ 0.00622932], dtype=float32),\n",
       " array([ 0.00028621], dtype=float32),\n",
       " array([ 0.00353918], dtype=float32),\n",
       " array([ 0.00462369], dtype=float32),\n",
       " array([  6.81520323e-05], dtype=float32),\n",
       " array([ 0.0033699], dtype=float32),\n",
       " array([ 0.00011226], dtype=float32),\n",
       " array([ 0.00570703], dtype=float32),\n",
       " array([ 0.01149364], dtype=float32),\n",
       " array([ 0.00086176], dtype=float32),\n",
       " array([  8.28264965e-05], dtype=float32),\n",
       " array([  8.63327732e-05], dtype=float32),\n",
       " array([  4.23321435e-05], dtype=float32),\n",
       " array([ 0.00332107], dtype=float32),\n",
       " array([ 0.0061572], dtype=float32),\n",
       " array([ 0.0002235], dtype=float32),\n",
       " array([ 0.00785762], dtype=float32),\n",
       " array([ 0.00345894], dtype=float32),\n",
       " array([ 0.00560036], dtype=float32),\n",
       " array([  9.27921064e-05], dtype=float32),\n",
       " array([ 0.00011372], dtype=float32),\n",
       " array([ 0.00133742], dtype=float32),\n",
       " array([  5.42541748e-05], dtype=float32),\n",
       " array([ 0.00511518], dtype=float32),\n",
       " array([ 0.00798268], dtype=float32),\n",
       " array([ 0.00231478], dtype=float32),\n",
       " array([ 0.0030573], dtype=float32),\n",
       " array([ 0.00627877], dtype=float32),\n",
       " array([ 0.00592526], dtype=float32),\n",
       " array([ 0.01028711], dtype=float32),\n",
       " array([ 0.00766414], dtype=float32),\n",
       " array([ 0.00348437], dtype=float32),\n",
       " array([ 0.00058304], dtype=float32),\n",
       " array([ 0.00398148], dtype=float32),\n",
       " array([ 0.00893593], dtype=float32),\n",
       " array([ 0.00498932], dtype=float32),\n",
       " array([  6.20024657e-05], dtype=float32),\n",
       " array([ 0.00654989], dtype=float32),\n",
       " array([ 0.0049122], dtype=float32),\n",
       " array([ 0.00410399], dtype=float32),\n",
       " array([ 0.00338215], dtype=float32),\n",
       " array([ 0.00578224], dtype=float32),\n",
       " array([ 0.01663245], dtype=float32),\n",
       " array([  3.33964090e-05], dtype=float32),\n",
       " array([  8.35666942e-05], dtype=float32),\n",
       " array([ 0.0149282], dtype=float32),\n",
       " array([ 0.00062539], dtype=float32),\n",
       " array([ 0.00502308], dtype=float32),\n",
       " array([ 0.01476812], dtype=float32),\n",
       " array([ 0.01670224], dtype=float32),\n",
       " array([ 0.00790166], dtype=float32),\n",
       " array([ 0.01165742], dtype=float32),\n",
       " array([ 0.00514546], dtype=float32),\n",
       " array([ 0.00358742], dtype=float32),\n",
       " array([ 0.00315455], dtype=float32),\n",
       " array([ 0.00269585], dtype=float32),\n",
       " array([ 0.00064691], dtype=float32),\n",
       " array([ 0.00011591], dtype=float32),\n",
       " array([ 0.00405315], dtype=float32),\n",
       " array([ 0.00740626], dtype=float32),\n",
       " array([ 0.00695965], dtype=float32),\n",
       " array([ 0.00050767], dtype=float32),\n",
       " array([  7.33987472e-05], dtype=float32),\n",
       " array([ 0.00791821], dtype=float32),\n",
       " array([ 0.0141459], dtype=float32),\n",
       " array([ 0.00666037], dtype=float32),\n",
       " array([ 0.000507], dtype=float32),\n",
       " array([ 0.00295292], dtype=float32),\n",
       " array([ 0.00012539], dtype=float32),\n",
       " array([ 0.01509605], dtype=float32),\n",
       " array([ 0.00434721], dtype=float32),\n",
       " array([ 0.0073915], dtype=float32),\n",
       " array([ 0.00599534], dtype=float32),\n",
       " array([ 0.00024192], dtype=float32),\n",
       " array([ 0.00085202], dtype=float32),\n",
       " array([ 0.00785353], dtype=float32),\n",
       " array([ 0.00024537], dtype=float32),\n",
       " array([ 0.00582071], dtype=float32),\n",
       " array([ 0.00217406], dtype=float32),\n",
       " array([  6.15532044e-05], dtype=float32),\n",
       " array([ 0.01115044], dtype=float32),\n",
       " array([ 0.0067197], dtype=float32),\n",
       " array([ 0.00355185], dtype=float32),\n",
       " array([ 0.00590993], dtype=float32),\n",
       " array([ 0.00036414], dtype=float32),\n",
       " array([ 0.00658651], dtype=float32),\n",
       " array([ 0.00274621], dtype=float32),\n",
       " array([ 0.0050289], dtype=float32),\n",
       " array([ 0.00370205], dtype=float32),\n",
       " array([  5.46615302e-05], dtype=float32),\n",
       " array([  6.15532044e-05], dtype=float32),\n",
       " array([ 0.00765408], dtype=float32),\n",
       " array([ 0.01656609], dtype=float32),\n",
       " array([ 0.00596258], dtype=float32),\n",
       " array([ 0.00030954], dtype=float32),\n",
       " array([  6.95786148e-05], dtype=float32),\n",
       " array([ 0.01371575], dtype=float32),\n",
       " array([ 0.01001236], dtype=float32),\n",
       " array([ 0.00539654], dtype=float32),\n",
       " array([  9.02371830e-05], dtype=float32),\n",
       " array([ 0.00593769], dtype=float32),\n",
       " array([ 0.00474126], dtype=float32),\n",
       " array([ 0.00585224], dtype=float32),\n",
       " array([ 0.00044443], dtype=float32),\n",
       " array([ 0.00203805], dtype=float32),\n",
       " array([ 0.00317366], dtype=float32),\n",
       " array([ 0.00475834], dtype=float32),\n",
       " array([ 0.00216372], dtype=float32),\n",
       " array([ 0.01701625], dtype=float32),\n",
       " array([ 0.01352882], dtype=float32),\n",
       " array([ 0.00481344], dtype=float32),\n",
       " array([ 0.00199197], dtype=float32),\n",
       " array([ 0.00230804], dtype=float32),\n",
       " array([ 0.00025529], dtype=float32),\n",
       " array([ 0.00437842], dtype=float32),\n",
       " array([ 0.00010805], dtype=float32),\n",
       " array([ 0.00534362], dtype=float32),\n",
       " array([ 0.00334928], dtype=float32),\n",
       " array([ 0.00887859], dtype=float32),\n",
       " array([  9.96920862e-05], dtype=float32),\n",
       " array([ 0.00374431], dtype=float32),\n",
       " array([ 0.00716706], dtype=float32),\n",
       " array([ 0.00505288], dtype=float32),\n",
       " array([ 0.01751794], dtype=float32),\n",
       " array([  8.19281559e-05], dtype=float32),\n",
       " array([  8.45688483e-05], dtype=float32),\n",
       " array([ 0.00633891], dtype=float32),\n",
       " array([ 0.00441857], dtype=float32),\n",
       " array([ 0.00523616], dtype=float32),\n",
       " array([ 0.00459131], dtype=float32),\n",
       " array([  6.77430507e-05], dtype=float32),\n",
       " array([ 0.00352724], dtype=float32),\n",
       " array([ 0.00385274], dtype=float32),\n",
       " array([ 0.00299531], dtype=float32),\n",
       " array([ 0.00022957], dtype=float32),\n",
       " array([ 0.00392741], dtype=float32),\n",
       " array([ 0.00712575], dtype=float32),\n",
       " array([ 0.00034441], dtype=float32),\n",
       " array([ 0.00577333], dtype=float32),\n",
       " array([ 0.01272929], dtype=float32),\n",
       " array([ 0.00036424], dtype=float32),\n",
       " array([ 0.007561], dtype=float32),\n",
       " array([  8.19376073e-05], dtype=float32),\n",
       " array([ 0.00320276], dtype=float32),\n",
       " array([ 0.01168946], dtype=float32),\n",
       " array([ 0.00442817], dtype=float32),\n",
       " array([ 0.00845997], dtype=float32),\n",
       " array([ 0.00713938], dtype=float32),\n",
       " array([ 0.00365787], dtype=float32),\n",
       " array([  5.88770272e-05], dtype=float32),\n",
       " array([ 0.01165705], dtype=float32),\n",
       " array([ 0.00748344], dtype=float32),\n",
       " array([ 0.00543321], dtype=float32),\n",
       " array([ 0.00506468], dtype=float32),\n",
       " array([ 0.01072666], dtype=float32),\n",
       " array([ 0.00830683], dtype=float32),\n",
       " array([ 0.00783438], dtype=float32),\n",
       " array([ 0.00579425], dtype=float32),\n",
       " array([ 0.00578951], dtype=float32),\n",
       " array([ 0.00328155], dtype=float32),\n",
       " array([  7.25260470e-05], dtype=float32),\n",
       " array([ 0.00538328], dtype=float32),\n",
       " array([ 0.00588498], dtype=float32),\n",
       " array([ 0.00431017], dtype=float32),\n",
       " array([ 0.00549499], dtype=float32),\n",
       " array([ 0.00701437], dtype=float32),\n",
       " array([  6.67757849e-05], dtype=float32),\n",
       " array([ 0.00590366], dtype=float32),\n",
       " array([ 0.021342], dtype=float32),\n",
       " array([ 0.00572152], dtype=float32),\n",
       " array([ 0.01801453], dtype=float32),\n",
       " array([ 0.00267593], dtype=float32),\n",
       " array([ 0.00248567], dtype=float32),\n",
       " array([ 0.00667236], dtype=float32),\n",
       " array([ 0.0041003], dtype=float32),\n",
       " array([ 0.00332731], dtype=float32),\n",
       " array([ 0.00273281], dtype=float32),\n",
       " array([ 0.0035848], dtype=float32),\n",
       " array([ 0.01300372], dtype=float32),\n",
       " array([ 0.01270328], dtype=float32),\n",
       " array([ 0.00682446], dtype=float32),\n",
       " array([ 0.00405204], dtype=float32),\n",
       " array([ 0.0045324], dtype=float32),\n",
       " array([ 0.01099098], dtype=float32),\n",
       " array([ 0.00469316], dtype=float32),\n",
       " array([ 0.00598644], dtype=float32),\n",
       " array([ 0.00382654], dtype=float32),\n",
       " array([  6.24560198e-05], dtype=float32),\n",
       " array([  6.43389867e-05], dtype=float32),\n",
       " array([ 0.00111765], dtype=float32),\n",
       " array([ 0.00482749], dtype=float32),\n",
       " array([ 0.00044694], dtype=float32),\n",
       " array([ 0.00889881], dtype=float32),\n",
       " array([ 0.0001037], dtype=float32),\n",
       " array([  6.76912605e-05], dtype=float32),\n",
       " array([ 0.00512157], dtype=float32),\n",
       " array([ 0.00013001], dtype=float32),\n",
       " array([  7.24422716e-05], dtype=float32),\n",
       " array([ 0.00708142], dtype=float32),\n",
       " array([ 0.00494178], dtype=float32),\n",
       " array([ 0.0043415], dtype=float32),\n",
       " array([  5.04901654e-05], dtype=float32),\n",
       " array([ 0.00799266], dtype=float32),\n",
       " array([ 0.00388796], dtype=float32),\n",
       " array([ 0.00061863], dtype=float32),\n",
       " array([  8.72353921e-05], dtype=float32),\n",
       " array([ 0.01584809], dtype=float32),\n",
       " array([ 0.0015148], dtype=float32),\n",
       " array([ 0.00642439], dtype=float32),\n",
       " array([  7.13858535e-05], dtype=float32),\n",
       " array([ 0.00646556], dtype=float32),\n",
       " array([ 0.00135349], dtype=float32),\n",
       " array([ 0.00573346], dtype=float32),\n",
       " array([ 0.00339065], dtype=float32),\n",
       " array([ 0.00010174], dtype=float32),\n",
       " array([ 0.00489817], dtype=float32),\n",
       " array([ 0.00819094], dtype=float32),\n",
       " array([ 0.00328113], dtype=float32),\n",
       " array([ 0.00901824], dtype=float32),\n",
       " array([ 0.00010256], dtype=float32),\n",
       " array([ 0.00028903], dtype=float32),\n",
       " array([ 0.02239985], dtype=float32),\n",
       " array([ 0.00502493], dtype=float32),\n",
       " array([ 0.00417995], dtype=float32),\n",
       " array([ 0.00369247], dtype=float32),\n",
       " array([ 0.00981902], dtype=float32),\n",
       " array([ 0.02235116], dtype=float32),\n",
       " array([ 0.00359855], dtype=float32),\n",
       " array([ 0.00766893], dtype=float32),\n",
       " array([ 0.00629624], dtype=float32),\n",
       " array([  8.72353921e-05], dtype=float32),\n",
       " array([ 0.00516965], dtype=float32),\n",
       " array([ 0.00509383], dtype=float32),\n",
       " array([ 0.00025087], dtype=float32),\n",
       " array([ 0.00608655], dtype=float32),\n",
       " array([ 0.00323121], dtype=float32),\n",
       " array([ 0.01161007], dtype=float32),\n",
       " array([ 0.00624208], dtype=float32),\n",
       " array([ 0.00170879], dtype=float32),\n",
       " array([ 0.00444634], dtype=float32),\n",
       " array([ 0.0076334], dtype=float32),\n",
       " array([  7.49351384e-05], dtype=float32),\n",
       " array([ 0.00470051], dtype=float32),\n",
       " array([ 0.00030061], dtype=float32),\n",
       " array([ 0.00541331], dtype=float32),\n",
       " array([ 0.01341402], dtype=float32),\n",
       " array([ 0.00603995], dtype=float32),\n",
       " array([  6.09080562e-05], dtype=float32),\n",
       " array([ 0.01004789], dtype=float32),\n",
       " array([ 0.00036629], dtype=float32),\n",
       " array([ 0.00772225], dtype=float32),\n",
       " array([ 0.00580698], dtype=float32),\n",
       " array([ 0.00329396], dtype=float32),\n",
       " array([ 0.0040791], dtype=float32),\n",
       " array([  7.15206988e-05], dtype=float32),\n",
       " array([ 0.00348626], dtype=float32),\n",
       " array([ 0.00535208], dtype=float32),\n",
       " array([ 0.00646992], dtype=float32),\n",
       " array([  6.86638014e-05], dtype=float32),\n",
       " array([ 0.00640254], dtype=float32),\n",
       " array([ 0.00714984], dtype=float32),\n",
       " array([ 0.00436708], dtype=float32),\n",
       " array([ 0.00341598], dtype=float32),\n",
       " array([ 0.00897829], dtype=float32),\n",
       " array([ 0.01066393], dtype=float32),\n",
       " array([  4.98651461e-05], dtype=float32),\n",
       " array([ 0.00084535], dtype=float32),\n",
       " array([ 0.00011867], dtype=float32),\n",
       " array([ 0.00508075], dtype=float32),\n",
       " array([ 0.01594569], dtype=float32),\n",
       " array([  3.33964090e-05], dtype=float32),\n",
       " array([ 0.00406638], dtype=float32),\n",
       " array([  2.63502279e-05], dtype=float32),\n",
       " array([ 0.00061123], dtype=float32),\n",
       " array([ 0.00806498], dtype=float32),\n",
       " array([ 0.00488267], dtype=float32),\n",
       " array([ 0.01617413], dtype=float32),\n",
       " array([ 0.01436767], dtype=float32),\n",
       " array([ 0.0001213], dtype=float32),\n",
       " array([ 0.00273823], dtype=float32),\n",
       " array([ 0.00552223], dtype=float32),\n",
       " array([ 0.00598166], dtype=float32),\n",
       " array([  5.34505343e-05], dtype=float32),\n",
       " array([ 0.00658068], dtype=float32),\n",
       " array([ 0.00617695], dtype=float32),\n",
       " array([ 0.00420348], dtype=float32),\n",
       " array([ 0.0217253], dtype=float32),\n",
       " array([ 0.00866305], dtype=float32),\n",
       " array([ 0.00473822], dtype=float32),\n",
       " array([ 0.00487652], dtype=float32),\n",
       " array([ 0.00362879], dtype=float32),\n",
       " array([  4.66601123e-05], dtype=float32),\n",
       " array([ 0.00162777], dtype=float32),\n",
       " array([ 0.00295414], dtype=float32),\n",
       " array([ 0.0036071], dtype=float32),\n",
       " array([ 0.01879221], dtype=float32),\n",
       " array([  6.81615857e-05], dtype=float32),\n",
       " array([ 0.02449019], dtype=float32),\n",
       " array([ 0.00014015], dtype=float32),\n",
       " array([  6.95786148e-05], dtype=float32),\n",
       " array([ 0.00649046], dtype=float32),\n",
       " array([ 0.00045282], dtype=float32),\n",
       " array([ 0.00564121], dtype=float32),\n",
       " array([ 0.00034235], dtype=float32),\n",
       " array([ 0.00031229], dtype=float32),\n",
       " array([ 0.00741903], dtype=float32),\n",
       " array([  6.87774955e-05], dtype=float32),\n",
       " array([ 0.01387919], dtype=float32),\n",
       " array([  5.72700519e-05], dtype=float32),\n",
       " array([ 0.0029468], dtype=float32),\n",
       " array([ 0.00227001], dtype=float32),\n",
       " array([ 0.00339465], dtype=float32),\n",
       " array([ 0.00431015], dtype=float32),\n",
       " array([ 0.00672314], dtype=float32),\n",
       " array([ 0.00363255], dtype=float32),\n",
       " array([ 0.0057072], dtype=float32),\n",
       " array([ 0.00022352], dtype=float32),\n",
       " array([ 0.00421275], dtype=float32),\n",
       " array([ 0.00700989], dtype=float32),\n",
       " array([  5.96676036e-05], dtype=float32),\n",
       " array([ 0.00776339], dtype=float32),\n",
       " array([  6.11703945e-05], dtype=float32),\n",
       " array([  8.29351629e-05], dtype=float32),\n",
       " array([ 0.00549012], dtype=float32),\n",
       " array([ 0.00900649], dtype=float32),\n",
       " array([ 0.00413334], dtype=float32),\n",
       " array([ 0.00029727], dtype=float32),\n",
       " array([ 0.00348605], dtype=float32),\n",
       " array([ 0.00743839], dtype=float32),\n",
       " array([ 0.00343726], dtype=float32),\n",
       " array([ 0.00113759], dtype=float32),\n",
       " array([ 0.00476832], dtype=float32),\n",
       " array([  8.26312462e-05], dtype=float32),\n",
       " array([ 0.00353918], dtype=float32),\n",
       " array([ 0.00556267], dtype=float32),\n",
       " array([ 0.00668989], dtype=float32),\n",
       " array([ 0.00524096], dtype=float32),\n",
       " array([ 0.00624164], dtype=float32),\n",
       " array([ 0.00952774], dtype=float32),\n",
       " array([ 0.00345755], dtype=float32),\n",
       " array([ 0.00034323], dtype=float32),\n",
       " array([ 0.00557295], dtype=float32),\n",
       " array([ 0.00682694], dtype=float32),\n",
       " array([ 0.00036346], dtype=float32),\n",
       " array([ 0.00065141], dtype=float32),\n",
       " array([ 0.00669047], dtype=float32),\n",
       " array([ 0.01002302], dtype=float32),\n",
       " array([ 0.00469912], dtype=float32),\n",
       " array([ 0.01037497], dtype=float32),\n",
       " array([ 0.01418243], dtype=float32),\n",
       " array([ 0.00617265], dtype=float32),\n",
       " array([ 0.00260163], dtype=float32),\n",
       " array([ 0.00022637], dtype=float32),\n",
       " array([ 0.00556312], dtype=float32),\n",
       " array([ 0.00580595], dtype=float32),\n",
       " array([ 0.00691031], dtype=float32),\n",
       " array([ 0.00461393], dtype=float32),\n",
       " array([ 0.00010361], dtype=float32),\n",
       " array([ 0.00664466], dtype=float32),\n",
       " array([ 0.00433951], dtype=float32),\n",
       " array([  6.40544458e-05], dtype=float32),\n",
       " array([ 0.00043803], dtype=float32),\n",
       " array([ 0.00292549], dtype=float32),\n",
       " array([  7.46909354e-05], dtype=float32),\n",
       " array([  3.43914217e-05], dtype=float32),\n",
       " array([ 0.00574408], dtype=float32),\n",
       " array([ 0.00208192], dtype=float32),\n",
       " array([ 0.00337441], dtype=float32),\n",
       " array([ 0.00715251], dtype=float32),\n",
       " array([ 0.00351448], dtype=float32),\n",
       " array([ 0.00418071], dtype=float32),\n",
       " array([  8.31499274e-05], dtype=float32),\n",
       " array([ 0.00829103], dtype=float32),\n",
       " array([  9.71317131e-05], dtype=float32),\n",
       " array([ 0.0028641], dtype=float32),\n",
       " array([ 0.00010549], dtype=float32),\n",
       " array([ 0.00198976], dtype=float32),\n",
       " array([ 0.00160533], dtype=float32),\n",
       " array([ 0.00425876], dtype=float32),\n",
       " array([ 0.00363525], dtype=float32),\n",
       " array([ 0.00371512], dtype=float32),\n",
       " array([ 0.01282576], dtype=float32),\n",
       " array([ 0.00588313], dtype=float32),\n",
       " array([ 0.00951593], dtype=float32),\n",
       " array([  7.38107628e-05], dtype=float32),\n",
       " array([ 0.00178084], dtype=float32),\n",
       " array([  7.33987472e-05], dtype=float32),\n",
       " array([ 0.00025319], dtype=float32),\n",
       " array([ 0.00207262], dtype=float32),\n",
       " array([ 0.00550873], dtype=float32),\n",
       " array([ 0.00331544], dtype=float32),\n",
       " array([ 0.00548629], dtype=float32),\n",
       " array([  8.60200889e-05], dtype=float32),\n",
       " array([ 0.00452564], dtype=float32),\n",
       " array([  9.46198488e-05], dtype=float32),\n",
       " array([ 0.0011871], dtype=float32),\n",
       " array([ 0.00090842], dtype=float32),\n",
       " array([ 0.00660906], dtype=float32),\n",
       " array([ 0.00340166], dtype=float32),\n",
       " array([ 0.0081471], dtype=float32),\n",
       " array([ 0.00024532], dtype=float32),\n",
       " array([  7.68398677e-05], dtype=float32),\n",
       " array([  5.75343911e-05], dtype=float32),\n",
       " array([ 0.00028001], dtype=float32),\n",
       " array([ 0.00555565], dtype=float32),\n",
       " array([ 0.00085202], dtype=float32),\n",
       " array([ 0.00561462], dtype=float32),\n",
       " array([  8.62256566e-05], dtype=float32),\n",
       " array([ 0.00522469], dtype=float32),\n",
       " array([ 0.016046], dtype=float32),\n",
       " array([ 0.01163978], dtype=float32),\n",
       " array([ 0.00462075], dtype=float32),\n",
       " array([ 0.0001094], dtype=float32),\n",
       " array([ 0.00551577], dtype=float32),\n",
       " array([ 0.00731834], dtype=float32),\n",
       " array([ 0.00503992], dtype=float32),\n",
       " array([ 0.00596184], dtype=float32),\n",
       " array([ 0.00572055], dtype=float32),\n",
       " array([ 0.00265081], dtype=float32),\n",
       " array([ 0.01019379], dtype=float32),\n",
       " array([ 0.0048821], dtype=float32),\n",
       " array([ 0.00470452], dtype=float32),\n",
       " array([ 0.00722159], dtype=float32),\n",
       " array([  5.91992866e-05], dtype=float32),\n",
       " array([  4.49821382e-05], dtype=float32),\n",
       " array([ 0.00583842], dtype=float32),\n",
       " array([  7.81954004e-05], dtype=float32),\n",
       " array([ 0.00659394], dtype=float32),\n",
       " array([ 0.0065759], dtype=float32),\n",
       " array([ 0.0038198], dtype=float32),\n",
       " array([  5.97649778e-05], dtype=float32),\n",
       " array([ 0.00834899], dtype=float32),\n",
       " array([ 0.00510094], dtype=float32),\n",
       " array([  7.38107628e-05], dtype=float32),\n",
       " array([ 0.00774914], dtype=float32),\n",
       " array([ 0.00461385], dtype=float32),\n",
       " array([  8.92770258e-05], dtype=float32),\n",
       " array([ 0.00515708], dtype=float32),\n",
       " array([ 0.01060414], dtype=float32),\n",
       " array([ 0.00297619], dtype=float32),\n",
       " array([ 0.00632482], dtype=float32),\n",
       " array([ 0.00590722], dtype=float32),\n",
       " array([ 0.00026209], dtype=float32),\n",
       " array([  9.46198488e-05], dtype=float32),\n",
       " array([ 0.01137509], dtype=float32),\n",
       " array([  7.72950734e-05], dtype=float32),\n",
       " array([ 0.00914986], dtype=float32),\n",
       " array([  9.42900006e-05], dtype=float32),\n",
       " array([ 0.00567309], dtype=float32),\n",
       " array([  9.25763670e-05], dtype=float32),\n",
       " array([ 0.00476722], dtype=float32),\n",
       " array([ 0.00707446], dtype=float32),\n",
       " array([ 0.01165938], dtype=float32),\n",
       " array([ 0.00061863], dtype=float32),\n",
       " array([ 0.00032709], dtype=float32),\n",
       " array([ 0.00010423], dtype=float32),\n",
       " array([ 0.00284331], dtype=float32),\n",
       " array([ 0.00515708], dtype=float32),\n",
       " array([  5.96592945e-05], dtype=float32),\n",
       " array([ 0.00640618], dtype=float32),\n",
       " array([ 0.00674303], dtype=float32),\n",
       " array([ 0.00423361], dtype=float32),\n",
       " array([ 0.0064253], dtype=float32),\n",
       " array([ 0.01539874], dtype=float32),\n",
       " array([  8.04410083e-05], dtype=float32),\n",
       " array([ 0.00377545], dtype=float32),\n",
       " array([ 0.00442107], dtype=float32),\n",
       " array([ 0.01172803], dtype=float32),\n",
       " array([  6.99883385e-05], dtype=float32),\n",
       " array([ 0.0133248], dtype=float32),\n",
       " array([ 0.00745319], dtype=float32),\n",
       " array([ 0.00363098], dtype=float32),\n",
       " array([ 0.00435403], dtype=float32),\n",
       " array([ 0.00746591], dtype=float32),\n",
       " array([  8.28264965e-05], dtype=float32),\n",
       " array([ 0.0018768], dtype=float32),\n",
       " array([ 0.00029125], dtype=float32),\n",
       " array([ 0.00844797], dtype=float32),\n",
       " array([ 0.00498699], dtype=float32),\n",
       " array([ 0.00382619], dtype=float32),\n",
       " array([ 0.00010026], dtype=float32),\n",
       " array([ 0.00832217], dtype=float32),\n",
       " array([ 0.00425367], dtype=float32),\n",
       " array([ 0.00212048], dtype=float32),\n",
       " array([ 0.00438086], dtype=float32),\n",
       " array([ 0.00553029], dtype=float32),\n",
       " array([ 0.00379754], dtype=float32),\n",
       " array([ 0.00015623], dtype=float32),\n",
       " array([ 0.00666625], dtype=float32),\n",
       " array([  3.91702270e-05], dtype=float32),\n",
       " array([  7.29038875e-05], dtype=float32),\n",
       " array([ 0.01312161], dtype=float32),\n",
       " array([  6.24560198e-05], dtype=float32),\n",
       " array([ 0.00675215], dtype=float32),\n",
       " array([ 0.00579666], dtype=float32),\n",
       " array([ 0.00268687], dtype=float32),\n",
       " array([ 0.0036071], dtype=float32),\n",
       " array([  8.60383807e-05], dtype=float32),\n",
       " array([ 0.00487489], dtype=float32),\n",
       " array([ 0.00011719], dtype=float32),\n",
       " array([  8.79700165e-05], dtype=float32),\n",
       " array([ 0.0002186], dtype=float32),\n",
       " array([ 0.00614457], dtype=float32),\n",
       " array([ 0.00176824], dtype=float32),\n",
       " array([ 0.0074265], dtype=float32),\n",
       " array([ 0.00551994], dtype=float32),\n",
       " array([  7.19609379e-05], dtype=float32),\n",
       " array([ 0.00112353], dtype=float32),\n",
       " array([ 0.00466009], dtype=float32),\n",
       " array([ 0.00399469], dtype=float32),\n",
       " array([ 0.00673725], dtype=float32),\n",
       " array([ 0.00675906], dtype=float32),\n",
       " array([  9.46198488e-05], dtype=float32),\n",
       " array([ 0.00930322], dtype=float32),\n",
       " array([ 0.00374826], dtype=float32),\n",
       " array([  6.10952484e-05], dtype=float32),\n",
       " array([ 0.0240727], dtype=float32),\n",
       " array([ 0.00027841], dtype=float32),\n",
       " array([  7.42299744e-05], dtype=float32),\n",
       " array([ 0.00010914], dtype=float32),\n",
       " array([ 0.00368619], dtype=float32),\n",
       " array([ 0.00765572], dtype=float32),\n",
       " array([ 0.00508414], dtype=float32),\n",
       " array([ 0.0172653], dtype=float32),\n",
       " array([ 0.00543348], dtype=float32),\n",
       " array([ 0.00037365], dtype=float32),\n",
       " array([ 0.013301], dtype=float32),\n",
       " array([ 0.00790639], dtype=float32),\n",
       " array([ 0.00798116], dtype=float32),\n",
       " array([ 0.00714461], dtype=float32),\n",
       " array([ 0.00602772], dtype=float32),\n",
       " array([ 0.00513582], dtype=float32),\n",
       " array([ 0.00061863], dtype=float32),\n",
       " array([ 0.00537269], dtype=float32),\n",
       " array([ 0.00531502], dtype=float32),\n",
       " array([ 0.00518639], dtype=float32),\n",
       " array([ 0.00421635], dtype=float32),\n",
       " array([  8.13741644e-05], dtype=float32),\n",
       " array([ 0.00432038], dtype=float32),\n",
       " array([ 0.0028579], dtype=float32),\n",
       " array([ 0.00704182], dtype=float32),\n",
       " array([ 0.00430247], dtype=float32),\n",
       " array([  6.84374245e-05], dtype=float32),\n",
       " array([ 0.00509703], dtype=float32),\n",
       " array([ 0.00823843], dtype=float32),\n",
       " array([ 0.00616592], dtype=float32),\n",
       " array([ 0.00012058], dtype=float32),\n",
       " array([ 0.00381552], dtype=float32),\n",
       " array([ 0.00512591], dtype=float32),\n",
       " array([ 0.00721025], dtype=float32),\n",
       " array([ 0.00026209], dtype=float32),\n",
       " array([ 0.00283018], dtype=float32),\n",
       " array([  7.22947952e-05], dtype=float32),\n",
       " array([ 0.00015584], dtype=float32),\n",
       " array([  7.15545320e-05], dtype=float32),\n",
       " array([ 0.00624568], dtype=float32),\n",
       " array([ 0.00396244], dtype=float32),\n",
       " array([  6.74302064e-05], dtype=float32),\n",
       " array([ 0.00028827], dtype=float32),\n",
       " array([ 0.00011067], dtype=float32),\n",
       " array([  5.31761980e-05], dtype=float32),\n",
       " array([  9.39511010e-05], dtype=float32),\n",
       " array([ 0.0062865], dtype=float32),\n",
       " array([  5.42541748e-05], dtype=float32),\n",
       " array([ 0.00481572], dtype=float32),\n",
       " array([ 0.005826], dtype=float32),\n",
       " array([ 0.00618702], dtype=float32),\n",
       " array([ 0.00415799], dtype=float32),\n",
       " array([  6.84787447e-05], dtype=float32),\n",
       " array([ 0.00417976], dtype=float32),\n",
       " array([ 0.00355585], dtype=float32),\n",
       " array([ 0.01551343], dtype=float32),\n",
       " array([ 0.00399911], dtype=float32),\n",
       " array([ 0.00829822], dtype=float32),\n",
       " array([ 0.00372134], dtype=float32),\n",
       " array([  3.33964090e-05], dtype=float32),\n",
       " array([ 0.0045537], dtype=float32),\n",
       " array([ 0.00013001], dtype=float32),\n",
       " array([ 0.00610658], dtype=float32),\n",
       " array([ 0.00445633], dtype=float32),\n",
       " array([ 0.00443563], dtype=float32),\n",
       " array([  9.90267727e-05], dtype=float32),\n",
       " array([ 0.00300786], dtype=float32),\n",
       " array([ 0.00895626], dtype=float32),\n",
       " array([ 0.00307045], dtype=float32),\n",
       " array([  8.89569055e-05], dtype=float32),\n",
       " array([ 0.00389489], dtype=float32),\n",
       " array([ 0.00052102], dtype=float32),\n",
       " array([ 0.00484534], dtype=float32),\n",
       " array([ 0.00755599], dtype=float32),\n",
       " array([  6.75441188e-05], dtype=float32),\n",
       " array([ 0.00488075], dtype=float32),\n",
       " array([ 0.0064136], dtype=float32),\n",
       " array([ 0.00495825], dtype=float32),\n",
       " array([ 0.00701612], dtype=float32),\n",
       " array([ 0.02540883], dtype=float32),\n",
       " array([ 0.01281873], dtype=float32),\n",
       " array([  7.38107628e-05], dtype=float32),\n",
       " array([ 0.00985549], dtype=float32),\n",
       " array([ 0.00192565], dtype=float32),\n",
       " array([ 0.00651076], dtype=float32),\n",
       " array([ 0.00656075], dtype=float32),\n",
       " array([  6.42447558e-05], dtype=float32),\n",
       " array([ 0.00509127], dtype=float32),\n",
       " array([ 0.00470151], dtype=float32),\n",
       " array([  4.97042492e-05], dtype=float32),\n",
       " array([  5.48988537e-05], dtype=float32),\n",
       " array([ 0.00383136], dtype=float32),\n",
       " array([ 0.00428203], dtype=float32),\n",
       " array([ 0.0001213], dtype=float32),\n",
       " array([ 0.005892], dtype=float32),\n",
       " array([ 0.00359734], dtype=float32),\n",
       " array([ 0.01011707], dtype=float32),\n",
       " array([ 0.0001713], dtype=float32),\n",
       " array([ 0.00530294], dtype=float32),\n",
       " array([ 0.00872582], dtype=float32),\n",
       " array([ 0.00571699], dtype=float32),\n",
       " array([ 0.00394826], dtype=float32),\n",
       " array([ 0.00024278], dtype=float32),\n",
       " array([ 0.00027953], dtype=float32),\n",
       " array([ 0.01127789], dtype=float32),\n",
       " array([ 0.00722178], dtype=float32),\n",
       " array([ 0.00030027], dtype=float32),\n",
       " array([ 0.00549234], dtype=float32),\n",
       " array([ 0.00591552], dtype=float32),\n",
       " array([ 0.00622673], dtype=float32),\n",
       " array([ 0.00067787], dtype=float32),\n",
       " array([ 0.00936559], dtype=float32),\n",
       " array([ 0.00598235], dtype=float32),\n",
       " array([ 0.00351141], dtype=float32),\n",
       " array([ 0.00060525], dtype=float32),\n",
       " array([ 0.01728297], dtype=float32),\n",
       " array([ 0.0084931], dtype=float32),\n",
       " array([  2.79396318e-05], dtype=float32),\n",
       " array([ 0.0052202], dtype=float32),\n",
       " array([ 0.01522405], dtype=float32),\n",
       " array([ 0.00411459], dtype=float32),\n",
       " array([ 0.00022989], dtype=float32),\n",
       " array([  4.39158357e-05], dtype=float32),\n",
       " array([  8.31499274e-05], dtype=float32),\n",
       " array([  7.46909354e-05], dtype=float32),\n",
       " array([ 0.0088147], dtype=float32),\n",
       " array([ 0.00514328], dtype=float32),\n",
       " array([ 0.00344673], dtype=float32),\n",
       " array([ 0.00383187], dtype=float32),\n",
       " array([ 0.00588341], dtype=float32),\n",
       " array([ 0.00845916], dtype=float32),\n",
       " array([  3.04945825e-05], dtype=float32),\n",
       " array([  6.87696956e-05], dtype=float32),\n",
       " array([ 0.00395181], dtype=float32),\n",
       " array([ 0.00238792], dtype=float32),\n",
       " array([ 0.00713373], dtype=float32),\n",
       " array([ 0.00837348], dtype=float32),\n",
       " array([ 0.00258879], dtype=float32),\n",
       " array([ 0.0039804], dtype=float32),\n",
       " array([ 0.00459496], dtype=float32),\n",
       " array([ 0.00225162], dtype=float32),\n",
       " array([ 0.00816451], dtype=float32),\n",
       " array([  5.31761980e-05], dtype=float32),\n",
       " array([ 0.00716453], dtype=float32),\n",
       " array([ 0.00680214], dtype=float32),\n",
       " array([ 0.00448605], dtype=float32),\n",
       " array([ 0.00469877], dtype=float32),\n",
       " array([ 0.00342706], dtype=float32),\n",
       " array([ 0.00456787], dtype=float32),\n",
       " array([ 0.00052678], dtype=float32),\n",
       " array([  5.75424565e-05], dtype=float32),\n",
       " array([  8.60200889e-05], dtype=float32),\n",
       " array([ 0.00011272], dtype=float32),\n",
       " array([  6.77430507e-05], dtype=float32),\n",
       " array([ 0.0059591], dtype=float32),\n",
       " array([ 0.00413244], dtype=float32),\n",
       " array([  7.46909354e-05], dtype=float32),\n",
       " array([ 0.00360188], dtype=float32),\n",
       " array([  6.99883385e-05], dtype=float32),\n",
       " array([ 0.01256074], dtype=float32),\n",
       " array([ 0.00204276], dtype=float32),\n",
       " array([  7.11608809e-05], dtype=float32),\n",
       " array([ 0.00679981], dtype=float32),\n",
       " array([ 0.00564161], dtype=float32),\n",
       " array([ 0.00676324], dtype=float32),\n",
       " array([ 0.00359423], dtype=float32),\n",
       " array([ 0.00551425], dtype=float32),\n",
       " array([ 0.00421611], dtype=float32),\n",
       " array([ 0.00183664], dtype=float32),\n",
       " array([ 0.00371672], dtype=float32),\n",
       " array([ 0.00342646], dtype=float32),\n",
       " array([ 0.0052049], dtype=float32),\n",
       " array([ 0.00667878], dtype=float32),\n",
       " array([ 0.00023492], dtype=float32),\n",
       " array([ 0.01047022], dtype=float32),\n",
       " array([ 0.00457867], dtype=float32),\n",
       " array([ 0.0077144], dtype=float32),\n",
       " array([ 0.007935], dtype=float32),\n",
       " array([ 0.0050405], dtype=float32),\n",
       " array([  6.86696221e-05], dtype=float32),\n",
       " array([ 0.00890249], dtype=float32),\n",
       " array([ 0.00061863], dtype=float32),\n",
       " array([ 0.01063771], dtype=float32),\n",
       " array([ 0.00442126], dtype=float32),\n",
       " array([ 0.00755385], dtype=float32),\n",
       " array([ 0.01913767], dtype=float32),\n",
       " array([ 0.00614628], dtype=float32),\n",
       " array([ 0.00464109], dtype=float32),\n",
       " array([  8.02754075e-05], dtype=float32),\n",
       " array([ 0.00084012], dtype=float32),\n",
       " array([ 0.00486417], dtype=float32),\n",
       " array([ 0.00851573], dtype=float32),\n",
       " array([ 0.00602769], dtype=float32),\n",
       " array([ 0.00442141], dtype=float32),\n",
       " array([ 0.01028766], dtype=float32),\n",
       " array([ 0.00011719], dtype=float32),\n",
       " array([ 0.00555619], dtype=float32),\n",
       " array([ 0.00798618], dtype=float32),\n",
       " array([ 0.00349463], dtype=float32),\n",
       " array([  8.79700165e-05], dtype=float32),\n",
       " array([ 0.00120322], dtype=float32),\n",
       " array([  5.88770272e-05], dtype=float32),\n",
       " array([ 0.00049573], dtype=float32),\n",
       " array([  5.96592945e-05], dtype=float32),\n",
       " array([ 0.00010174], dtype=float32),\n",
       " array([ 0.00776507], dtype=float32),\n",
       " array([  7.70262195e-05], dtype=float32),\n",
       " array([ 0.00825552], dtype=float32),\n",
       " array([ 0.00362735], dtype=float32),\n",
       " array([ 0.0040286], dtype=float32),\n",
       " array([ 0.00033955], dtype=float32),\n",
       " array([ 0.00483492], dtype=float32),\n",
       " array([ 0.01074594], dtype=float32),\n",
       " array([  6.15532044e-05], dtype=float32),\n",
       " array([ 0.00322183], dtype=float32),\n",
       " array([ 0.00457831], dtype=float32),\n",
       " array([ 0.00476165], dtype=float32),\n",
       " array([ 0.00015245], dtype=float32),\n",
       " array([ 0.00364998], dtype=float32),\n",
       " array([ 0.00831236], dtype=float32),\n",
       " array([ 0.01255164], dtype=float32),\n",
       " array([ 0.00520766], dtype=float32),\n",
       " array([  8.31499274e-05], dtype=float32),\n",
       " array([ 0.00507731], dtype=float32),\n",
       " array([  8.72771634e-05], dtype=float32),\n",
       " array([  7.59422619e-05], dtype=float32),\n",
       " array([  6.99883385e-05], dtype=float32),\n",
       " array([ 0.00013701], dtype=float32),\n",
       " array([ 0.0016411], dtype=float32),\n",
       " array([ 0.00679645], dtype=float32),\n",
       " array([ 0.0114077], dtype=float32),\n",
       " array([ 0.0058366], dtype=float32),\n",
       " array([  6.85952109e-05], dtype=float32),\n",
       " array([ 0.00022957], dtype=float32),\n",
       " array([ 0.00085202], dtype=float32),\n",
       " array([ 0.00652686], dtype=float32),\n",
       " array([ 0.00409833], dtype=float32),\n",
       " array([ 0.0068185], dtype=float32),\n",
       " array([  3.69418995e-05], dtype=float32),\n",
       " array([ 0.00474514], dtype=float32),\n",
       " array([  7.90399208e-05], dtype=float32),\n",
       " array([ 0.00067084], dtype=float32),\n",
       " array([ 0.00387014], dtype=float32),\n",
       " array([ 0.00351206], dtype=float32),\n",
       " array([ 0.00562146], dtype=float32),\n",
       " array([ 0.00123962], dtype=float32),\n",
       " array([ 0.00430682], dtype=float32),\n",
       " array([  6.09080562e-05], dtype=float32),\n",
       " array([ 0.00666223], dtype=float32),\n",
       " array([ 0.00010805], dtype=float32),\n",
       " array([  4.39158357e-05], dtype=float32),\n",
       " array([ 0.00878995], dtype=float32),\n",
       " array([ 0.00018871], dtype=float32),\n",
       " array([ 0.00481129], dtype=float32),\n",
       " array([ 0.00619054], dtype=float32),\n",
       " array([ 0.0074237], dtype=float32),\n",
       " array([  6.81520323e-05], dtype=float32),\n",
       " array([ 0.00687424], dtype=float32),\n",
       " array([ 0.00650793], dtype=float32),\n",
       " array([ 0.00427058], dtype=float32),\n",
       " array([ 0.00558293], dtype=float32),\n",
       " array([ 0.0067086], dtype=float32),\n",
       " array([ 0.02521504], dtype=float32),\n",
       " array([ 0.00350742], dtype=float32),\n",
       " array([ 0.00959632], dtype=float32),\n",
       " array([ 0.00224242], dtype=float32),\n",
       " array([ 0.01519798], dtype=float32),\n",
       " array([ 0.00408559], dtype=float32),\n",
       " array([ 0.00573017], dtype=float32),\n",
       " array([ 0.00214234], dtype=float32),\n",
       " array([ 0.0039227], dtype=float32),\n",
       " array([ 0.00757914], dtype=float32),\n",
       " array([ 0.00577406], dtype=float32),\n",
       " array([ 0.00336238], dtype=float32),\n",
       " array([ 0.00450328], dtype=float32),\n",
       " array([ 0.00305625], dtype=float32),\n",
       " array([ 0.0072119], dtype=float32),\n",
       " array([ 0.00349627], dtype=float32),\n",
       " array([ 0.00976087], dtype=float32),\n",
       " array([ 0.00540775], dtype=float32),\n",
       " array([ 0.00202643], dtype=float32),\n",
       " array([ 0.00582651], dtype=float32),\n",
       " array([ 0.00198197], dtype=float32),\n",
       " array([ 0.00637842], dtype=float32),\n",
       " array([ 0.01165383], dtype=float32),\n",
       " array([ 0.00319574], dtype=float32),\n",
       " array([ 0.00315187], dtype=float32),\n",
       " array([ 0.00569024], dtype=float32),\n",
       " array([  6.41277875e-05], dtype=float32),\n",
       " array([ 0.00507561], dtype=float32),\n",
       " array([ 0.00517632], dtype=float32),\n",
       " array([ 0.00025418], dtype=float32),\n",
       " array([  3.33964090e-05], dtype=float32),\n",
       " array([ 0.00364261], dtype=float32),\n",
       " array([ 0.00020141], dtype=float32),\n",
       " array([  8.72353921e-05], dtype=float32),\n",
       " array([ 0.01997075], dtype=float32),\n",
       " array([ 0.00682632], dtype=float32),\n",
       " array([ 0.00015981], dtype=float32),\n",
       " array([ 0.00555135], dtype=float32),\n",
       " array([ 0.00533113], dtype=float32),\n",
       " array([ 0.00887234], dtype=float32),\n",
       " array([ 0.01985605], dtype=float32),\n",
       " array([ 0.00286855], dtype=float32),\n",
       " array([ 0.0002945], dtype=float32),\n",
       " array([ 0.00653829], dtype=float32),\n",
       " array([ 0.00630638], dtype=float32),\n",
       " array([ 0.00039685], dtype=float32),\n",
       " array([ 0.00301552], dtype=float32),\n",
       " array([ 0.00302873], dtype=float32),\n",
       " array([ 0.00151361], dtype=float32),\n",
       " array([ 0.00177716], dtype=float32),\n",
       " array([  8.29161072e-05], dtype=float32),\n",
       " array([  6.21675281e-05], dtype=float32),\n",
       " array([ 0.00331185], dtype=float32),\n",
       " array([ 0.00424658], dtype=float32),\n",
       " array([ 0.00072851], dtype=float32),\n",
       " array([ 0.00333888], dtype=float32),\n",
       " array([  7.46909354e-05], dtype=float32),\n",
       " array([ 0.00559525], dtype=float32),\n",
       " array([ 0.00524561], dtype=float32),\n",
       " array([ 0.00384375], dtype=float32),\n",
       " array([ 0.00584391], dtype=float32),\n",
       " array([  6.41277875e-05], dtype=float32),\n",
       " array([  7.15545320e-05], dtype=float32),\n",
       " array([ 0.00477733], dtype=float32),\n",
       " array([ 0.00167066], dtype=float32),\n",
       " array([  6.94794944e-05], dtype=float32),\n",
       " array([  6.77430507e-05], dtype=float32),\n",
       " array([ 0.00027926], dtype=float32),\n",
       " array([ 0.00189493], dtype=float32),\n",
       " array([  7.44480276e-05], dtype=float32),\n",
       " array([ 0.0039944], dtype=float32),\n",
       " array([ 0.00011919], dtype=float32),\n",
       " array([ 0.00033639], dtype=float32),\n",
       " array([ 0.00435228], dtype=float32),\n",
       " array([ 0.00650553], dtype=float32),\n",
       " array([ 0.00586029], dtype=float32),\n",
       " array([ 0.0062521], dtype=float32),\n",
       " array([ 0.00497665], dtype=float32),\n",
       " array([ 0.00328758], dtype=float32),\n",
       " array([  6.24560198e-05], dtype=float32),\n",
       " array([ 0.00508], dtype=float32),\n",
       " array([ 0.00558442], dtype=float32),\n",
       " array([ 0.00485168], dtype=float32),\n",
       " array([ 0.01208329], dtype=float32),\n",
       " array([ 0.00904811], dtype=float32),\n",
       " array([ 0.01719336], dtype=float32),\n",
       " array([ 0.00397698], dtype=float32),\n",
       " array([ 0.00321071], dtype=float32),\n",
       " array([ 0.00423271], dtype=float32),\n",
       " array([ 0.0023091], dtype=float32),\n",
       " array([ 0.00056472], dtype=float32),\n",
       " array([ 0.00437614], dtype=float32),\n",
       " array([ 0.01514562], dtype=float32),\n",
       " array([ 0.00602707], dtype=float32),\n",
       " array([ 0.00111887], dtype=float32),\n",
       " array([ 0.00393448], dtype=float32),\n",
       " array([ 0.0067493], dtype=float32),\n",
       " array([ 0.01578038], dtype=float32),\n",
       " array([ 0.00560113], dtype=float32),\n",
       " array([ 0.00019593], dtype=float32),\n",
       " array([ 0.00390372], dtype=float32),\n",
       " array([ 0.00294496], dtype=float32),\n",
       " array([  6.75441188e-05], dtype=float32),\n",
       " array([ 0.0019216], dtype=float32),\n",
       " array([ 0.00435418], dtype=float32),\n",
       " array([ 0.01221026], dtype=float32),\n",
       " array([  4.92789150e-05], dtype=float32),\n",
       " array([ 0.00589908], dtype=float32),\n",
       " array([ 0.00382482], dtype=float32),\n",
       " array([ 0.0035433], dtype=float32),\n",
       " array([ 0.00883134], dtype=float32),\n",
       " array([  4.65495323e-05], dtype=float32),\n",
       " array([ 0.00862859], dtype=float32),\n",
       " array([ 0.00371875], dtype=float32),\n",
       " array([  6.61646118e-05], dtype=float32),\n",
       " array([ 0.00755352], dtype=float32),\n",
       " array([ 0.00562701], dtype=float32),\n",
       " array([ 0.00435497], dtype=float32),\n",
       " array([ 0.00486446], dtype=float32),\n",
       " array([ 0.00011938], dtype=float32),\n",
       " array([ 0.00662205], dtype=float32),\n",
       " array([ 0.00421262], dtype=float32),\n",
       " array([ 0.00912805], dtype=float32),\n",
       " array([ 0.00760203], dtype=float32),\n",
       " array([  8.62256566e-05], dtype=float32),\n",
       " array([ 0.01617596], dtype=float32),\n",
       " array([  9.90267727e-05], dtype=float32),\n",
       " array([ 0.00528286], dtype=float32),\n",
       " array([  9.80437617e-05], dtype=float32),\n",
       " array([ 0.01241539], dtype=float32),\n",
       " array([ 0.01267855], dtype=float32),\n",
       " array([  9.86825180e-05], dtype=float32),\n",
       " array([ 0.00981744], dtype=float32),\n",
       " array([ 0.00740127], dtype=float32),\n",
       " array([ 0.00318138], dtype=float32),\n",
       " array([ 0.00146274], dtype=float32),\n",
       " array([ 0.00891916], dtype=float32),\n",
       " array([ 0.00270877], dtype=float32),\n",
       " array([ 0.001551], dtype=float32),\n",
       " array([ 0.00682942], dtype=float32),\n",
       " array([ 0.00419629], dtype=float32),\n",
       " array([ 0.00652255], dtype=float32),\n",
       " array([ 0.01184397], dtype=float32),\n",
       " array([ 0.00329717], dtype=float32),\n",
       " array([ 0.0010508], dtype=float32),\n",
       " array([ 0.00457157], dtype=float32),\n",
       " array([ 0.00721345], dtype=float32),\n",
       " array([ 0.00275877], dtype=float32),\n",
       " array([ 0.01679022], dtype=float32),\n",
       " array([ 0.00736334], dtype=float32),\n",
       " ...]"
      ]
     },
     "execution_count": 126,
     "metadata": {},
     "output_type": "execute_result"
    }
   ],
   "source": [
    "fid = []\n",
    "for i in nan_id:\n",
    "    fid.append(a.target[a.session_id == i].values)\n",
    "    #print (a[a.target[a.session_id == i] > 0.01])\n",
    "fid"
   ]
  },
  {
   "cell_type": "code",
   "execution_count": 127,
   "metadata": {},
   "outputs": [
    {
     "data": {
      "text/plain": [
       "0.0046916264"
      ]
     },
     "execution_count": 127,
     "metadata": {},
     "output_type": "execute_result"
    }
   ],
   "source": [
    "mean(fid)"
   ]
  },
  {
   "cell_type": "code",
   "execution_count": 130,
   "metadata": {},
   "outputs": [
    {
     "name": "stdout",
     "output_type": "stream",
     "text": [
      "[ 0.01279459]\n",
      "[ 0.01877168]\n",
      "[ 0.01322413]\n",
      "[ 0.01251235]\n",
      "[ 0.01488211]\n",
      "[ 0.01168268]\n",
      "[ 0.01149364]\n",
      "[ 0.01028711]\n",
      "[ 0.01663245]\n",
      "[ 0.0149282]\n",
      "[ 0.01476812]\n",
      "[ 0.01670224]\n",
      "[ 0.01165742]\n",
      "[ 0.0141459]\n",
      "[ 0.01509605]\n",
      "[ 0.01115044]\n",
      "[ 0.01656609]\n",
      "[ 0.01371575]\n",
      "[ 0.01001236]\n",
      "[ 0.01701625]\n",
      "[ 0.01352882]\n",
      "[ 0.01751794]\n",
      "[ 0.01272929]\n",
      "[ 0.01168946]\n",
      "[ 0.01165705]\n",
      "[ 0.01072666]\n",
      "[ 0.021342]\n",
      "[ 0.01801453]\n",
      "[ 0.01300372]\n",
      "[ 0.01270328]\n",
      "[ 0.01099098]\n",
      "[ 0.01584809]\n",
      "[ 0.02239985]\n",
      "[ 0.02235116]\n",
      "[ 0.01161007]\n",
      "[ 0.01341402]\n",
      "[ 0.01004789]\n",
      "[ 0.01066393]\n",
      "[ 0.01594569]\n",
      "[ 0.01617413]\n",
      "[ 0.01436767]\n",
      "[ 0.0217253]\n",
      "[ 0.01879221]\n",
      "[ 0.02449019]\n",
      "[ 0.01387919]\n",
      "[ 0.01002302]\n",
      "[ 0.01037497]\n",
      "[ 0.01418243]\n",
      "[ 0.01282576]\n",
      "[ 0.016046]\n",
      "[ 0.01163978]\n",
      "[ 0.01019379]\n",
      "[ 0.01060414]\n",
      "[ 0.01137509]\n",
      "[ 0.01165938]\n",
      "[ 0.01539874]\n",
      "[ 0.01172803]\n",
      "[ 0.0133248]\n",
      "[ 0.01312161]\n",
      "[ 0.0240727]\n",
      "[ 0.0172653]\n",
      "[ 0.013301]\n",
      "[ 0.01551343]\n",
      "[ 0.02540883]\n",
      "[ 0.01281873]\n",
      "[ 0.01011707]\n",
      "[ 0.01127789]\n",
      "[ 0.01728297]\n",
      "[ 0.01522405]\n",
      "[ 0.01256074]\n",
      "[ 0.01047022]\n",
      "[ 0.01063771]\n",
      "[ 0.01913767]\n",
      "[ 0.01028766]\n",
      "[ 0.01074594]\n",
      "[ 0.01255164]\n",
      "[ 0.0114077]\n",
      "[ 0.02521504]\n",
      "[ 0.01519798]\n",
      "[ 0.01165383]\n",
      "[ 0.01997075]\n",
      "[ 0.01985605]\n",
      "[ 0.01208329]\n",
      "[ 0.01719336]\n",
      "[ 0.01514562]\n",
      "[ 0.01578038]\n",
      "[ 0.01221026]\n",
      "[ 0.01617596]\n",
      "[ 0.01241539]\n",
      "[ 0.01267855]\n",
      "[ 0.01184397]\n",
      "[ 0.01679022]\n",
      "[ 0.01165705]\n",
      "[ 0.01328213]\n",
      "[ 0.01855772]\n",
      "[ 0.01616726]\n",
      "[ 0.01517069]\n",
      "[ 0.01167154]\n",
      "[ 0.01352722]\n",
      "[ 0.010269]\n",
      "[ 0.01308415]\n",
      "[ 0.01266184]\n",
      "[ 0.0175586]\n",
      "[ 0.02728174]\n",
      "[ 0.01076402]\n",
      "[ 0.01017211]\n",
      "[ 0.01663525]\n",
      "[ 0.02312275]\n",
      "[ 0.01277039]\n",
      "[ 0.01438607]\n",
      "[ 0.02225482]\n",
      "[ 0.0122901]\n",
      "[ 0.01104314]\n",
      "[ 0.01903249]\n",
      "[ 0.01169345]\n",
      "[ 0.01985605]\n",
      "[ 0.01874523]\n",
      "[ 0.01371696]\n",
      "[ 0.01586266]\n",
      "[ 0.01527407]\n",
      "[ 0.0145454]\n",
      "[ 0.01008949]\n",
      "[ 0.01217687]\n",
      "[ 0.01474796]\n",
      "[ 0.0111921]\n",
      "[ 0.02242207]\n",
      "[ 0.04051542]\n",
      "[ 0.01958865]\n",
      "[ 0.02517114]\n",
      "[ 0.01030375]\n",
      "[ 0.01342028]\n",
      "[ 0.01156457]\n",
      "[ 0.01436767]\n",
      "[ 0.01082669]\n",
      "[ 0.01404715]\n",
      "[ 0.01450729]\n",
      "[ 0.02104903]\n",
      "[ 0.01833853]\n",
      "[ 0.01606566]\n",
      "[ 0.01282944]\n",
      "[ 0.01284831]\n",
      "[ 0.01845373]\n",
      "[ 0.01358881]\n",
      "[ 0.01830394]\n",
      "[ 0.01671772]\n",
      "[ 0.01120965]\n",
      "[ 0.01530934]\n",
      "[ 0.01630581]\n",
      "[ 0.01143995]\n",
      "[ 0.01312164]\n",
      "[ 0.01017364]\n",
      "[ 0.01035759]\n",
      "[ 0.01074352]\n",
      "[ 0.01195059]\n",
      "[ 0.01285665]\n",
      "[ 0.012995]\n",
      "[ 0.01207666]\n",
      "[ 0.01535227]\n",
      "[ 0.01218689]\n",
      "[ 0.02205297]\n",
      "[ 0.01128267]\n",
      "[ 0.01722173]\n",
      "[ 0.01139744]\n",
      "[ 0.0110254]\n",
      "[ 0.02190761]\n",
      "[ 0.01032097]\n",
      "[ 0.01329222]\n",
      "[ 0.02166242]\n",
      "[ 0.01341925]\n",
      "[ 0.01224857]\n",
      "[ 0.013674]\n",
      "[ 0.01002207]\n",
      "[ 0.02877641]\n",
      "[ 0.01135769]\n",
      "[ 0.02901898]\n",
      "[ 0.01402946]\n",
      "[ 0.0102254]\n",
      "[ 0.01088772]\n",
      "[ 0.01488211]\n",
      "[ 0.01263759]\n",
      "[ 0.01798075]\n",
      "[ 0.01422742]\n",
      "[ 0.01631564]\n",
      "[ 0.01060878]\n",
      "[ 0.01047261]\n",
      "[ 0.01431531]\n",
      "[ 0.01246766]\n",
      "[ 0.01252378]\n",
      "[ 0.01841637]\n",
      "[ 0.01295081]\n",
      "[ 0.01527254]\n",
      "[ 0.01149032]\n",
      "[ 0.01003358]\n",
      "[ 0.01712568]\n",
      "[ 0.0118469]\n",
      "[ 0.01176601]\n",
      "[ 0.01574751]\n",
      "[ 0.01095449]\n",
      "[ 0.02067077]\n",
      "[ 0.01693719]\n",
      "[ 0.01143492]\n",
      "[ 0.0133579]\n",
      "[ 0.01165215]\n",
      "[ 0.01190817]\n",
      "[ 0.01134779]\n",
      "[ 0.02129546]\n",
      "[ 0.02257917]\n",
      "[ 0.01422978]\n",
      "[ 0.01576721]\n",
      "[ 0.01531753]\n",
      "[ 0.01502408]\n",
      "[ 0.04449009]\n",
      "[ 0.01139791]\n",
      "[ 0.01333577]\n",
      "[ 0.01223466]\n",
      "[ 0.01220902]\n",
      "[ 0.02064944]\n",
      "[ 0.01650944]\n",
      "[ 0.01349812]\n",
      "[ 0.01414385]\n",
      "[ 0.01077631]\n",
      "[ 0.01418272]\n",
      "[ 0.0161664]\n",
      "[ 0.01530234]\n",
      "[ 0.01014827]\n",
      "[ 0.01437264]\n",
      "[ 0.01069945]\n",
      "[ 0.01705338]\n",
      "[ 0.0134912]\n",
      "[ 0.01866069]\n",
      "[ 0.01133396]\n",
      "[ 0.01813577]\n",
      "[ 0.01392488]\n",
      "[ 0.0207799]\n",
      "[ 0.01428569]\n",
      "[ 0.01651559]\n",
      "[ 0.01175246]\n",
      "[ 0.01164836]\n",
      "[ 0.01133317]\n",
      "[ 0.01770099]\n",
      "[ 0.01446555]\n",
      "[ 0.01289091]\n",
      "[ 0.01279354]\n",
      "[ 0.01813794]\n",
      "[ 0.01362297]\n",
      "[ 0.0111989]\n",
      "[ 0.01142609]\n",
      "[ 0.01148078]\n",
      "[ 0.01914701]\n",
      "[ 0.03410672]\n",
      "[ 0.01436767]\n",
      "[ 0.01064759]\n",
      "[ 0.01653783]\n",
      "[ 0.01246998]\n",
      "[ 0.02219729]\n",
      "[ 0.01842652]\n",
      "[ 0.01712282]\n",
      "[ 0.01065009]\n",
      "[ 0.01690361]\n",
      "[ 0.01410497]\n",
      "[ 0.0126894]\n",
      "[ 0.01098261]\n",
      "[ 0.02644657]\n",
      "[ 0.01405878]\n",
      "[ 0.01255459]\n",
      "[ 0.01263283]\n",
      "[ 0.01000006]\n",
      "[ 0.01590349]\n",
      "[ 0.01475639]\n",
      "[ 0.01475537]\n",
      "[ 0.01283392]\n",
      "[ 0.01163886]\n",
      "[ 0.01447151]\n",
      "[ 0.01228164]\n",
      "[ 0.01094935]\n",
      "[ 0.01612784]\n",
      "[ 0.01343977]\n",
      "[ 0.01597665]\n",
      "[ 0.01471647]\n",
      "[ 0.01247691]\n",
      "[ 0.01428569]\n",
      "[ 0.01220268]\n",
      "[ 0.01572052]\n",
      "[ 0.01507835]\n",
      "[ 0.01590948]\n",
      "[ 0.0160088]\n",
      "[ 0.01295549]\n",
      "[ 0.01559599]\n",
      "[ 0.01307563]\n",
      "[ 0.01467638]\n",
      "[ 0.01701435]\n",
      "[ 0.01246086]\n",
      "[ 0.02385503]\n",
      "[ 0.01953256]\n",
      "[ 0.01078592]\n",
      "[ 0.01090566]\n",
      "[ 0.0210058]\n",
      "[ 0.01038099]\n",
      "[ 0.01204298]\n",
      "[ 0.01046946]\n",
      "[ 0.01091578]\n",
      "[ 0.01985605]\n",
      "[ 0.01107582]\n",
      "[ 0.01587842]\n",
      "[ 0.01447538]\n",
      "[ 0.02115956]\n",
      "[ 0.01702967]\n",
      "[ 0.0165192]\n",
      "[ 0.01328263]\n",
      "[ 0.01087209]\n",
      "[ 0.01521535]\n",
      "[ 0.01294893]\n",
      "[ 0.01926329]\n",
      "[ 0.01650753]\n",
      "[ 0.02580361]\n",
      "[ 0.01036021]\n",
      "[ 0.01474209]\n",
      "[ 0.01081807]\n",
      "[ 0.01734527]\n",
      "[ 0.01518637]\n",
      "[ 0.0144957]\n",
      "[ 0.01024233]\n",
      "[ 0.01275267]\n",
      "[ 0.01639143]\n",
      "[ 0.01889602]\n",
      "[ 0.02875413]\n",
      "[ 0.01189772]\n",
      "[ 0.01159331]\n",
      "[ 0.02144769]\n",
      "[ 0.01973818]\n",
      "[ 0.01673661]\n",
      "[ 0.01544154]\n",
      "[ 0.01052744]\n",
      "[ 0.01517069]\n",
      "[ 0.01338833]\n",
      "[ 0.01576282]\n",
      "[ 0.01520438]\n",
      "[ 0.01193996]\n",
      "[ 0.01380035]\n",
      "[ 0.01443161]\n",
      "[ 0.02432571]\n",
      "[ 0.02963062]\n",
      "[ 0.01393836]\n",
      "[ 0.01217617]\n",
      "[ 0.01418866]\n",
      "[ 0.01161488]\n",
      "[ 0.01010885]\n",
      "[ 0.01091722]\n",
      "[ 0.01937933]\n",
      "[ 0.0157495]\n",
      "[ 0.01406928]\n",
      "[ 0.01005487]\n",
      "[ 0.02259834]\n",
      "[ 0.01153475]\n",
      "[ 0.01436331]\n",
      "[ 0.02261317]\n",
      "[ 0.01100799]\n",
      "[ 0.01178531]\n",
      "[ 0.01022959]\n",
      "[ 0.01404657]\n",
      "[ 0.01063983]\n",
      "[ 0.01123657]\n",
      "[ 0.01504865]\n",
      "[ 0.01623598]\n",
      "[ 0.01132701]\n",
      "[ 0.01245879]\n",
      "[ 0.02079974]\n",
      "[ 0.01478461]\n",
      "[ 0.02877641]\n",
      "[ 0.01359635]\n",
      "[ 0.01051804]\n",
      "[ 0.01211405]\n",
      "[ 0.01076491]\n",
      "[ 0.01150952]\n",
      "[ 0.01015869]\n",
      "[ 0.01121007]\n",
      "[ 0.01030052]\n",
      "[ 0.01259989]\n",
      "[ 0.011166]\n",
      "[ 0.0152268]\n",
      "[ 0.01584799]\n",
      "[ 0.01311838]\n",
      "[ 0.01500456]\n",
      "[ 0.01156859]\n",
      "[ 0.01415955]\n",
      "[ 0.01048256]\n",
      "[ 0.01314727]\n",
      "[ 0.01372695]\n",
      "[ 0.01127904]\n",
      "[ 0.01228171]\n",
      "[ 0.01124903]\n",
      "[ 0.01089733]\n",
      "[ 0.02610102]\n",
      "[ 0.02580361]\n",
      "[ 0.0125424]\n",
      "[ 0.01042956]\n",
      "[ 0.01465235]\n",
      "[ 0.01088047]\n",
      "[ 0.01282174]\n",
      "[ 0.01765818]\n",
      "[ 0.01393445]\n",
      "[ 0.03168502]\n",
      "[ 0.01176851]\n",
      "[ 0.01566031]\n",
      "[ 0.01038099]\n",
      "[ 0.01137473]\n",
      "[ 0.01591247]\n",
      "[ 0.0162641]\n",
      "[ 0.01653783]\n",
      "[ 0.01295429]\n",
      "[ 0.0176663]\n",
      "[ 0.02222558]\n",
      "[ 0.01390971]\n",
      "[ 0.01174624]\n",
      "[ 0.0170595]\n",
      "[ 0.01491306]\n",
      "[ 0.01674113]\n",
      "[ 0.01486294]\n",
      "[ 0.01363746]\n",
      "[ 0.0116377]\n",
      "[ 0.0173796]\n",
      "[ 0.01167215]\n",
      "[ 0.01294163]\n",
      "[ 0.01848065]\n",
      "[ 0.02491546]\n",
      "[ 0.01291484]\n",
      "[ 0.01811806]\n",
      "[ 0.01518513]\n",
      "[ 0.01013754]\n",
      "[ 0.02081365]\n",
      "[ 0.01230684]\n",
      "[ 0.01817833]\n",
      "[ 0.01673661]\n",
      "[ 0.01151847]\n",
      "[ 0.01230668]\n",
      "[ 0.01127436]\n",
      "[ 0.01135445]\n",
      "[ 0.01552625]\n",
      "[ 0.01406602]\n",
      "[ 0.02390662]\n",
      "[ 0.0103926]\n",
      "[ 0.01142983]\n",
      "[ 0.01254401]\n",
      "[ 0.01973855]\n",
      "[ 0.02405556]\n",
      "[ 0.01107243]\n",
      "[ 0.02072632]\n",
      "[ 0.01134319]\n",
      "[ 0.01911144]\n",
      "[ 0.01081715]\n",
      "[ 0.02132467]\n",
      "[ 0.01486847]\n",
      "[ 0.01387868]\n",
      "[ 0.01100595]\n",
      "[ 0.01956193]\n",
      "[ 0.01517397]\n",
      "[ 0.04408627]\n",
      "[ 0.01353453]\n",
      "[ 0.01304772]\n",
      "[ 0.01586547]\n",
      "[ 0.01517069]\n",
      "[ 0.01270265]\n",
      "[ 0.01130625]\n",
      "[ 0.01086041]\n",
      "[ 0.01393165]\n",
      "[ 0.02616548]\n",
      "[ 0.01137267]\n",
      "[ 0.01145534]\n",
      "[ 0.01776798]\n",
      "[ 0.01039114]\n",
      "[ 0.01712568]\n",
      "[ 0.01415164]\n",
      "[ 0.01715417]\n",
      "[ 0.01628094]\n",
      "[ 0.01919477]\n",
      "[ 0.01104604]\n",
      "[ 0.01639969]\n",
      "[ 0.01531753]\n",
      "[ 0.01446632]\n",
      "[ 0.01304382]\n",
      "[ 0.01748263]\n",
      "[ 0.01632965]\n",
      "[ 0.01700295]\n",
      "[ 0.0122974]\n",
      "[ 0.01866007]\n",
      "[ 0.01424618]\n",
      "[ 0.01307077]\n",
      "[ 0.01632965]\n",
      "[ 0.01103145]\n",
      "[ 0.01207666]\n",
      "[ 0.01728654]\n",
      "[ 0.01159618]\n",
      "[ 0.01579973]\n",
      "[ 0.01124721]\n",
      "[ 0.01574751]\n",
      "[ 0.01258252]\n",
      "[ 0.01345521]\n",
      "[ 0.01174609]\n",
      "[ 0.01674113]\n",
      "[ 0.01119474]\n",
      "[ 0.01433028]\n",
      "[ 0.01863835]\n",
      "[ 0.0118889]\n",
      "[ 0.02086957]\n",
      "[ 0.01616501]\n",
      "[ 0.01175274]\n",
      "[ 0.0494813]\n",
      "[ 0.01231285]\n",
      "[ 0.01259691]\n",
      "[ 0.01471909]\n",
      "[ 0.01359342]\n",
      "[ 0.01483614]\n",
      "[ 0.01148491]\n",
      "[ 0.01378131]\n",
      "[ 0.01605244]\n",
      "[ 0.01345551]\n",
      "[ 0.01249071]\n",
      "[ 0.01885215]\n",
      "[ 0.01231725]\n",
      "[ 0.01385772]\n",
      "[ 0.01301343]\n",
      "[ 0.02469874]\n",
      "[ 0.01291675]\n",
      "[ 0.01653783]\n",
      "[ 0.01423855]\n",
      "[ 0.01699346]\n",
      "[ 0.01545917]\n",
      "[ 0.01866196]\n",
      "[ 0.0146676]\n",
      "[ 0.01830744]\n",
      "[ 0.01075603]\n",
      "[ 0.02315331]\n",
      "[ 0.01480259]\n",
      "[ 0.01649555]\n",
      "[ 0.01515579]\n",
      "[ 0.01363729]\n",
      "[ 0.01670224]\n",
      "[ 0.02281599]\n",
      "[ 0.01252545]\n",
      "[ 0.01441852]\n",
      "[ 0.01113515]\n",
      "[ 0.01295246]\n",
      "[ 0.01870795]\n",
      "[ 0.01506075]\n",
      "[ 0.01454439]\n",
      "[ 0.01062642]\n",
      "[ 0.01060044]\n",
      "[ 0.02295218]\n",
      "[ 0.01186809]\n",
      "[ 0.01264812]\n",
      "[ 0.01091118]\n",
      "[ 0.01458116]\n",
      "[ 0.01142753]\n",
      "[ 0.01395565]\n",
      "[ 0.02081757]\n",
      "[ 0.01592939]\n",
      "[ 0.01116186]\n",
      "[ 0.01476655]\n",
      "[ 0.01228164]\n",
      "[ 0.03012611]\n",
      "[ 0.02016047]\n",
      "[ 0.01642088]\n",
      "[ 0.01376629]\n",
      "[ 0.01380078]\n",
      "[ 0.01026128]\n",
      "[ 0.01557157]\n",
      "[ 0.01143545]\n",
      "[ 0.01193435]\n",
      "[ 0.01342194]\n",
      "[ 0.01328655]\n",
      "[ 0.01013324]\n",
      "[ 0.01771519]\n",
      "[ 0.01142234]\n",
      "[ 0.01080786]\n",
      "[ 0.01205238]\n",
      "[ 0.01009333]\n",
      "[ 0.02540883]\n",
      "[ 0.01764056]\n",
      "[ 0.01421402]\n",
      "[ 0.01165705]\n",
      "[ 0.01263277]\n",
      "[ 0.01329211]\n",
      "[ 0.01184379]\n",
      "[ 0.01674505]\n",
      "[ 0.01158721]\n",
      "[ 0.01564924]\n",
      "[ 0.01967906]\n",
      "[ 0.01616391]\n",
      "[ 0.01022976]\n",
      "[ 0.02143921]\n",
      "[ 0.0135369]\n",
      "[ 0.01221583]\n",
      "[ 0.01090912]\n",
      "[ 0.01695152]\n",
      "[ 0.01027315]\n",
      "[ 0.02517192]\n",
      "[ 0.02907437]\n",
      "[ 0.0100035]\n",
      "[ 0.01913995]\n",
      "[ 0.01288015]\n",
      "[ 0.01379101]\n",
      "[ 0.01830394]\n",
      "[ 0.01065609]\n",
      "[ 0.01043561]\n",
      "[ 0.01648562]\n",
      "[ 0.01586266]\n",
      "[ 0.01113622]\n",
      "[ 0.02041866]\n",
      "[ 0.01640644]\n",
      "[ 0.01437811]\n",
      "[ 0.02963062]\n",
      "[ 0.01365388]\n",
      "[ 0.01041913]\n",
      "[ 0.01059632]\n",
      "[ 0.01133908]\n",
      "[ 0.01414471]\n",
      "[ 0.01490016]\n",
      "[ 0.01808181]\n",
      "[ 0.01761649]\n",
      "[ 0.01307121]\n",
      "[ 0.01893204]\n",
      "[ 0.01824172]\n",
      "[ 0.01195059]\n",
      "[ 0.01366297]\n",
      "[ 0.01032812]\n",
      "[ 0.01389067]\n",
      "[ 0.01165364]\n",
      "[ 0.01759614]\n",
      "[ 0.01246998]\n",
      "[ 0.01138989]\n",
      "[ 0.01121634]\n",
      "[ 0.01340288]\n",
      "[ 0.01911554]\n",
      "[ 0.01056868]\n",
      "[ 0.01955982]\n",
      "[ 0.01037865]\n",
      "[ 0.01808245]\n",
      "[ 0.01285013]\n",
      "[ 0.01586266]\n",
      "[ 0.01135652]\n",
      "[ 0.01254966]\n",
      "[ 0.01504861]\n",
      "[ 0.01574751]\n",
      "[ 0.02334633]\n",
      "[ 0.01255459]\n",
      "[ 0.01309417]\n",
      "[ 0.01059966]\n",
      "[ 0.01460799]\n",
      "[ 0.01643309]\n",
      "[ 0.01516034]\n",
      "[ 0.01242828]\n",
      "[ 0.01406918]\n",
      "[ 0.01517754]\n",
      "[ 0.01201076]\n",
      "[ 0.0159221]\n",
      "[ 0.02287428]\n",
      "[ 0.01264323]\n",
      "[ 0.01580828]\n",
      "[ 0.01188032]\n",
      "[ 0.03059004]\n",
      "[ 0.01103965]\n",
      "[ 0.01977543]\n",
      "[ 0.02203349]\n",
      "[ 0.01408367]\n",
      "[ 0.01828412]\n",
      "[ 0.01126263]\n",
      "[ 0.01997926]\n",
      "[ 0.01257678]\n",
      "[ 0.01243278]\n",
      "[ 0.01098977]\n",
      "[ 0.01466084]\n",
      "[ 0.01072763]\n",
      "[ 0.02013489]\n",
      "[ 0.01438824]\n",
      "[ 0.01662425]\n",
      "[ 0.01886235]\n",
      "[ 0.01094942]\n",
      "[ 0.01498882]\n",
      "[ 0.01218689]\n",
      "[ 0.01019699]\n",
      "[ 0.01147456]\n",
      "[ 0.01792889]\n",
      "[ 0.01080786]\n",
      "[ 0.01896659]\n",
      "[ 0.01177724]\n",
      "[ 0.01413551]\n",
      "[ 0.02008597]\n",
      "[ 0.01432665]\n",
      "[ 0.0129663]\n",
      "[ 0.01623659]\n",
      "[ 0.01730639]\n",
      "[ 0.01594398]\n",
      "[ 0.0222348]\n",
      "[ 0.01560132]\n",
      "[ 0.01920604]\n",
      "[ 0.01422869]\n",
      "[ 0.0107617]\n",
      "[ 0.01036976]\n",
      "[ 0.0275681]\n",
      "[ 0.01402946]\n",
      "[ 0.01701097]\n",
      "[ 0.01063575]\n",
      "[ 0.01076647]\n",
      "[ 0.01357253]\n",
      "[ 0.01260818]\n",
      "[ 0.01575436]\n",
      "[ 0.01473552]\n",
      "[ 0.01046818]\n",
      "[ 0.01799439]\n",
      "[ 0.01499583]\n",
      "[ 0.01124608]\n",
      "[ 0.01767255]\n",
      "[ 0.01072926]\n",
      "[ 0.01518554]\n",
      "[ 0.01159275]\n",
      "[ 0.03459842]\n",
      "[ 0.01822258]\n",
      "[ 0.01248731]\n",
      "[ 0.01203272]\n",
      "[ 0.0160022]\n",
      "[ 0.01106484]\n",
      "[ 0.01732947]\n",
      "[ 0.01558499]\n",
      "[ 0.01063677]\n",
      "[ 0.0219898]\n",
      "[ 0.01642994]\n",
      "[ 0.01460616]\n",
      "[ 0.01056152]\n",
      "[ 0.01125966]\n",
      "[ 0.01420266]\n",
      "[ 0.01099232]\n",
      "[ 0.03004394]\n",
      "[ 0.02030524]\n",
      "[ 0.01414343]\n",
      "[ 0.0300084]\n",
      "[ 0.01795872]\n",
      "[ 0.01520398]\n",
      "[ 0.01113895]\n",
      "[ 0.01520763]\n",
      "[ 0.01757563]\n",
      "[ 0.01027428]\n",
      "[ 0.01257678]\n",
      "[ 0.01038099]\n",
      "[ 0.0122931]\n",
      "[ 0.01575562]\n",
      "[ 0.01246476]\n",
      "[ 0.0126644]\n",
      "[ 0.01250822]\n",
      "[ 0.0144577]\n",
      "[ 0.01252835]\n",
      "[ 0.0156754]\n",
      "[ 0.01177198]\n",
      "[ 0.01834846]\n",
      "[ 0.01462773]\n",
      "[ 0.02019517]\n",
      "[ 0.01198462]\n",
      "[ 0.01040408]\n",
      "[ 0.02823167]\n",
      "[ 0.01884008]\n",
      "[ 0.01610411]\n",
      "[ 0.02068309]\n",
      "[ 0.01385641]\n",
      "[ 0.01267187]\n",
      "[ 0.01020843]\n",
      "[ 0.01423463]\n",
      "[ 0.01553338]\n",
      "[ 0.01374952]\n",
      "[ 0.01089329]\n",
      "[ 0.02783003]\n",
      "[ 0.01476228]\n",
      "[ 0.01180206]\n",
      "[ 0.02154483]\n",
      "[ 0.01374131]\n",
      "[ 0.0114708]\n",
      "[ 0.01066482]\n",
      "[ 0.01861152]\n"
     ]
    },
    {
     "name": "stdout",
     "output_type": "stream",
     "text": [
      "[ 0.01106484]\n",
      "[ 0.01138703]\n",
      "[ 0.01942905]\n",
      "[ 0.01595401]\n",
      "[ 0.01288842]\n",
      "[ 0.01025383]\n",
      "[ 0.01061472]\n",
      "[ 0.01769284]\n",
      "[ 0.01601892]\n",
      "[ 0.01276079]\n",
      "[ 0.02622153]\n",
      "[ 0.01263502]\n",
      "[ 0.01901378]\n",
      "[ 0.01097697]\n",
      "[ 0.01185007]\n",
      "[ 0.01472269]\n",
      "[ 0.02130864]\n",
      "[ 0.01368446]\n",
      "[ 0.01712172]\n",
      "[ 0.01750414]\n",
      "[ 0.02010679]\n",
      "[ 0.01546146]\n",
      "[ 0.0185279]\n",
      "[ 0.01130761]\n",
      "[ 0.01681104]\n",
      "[ 0.01536118]\n",
      "[ 0.01423073]\n",
      "[ 0.01715456]\n",
      "[ 0.01269678]\n",
      "[ 0.01331731]\n",
      "[ 0.01219656]\n",
      "[ 0.01026164]\n",
      "[ 0.01011461]\n",
      "[ 0.01347628]\n",
      "[ 0.01549416]\n",
      "[ 0.02243647]\n",
      "[ 0.01453093]\n",
      "[ 0.01188252]\n",
      "[ 0.01424562]\n",
      "[ 0.01636739]\n",
      "[ 0.01918828]\n",
      "[ 0.01107707]\n",
      "[ 0.01036988]\n",
      "[ 0.01014518]\n",
      "[ 0.01565612]\n"
     ]
    }
   ],
   "source": [
    "for i in fid:\n",
    "    if i > 0.01:\n",
    "        print (i)"
   ]
  },
  {
   "cell_type": "code",
   "execution_count": 128,
   "metadata": {},
   "outputs": [
    {
     "data": {
      "text/plain": [
       "True"
      ]
     },
     "execution_count": 128,
     "metadata": {},
     "output_type": "execute_result"
    }
   ],
   "source": [
    "fid > 0.1"
   ]
  },
  {
   "cell_type": "code",
   "execution_count": 118,
   "metadata": {},
   "outputs": [
    {
     "data": {
      "text/html": [
       "<div>\n",
       "<table border=\"1\" class=\"dataframe\">\n",
       "  <thead>\n",
       "    <tr style=\"text-align: right;\">\n",
       "      <th></th>\n",
       "      <th>session_id</th>\n",
       "      <th>target</th>\n",
       "    </tr>\n",
       "  </thead>\n",
       "  <tbody>\n",
       "    <tr>\n",
       "      <th>0</th>\n",
       "      <td>1</td>\n",
       "      <td>0.005327</td>\n",
       "    </tr>\n",
       "  </tbody>\n",
       "</table>\n",
       "</div>"
      ],
      "text/plain": [
       "   session_id    target\n",
       "0           1  0.005327"
      ]
     },
     "execution_count": 118,
     "metadata": {},
     "output_type": "execute_result"
    },
    {
     "name": "stdout",
     "output_type": "stream",
     "text": [
      "\n"
     ]
    }
   ],
   "source": [
    "a[a.session_id == 1]"
   ]
  },
  {
   "cell_type": "code",
   "execution_count": 134,
   "metadata": {},
   "outputs": [
    {
     "data": {
      "text/html": [
       "<div>\n",
       "<table border=\"1\" class=\"dataframe\">\n",
       "  <thead>\n",
       "    <tr style=\"text-align: right;\">\n",
       "      <th></th>\n",
       "      <th>session_id</th>\n",
       "      <th>target</th>\n",
       "    </tr>\n",
       "  </thead>\n",
       "  <tbody>\n",
       "    <tr>\n",
       "      <th>0</th>\n",
       "      <td>1</td>\n",
       "      <td>0.005327</td>\n",
       "    </tr>\n",
       "  </tbody>\n",
       "</table>\n",
       "</div>"
      ],
      "text/plain": [
       "   session_id    target\n",
       "0           1  0.005327"
      ]
     },
     "execution_count": 134,
     "metadata": {},
     "output_type": "execute_result"
    }
   ],
   "source": [
    "b.head(1)"
   ]
  },
  {
   "cell_type": "code",
   "execution_count": 140,
   "metadata": {},
   "outputs": [
    {
     "name": "stdout",
     "output_type": "stream",
     "text": [
      "0.0626151\n",
      "0.0515152\n",
      "0.0551046\n",
      "0.0703486\n",
      "0.0825784\n",
      "0.0539323\n",
      "0.0626661\n",
      "0.064266\n",
      "0.0809897\n",
      "0.071385\n",
      "0.05978\n",
      "0.0826047\n",
      "0.0663563\n",
      "0.0823051\n",
      "0.0505764\n",
      "0.0604411\n",
      "0.0551046\n",
      "0.0708812\n",
      "0.0632034\n"
     ]
    }
   ],
   "source": [
    "b = a\n",
    "br = p\n",
    "for i in br:\n",
    "    if i > 0.05:\n",
    "        print (i)"
   ]
  },
  {
   "cell_type": "code",
   "execution_count": null,
   "metadata": {
    "collapsed": true
   },
   "outputs": [],
   "source": []
  },
  {
   "cell_type": "code",
   "execution_count": null,
   "metadata": {
    "collapsed": true
   },
   "outputs": [],
   "source": []
  },
  {
   "cell_type": "code",
   "execution_count": null,
   "metadata": {
    "collapsed": true
   },
   "outputs": [],
   "source": []
  },
  {
   "cell_type": "code",
   "execution_count": null,
   "metadata": {
    "collapsed": true
   },
   "outputs": [],
   "source": []
  },
  {
   "cell_type": "markdown",
   "metadata": {},
   "source": [
    "# XGBoost настройка"
   ]
  },
  {
   "cell_type": "code",
   "execution_count": 16,
   "metadata": {
    "collapsed": true
   },
   "outputs": [],
   "source": [
    "from sklearn.grid_search import GridSearchCV"
   ]
  },
  {
   "cell_type": "code",
   "execution_count": null,
   "metadata": {
    "collapsed": true
   },
   "outputs": [],
   "source": [
    "'learning_rate': 0.1, 'n_estimators': 1000, 'seed':42, 'subsample': 0.8, 'colsample_bytree': 0.8, \n",
    "             'objective': 'binary:logistic'\n",
    "                'eta': 0.1, 'seed':0, 'subsample': 0.8, 'colsample_bytree': 0.8,"
   ]
  },
  {
   "cell_type": "code",
   "execution_count": 23,
   "metadata": {
    "collapsed": true
   },
   "outputs": [],
   "source": [
    "cv_params = {'max_depth':[22,25,30]}\n",
    "ind_params = {'seed':0, 'subsample': 0.8, 'colsample_bytree': 0.8, \n",
    "             'objective': 'binary:logistic', 'min_child_weight':1,\n",
    "              'n_estimators': 30,'learning_rate': 0.1}\n",
    "optimized_GBM = GridSearchCV(xgb.XGBClassifier(**ind_params), \n",
    "                            cv_params, \n",
    "                             scoring = 'f1', cv = 3) \n",
    "# Optimize for accuracy since that is the metric used in the Adult Data Set notation"
   ]
  },
  {
   "cell_type": "code",
   "execution_count": 24,
   "metadata": {},
   "outputs": [
    {
     "data": {
      "text/plain": [
       "GridSearchCV(cv=3, error_score='raise',\n",
       "       estimator=XGBClassifier(base_score=0.5, colsample_bytree=0.8, gamma=0,\n",
       "       learning_rate=0.1, max_delta_step=0, max_depth=3,\n",
       "       min_child_weight=1, n_estimators=30, nthread=-1,\n",
       "       objective='binary:logistic', seed=0, silent=True, subsample=0.8),\n",
       "       fit_params={}, iid=True, loss_func=None, n_jobs=1,\n",
       "       param_grid={'max_depth': [22, 25, 30]}, pre_dispatch='2*n_jobs',\n",
       "       refit=True, score_func=None, scoring='f1', verbose=0)"
      ]
     },
     "execution_count": 24,
     "metadata": {},
     "output_type": "execute_result"
    }
   ],
   "source": [
    "optimized_GBM.fit(X_train_sm, y_train_sm)"
   ]
  },
  {
   "cell_type": "code",
   "execution_count": 25,
   "metadata": {},
   "outputs": [
    {
     "data": {
      "text/plain": [
       "[mean: 0.63381, std: 0.01322, params: {'max_depth': 22},\n",
       " mean: 0.63264, std: 0.01098, params: {'max_depth': 25},\n",
       " mean: 0.63238, std: 0.01128, params: {'max_depth': 30}]"
      ]
     },
     "execution_count": 25,
     "metadata": {},
     "output_type": "execute_result"
    }
   ],
   "source": [
    "optimized_GBM.grid_scores_"
   ]
  },
  {
   "cell_type": "code",
   "execution_count": null,
   "metadata": {
    "collapsed": true
   },
   "outputs": [],
   "source": [
    "[mean: 0.63381, std: 0.01322, params: {'max_depth': 22},\n",
    " mean: 0.63264, std: 0.01098, params: {'max_depth': 25},\n",
    " mean: 0.63238, std: 0.01128, params: {'max_depth': 30}]"
   ]
  },
  {
   "cell_type": "code",
   "execution_count": null,
   "metadata": {
    "collapsed": true
   },
   "outputs": [],
   "source": [
    "[mean: 0.56751, std: 0.02093, params: {'max_depth': 10},\n",
    " mean: 0.60860, std: 0.01024, params: {'max_depth': 15},\n",
    " mean: 0.62386, std: 0.00707, params: {'max_depth': 20}]"
   ]
  },
  {
   "cell_type": "code",
   "execution_count": null,
   "metadata": {
    "collapsed": true
   },
   "outputs": [],
   "source": [
    "{'seed':0, 'subsample': 0.8, 'colsample_bytree': 0.8, \n",
    "             'objective': 'binary:logistic', 'min_child_weight':1,\n",
    "              'n_estimators': 30,'learning_rate': 0.1}"
   ]
  },
  {
   "cell_type": "code",
   "execution_count": null,
   "metadata": {
    "collapsed": true
   },
   "outputs": [],
   "source": []
  },
  {
   "cell_type": "code",
   "execution_count": null,
   "metadata": {
    "collapsed": true
   },
   "outputs": [],
   "source": []
  },
  {
   "cell_type": "code",
   "execution_count": null,
   "metadata": {
    "collapsed": true
   },
   "outputs": [],
   "source": []
  },
  {
   "cell_type": "code",
   "execution_count": null,
   "metadata": {
    "collapsed": true
   },
   "outputs": [],
   "source": []
  },
  {
   "cell_type": "code",
   "execution_count": null,
   "metadata": {
    "collapsed": true
   },
   "outputs": [],
   "source": [
    "# сессия без учета последовательности сайтов"
   ]
  },
  {
   "cell_type": "code",
   "execution_count": null,
   "metadata": {
    "collapsed": true
   },
   "outputs": [],
   "source": [
    "[mean: 0.75384, std: 0.00782, params: {'colsample_bytree': 0.8},\n",
    " mean: 0.76864, std: 0.02027, params: {'colsample_bytree': 1}]"
   ]
  },
  {
   "cell_type": "code",
   "execution_count": null,
   "metadata": {
    "collapsed": true
   },
   "outputs": [],
   "source": [
    "mean: 0.76864, std: 0.02027, params: {'learning_rate': 0.1},\n",
    "mean: 0.75809, std: 0.01103, params: {'learning_rate': 0.2},\n",
    "mean: 0.76235, std: 0.01677, params: {'learning_rate': 0.3}"
   ]
  },
  {
   "cell_type": "code",
   "execution_count": null,
   "metadata": {
    "collapsed": true
   },
   "outputs": [],
   "source": [
    "[mean: 0.63728, std: 0.00292, params: {'n_estimators': 10},\n",
    " mean: 0.73457, std: 0.01659, params: {'n_estimators': 50}\n",
    " mean: 0.76486, std: 0.01842, params: {'n_estimators': 100},\n",
    " mean: 0.76864, std: 0.02027, params: {'n_estimators': 150]"
   ]
  },
  {
   "cell_type": "code",
   "execution_count": null,
   "metadata": {
    "collapsed": true
   },
   "outputs": [],
   "source": [
    "[mean: 0.76486, std: 0.01842, params: {'min_child_weight': 1},\n",
    " mean: 0.73891, std: 0.01382, params: {'min_child_weight': 3},\n",
    " mean: 0.70740, std: 0.00792, params: {'min_child_weight': 5}]"
   ]
  },
  {
   "cell_type": "code",
   "execution_count": null,
   "metadata": {
    "collapsed": true
   },
   "outputs": [],
   "source": [
    "[mean: 0.74892, std: 0.01660, params: {'max_depth': 10},\n",
    "[mean: 0.76101, std: 0.01516, params: {'max_depth': 18},\n",
    " mean: 0.75797, std: 0.01374, params: {'max_depth': 20},\n",
    " mean: 0.76486, std: 0.01842, params: {'max_depth': 22}]\n",
    " mean: 0.75292, std: 0.02066, params: {'max_depth': 30}]"
   ]
  },
  {
   "cell_type": "code",
   "execution_count": 76,
   "metadata": {},
   "outputs": [
    {
     "name": "stdout",
     "output_type": "stream",
     "text": [
      "matrix_test\n",
      "[[40173    33]\n",
      " [  158   206]]\n",
      "\n",
      "('test', 0.68325041459369817)\n",
      "matrix_test\n",
      "[[50219    36]\n",
      " [  176   282]]\n",
      "\n",
      "('test', 0.72680412371134018)\n"
     ]
    }
   ],
   "source": [
    "print ('matrix_test') \n",
    "print (metrics.confusion_matrix(y_test_sm, optimized_GBM.predict(X_test_sm)))\n",
    "print (\"\")\n",
    "print ('test', metrics.f1_score(y_test_sm, optimized_GBM.predict(X_test_sm)))\n",
    "\n",
    "print ('matrix_test') \n",
    "print (metrics.confusion_matrix(y_test, optimized_GBM.predict(X_test)))\n",
    "print (\"\")\n",
    "print ('test', metrics.f1_score(y_test, optimized_GBM.predict(X_test)))"
   ]
  },
  {
   "cell_type": "code",
   "execution_count": null,
   "metadata": {
    "collapsed": true
   },
   "outputs": [],
   "source": [
    "matrix_test\n",
    "[[40173    33]\n",
    " [  158   206]]\n",
    "\n",
    "('test', 0.68325041459369817)\n",
    "matrix_test\n",
    "[[50219    36]\n",
    " [  176   282]]\n",
    "\n",
    "('test', 0.72680412371134018)"
   ]
  },
  {
   "cell_type": "code",
   "execution_count": null,
   "metadata": {
    "collapsed": true
   },
   "outputs": [],
   "source": []
  },
  {
   "cell_type": "code",
   "execution_count": null,
   "metadata": {
    "collapsed": true
   },
   "outputs": [],
   "source": []
  },
  {
   "cell_type": "code",
   "execution_count": 12,
   "metadata": {
    "collapsed": true
   },
   "outputs": [],
   "source": [
    "def gini(actual, pred, cmpcol = 0, sortcol = 1):\n",
    "    assert( len(actual) == len(pred) )\n",
    "    all = np.asarray(np.c_[ actual, pred, np.arange(len(actual)) ], dtype=np.float)\n",
    "    all = all[ np.lexsort((all[:,2], -1*all[:,1])) ]\n",
    "    totalLosses = all[:,0].sum()\n",
    "    giniSum = all[:,0].cumsum().sum() / totalLosses\n",
    "    \n",
    "    giniSum -= (len(actual) + 1) / 2.\n",
    "    return giniSum / len(actual)\n",
    "\n",
    "def gini_normalized(a, p):\n",
    "    return gini(a, p) / gini(a, a)\n",
    "\n",
    "def gini_xgb(preds, dtrain):\n",
    "    labels = dtrain.get_label()\n",
    "    gini_score = gini_normalized(labels, preds)\n",
    "    return [('gini', gini_score)]"
   ]
  },
  {
   "cell_type": "code",
   "execution_count": 15,
   "metadata": {
    "collapsed": true
   },
   "outputs": [],
   "source": [
    "from sklearn.cross_validation import KFold"
   ]
  },
  {
   "cell_type": "code",
   "execution_count": 22,
   "metadata": {
    "collapsed": true
   },
   "outputs": [],
   "source": [
    "from xgboost import XGBClassifier"
   ]
  },
  {
   "cell_type": "code",
   "execution_count": 23,
   "metadata": {},
   "outputs": [
    {
     "data": {
      "text/plain": [
       "XGBClassifier(base_score=0.5, colsample_bytree=1, gamma=0, learning_rate=0.1,\n",
       "       max_delta_step=0, max_depth=3, min_child_weight=1, n_estimators=100,\n",
       "       nthread=-1, objective='binary:logistic', seed=0, silent=True,\n",
       "       subsample=1)"
      ]
     },
     "execution_count": 23,
     "metadata": {},
     "output_type": "execute_result"
    }
   ],
   "source": [
    "# fit model no training data\n",
    "model = XGBClassifier()\n",
    "model.fit(X_train_sm, y_train_sm)"
   ]
  },
  {
   "cell_type": "code",
   "execution_count": 25,
   "metadata": {},
   "outputs": [
    {
     "name": "stdout",
     "output_type": "stream",
     "text": [
      "matrix_test\n",
      "[[40199     7]\n",
      " [  279    85]]\n",
      "\n",
      "('test', 0.37280701754385964)\n",
      "matrix_test\n",
      "[[50248     7]\n",
      " [  331   127]]\n",
      "\n",
      "('test', 0.429054054054054)\n"
     ]
    }
   ],
   "source": [
    "print ('matrix_test') \n",
    "print (metrics.confusion_matrix(y_test_sm, model.predict(X_test_sm)))\n",
    "print (\"\")\n",
    "print ('test', metrics.f1_score(y_test_sm, model.predict(X_test_sm)))\n",
    "\n",
    "print ('matrix_test') \n",
    "print (metrics.confusion_matrix(y_test, model.predict(X_test)))\n",
    "print (\"\")\n",
    "print ('test', metrics.f1_score(y_test, model.predict(X_test)))"
   ]
  },
  {
   "cell_type": "code",
   "execution_count": null,
   "metadata": {
    "collapsed": true
   },
   "outputs": [],
   "source": [
    "xgb_params = {\n",
    "        'eta': 0.02,\n",
    "        'max_depth': 6,\n",
    "        'subsample': 0.9,\n",
    "        'objective': 'binary:logistic',\n",
    "        'silent': 1,\n",
    "        'colsample_bytree': 0.9}"
   ]
  },
  {
   "cell_type": "code",
   "execution_count": null,
   "metadata": {
    "collapsed": true
   },
   "outputs": [],
   "source": []
  },
  {
   "cell_type": "code",
   "execution_count": null,
   "metadata": {
    "collapsed": true
   },
   "outputs": [],
   "source": [
    "xgb_preds = []\n",
    "\n",
    "# params configuration also from anokas' kernel\n",
    "\n",
    "\n",
    "train_big = xgb.DMatrix(X_train_big_g, y_train_big_g)\n",
    "test = xgb.DMatrix(X_test_g, y_test_g)\n",
    "train = xgb.DMatrix(X_train_sm_g, y_train_sm_g)"
   ]
  },
  {
   "cell_type": "code",
   "execution_count": null,
   "metadata": {
    "collapsed": true
   },
   "outputs": [],
   "source": [
    "model = xgb.train(xgb_params, d_train, num_boost_round = 600)\n",
    "\n",
    "xgb_pred = model.predict(d_test)"
   ]
  },
  {
   "cell_type": "code",
   "execution_count": 58,
   "metadata": {
    "collapsed": true
   },
   "outputs": [],
   "source": [
    "xgb_pred "
   ]
  },
  {
   "cell_type": "code",
   "execution_count": 27,
   "metadata": {
    "collapsed": true
   },
   "outputs": [],
   "source": [
    "d_valid = xgb.DMatrix(X_test)\n",
    "\n",
    "xgb_pred_val = model.predict(d_valid)"
   ]
  },
  {
   "cell_type": "code",
   "execution_count": 24,
   "metadata": {},
   "outputs": [
    {
     "data": {
      "text/plain": [
       "array([ 0.04999888,  0.03935826,  0.03157259, ...,  0.02098013,\n",
       "        0.01868199,  0.13389409], dtype=float32)"
      ]
     },
     "execution_count": 24,
     "metadata": {},
     "output_type": "execute_result"
    }
   ],
   "source": [
    "xgb_pred_val"
   ]
  },
  {
   "cell_type": "code",
   "execution_count": 33,
   "metadata": {
    "collapsed": true
   },
   "outputs": [],
   "source": [
    "#Import the modules from `sklearn.metrics`\n",
    "from sklearn.metrics import confusion_matrix, precision_score, recall_score, f1_score"
   ]
  },
  {
   "cell_type": "code",
   "execution_count": null,
   "metadata": {
    "collapsed": true
   },
   "outputs": [],
   "source": []
  },
  {
   "cell_type": "code",
   "execution_count": 41,
   "metadata": {
    "collapsed": true
   },
   "outputs": [],
   "source": [
    "pereschet = []\n",
    "for i in range(len(xgb_pred_val)):\n",
    "    if xgb_pred_val[i] > 0.055:\n",
    "        pereschet.append(1)\n",
    "    else: \n",
    "        pereschet.append(0)"
   ]
  },
  {
   "cell_type": "code",
   "execution_count": null,
   "metadata": {
    "collapsed": true
   },
   "outputs": [],
   "source": [
    "# Confusion matrix\n",
    "print 'confusion_matrix'\n",
    "print\n",
    "print confusion_matrix(y_test, pereschet)\n",
    "print  \n",
    "\n",
    "# Precision \n",
    "print 'precision_score  ' , precision_score(y_test, pereschet)\n",
    "print\n",
    "\n",
    "# Recall\n",
    "print 'recall_score     ', recall_score(y_test, pereschet)\n",
    "print\n",
    "# F1 score\n",
    "print 'f1_score         ', f1_score(y_test,pereschet)\n",
    "print\n"
   ]
  },
  {
   "cell_type": "code",
   "execution_count": 53,
   "metadata": {
    "collapsed": true
   },
   "outputs": [],
   "source": [
    "import pandas as pd"
   ]
  },
  {
   "cell_type": "code",
   "execution_count": 84,
   "metadata": {
    "collapsed": true
   },
   "outputs": [],
   "source": [
    "id_test = sub['id'].values"
   ]
  },
  {
   "cell_type": "code",
   "execution_count": 85,
   "metadata": {
    "collapsed": true
   },
   "outputs": [],
   "source": [
    "preds = sub['mean'].values"
   ]
  },
  {
   "cell_type": "code",
   "execution_count": 86,
   "metadata": {
    "collapsed": true
   },
   "outputs": [],
   "source": [
    "output = pd.DataFrame({'id': id_test, 'target': preds})"
   ]
  },
  {
   "cell_type": "code",
   "execution_count": 95,
   "metadata": {
    "collapsed": true
   },
   "outputs": [],
   "source": [
    "output.to_csv(\"second_sub_mean.csv\", index=False)"
   ]
  },
  {
   "cell_type": "code",
   "execution_count": 22,
   "metadata": {
    "collapsed": true
   },
   "outputs": [],
   "source": [
    "xgb_pred = model.predict(d_test)"
   ]
  },
  {
   "cell_type": "code",
   "execution_count": 23,
   "metadata": {},
   "outputs": [
    {
     "data": {
      "text/plain": [
       "array([ 0.02519413,  0.02382817,  0.03300509, ...,  0.03440644,\n",
       "        0.03141858,  0.03043357], dtype=float32)"
      ]
     },
     "execution_count": 23,
     "metadata": {},
     "output_type": "execute_result"
    }
   ],
   "source": [
    "xgb_pred"
   ]
  },
  {
   "cell_type": "code",
   "execution_count": null,
   "metadata": {
    "collapsed": true
   },
   "outputs": [],
   "source": []
  },
  {
   "cell_type": "code",
   "execution_count": null,
   "metadata": {
    "collapsed": true
   },
   "outputs": [],
   "source": []
  },
  {
   "cell_type": "code",
   "execution_count": null,
   "metadata": {
    "collapsed": true
   },
   "outputs": [],
   "source": []
  },
  {
   "cell_type": "code",
   "execution_count": null,
   "metadata": {
    "collapsed": true
   },
   "outputs": [],
   "source": []
  },
  {
   "cell_type": "markdown",
   "metadata": {
    "collapsed": true
   },
   "source": [
    "### Кривые обучения для деревьев большей глубины"
   ]
  },
  {
   "cell_type": "code",
   "execution_count": 53,
   "metadata": {
    "collapsed": true
   },
   "outputs": [],
   "source": [
    "# params configuration also from anokas' kernel\n",
    "xgb_params = {\n",
    "        'eta': 0.02,\n",
    "        'max_depth': 6,\n",
    "        'subsample': 0.9,\n",
    "        'objective': 'binary:logistic',\n",
    "        'silent': 1,\n",
    "        'colsample_bytree': 0.9\n",
    "    }\n",
    "\n",
    "   # estimator = xgb.XGBClassifier(learning_rate=0.1, max_depth=5, n_estimators=n_tree, min_child_weight=3)\n",
    "\n"
   ]
  },
  {
   "cell_type": "code",
   "execution_count": 57,
   "metadata": {},
   "outputs": [
    {
     "name": "stdout",
     "output_type": "stream",
     "text": [
      "1\n",
      "10\n",
      "20\n",
      "CPU times: user 3min 6s, sys: 20 s, total: 3min 26s\n",
      "Wall time: 3min 44s\n"
     ]
    }
   ],
   "source": [
    "%%time\n",
    "xgb_scoring = []\n",
    "for n_tree in n_trees:\n",
    "    print n_tree\n",
    "    estimator = xgb.XGBClassifier(xgb_params)\n",
    "    score = cross_validation.cross_val_score(estimator, X_train, y_train, \n",
    "                                             scoring = 'accuracy', cv = 10)    \n",
    "    xgb_scoring.append(score)\n",
    "xgb_scoring = np.asmatrix(xgb_scoring)"
   ]
  },
  {
   "cell_type": "code",
   "execution_count": null,
   "metadata": {
    "collapsed": true
   },
   "outputs": [],
   "source": []
  },
  {
   "cell_type": "code",
   "execution_count": 68,
   "metadata": {
    "scrolled": true
   },
   "outputs": [
    {
     "data": {
      "text/plain": [
       "matrix([[ 0.96373678],\n",
       "        [ 0.96373678],\n",
       "        [ 0.96373678]])"
      ]
     },
     "execution_count": 68,
     "metadata": {},
     "output_type": "execute_result"
    }
   ],
   "source": [
    "xgb_scoring.mean(axis = 1)"
   ]
  },
  {
   "cell_type": "code",
   "execution_count": 69,
   "metadata": {
    "scrolled": true
   },
   "outputs": [
    {
     "data": {
      "text/plain": [
       "matrix([[ 0.96373677],\n",
       "        [ 0.96373677],\n",
       "        [ 0.96373677]])"
      ]
     },
     "execution_count": 69,
     "metadata": {},
     "output_type": "execute_result"
    }
   ],
   "source": [
    "xgb_scoring_1_15_trees.mean(axis = 1)"
   ]
  },
  {
   "cell_type": "code",
   "execution_count": 64,
   "metadata": {
    "collapsed": true
   },
   "outputs": [],
   "source": [
    "xgb_scoring_1_15_trees =         matrix([[0.96373455,  0.963739  ],\n",
    "        [ 0.96373455,  0.963739  ],\n",
    "        [ 0.96373455,  0.963739  ]])"
   ]
  },
  {
   "cell_type": "code",
   "execution_count": 71,
   "metadata": {},
   "outputs": [
    {
     "data": {
      "text/plain": [
       "<matplotlib.legend.Legend at 0x111935e50>"
      ]
     },
     "execution_count": 71,
     "metadata": {},
     "output_type": "execute_result"
    },
    {
     "data": {
      "image/png": "[encoded data removed]",
      "text/plain": [
       "<matplotlib.figure.Figure at 0x111b9fbd0>"
      ]
     },
     "metadata": {},
     "output_type": "display_data"
    }
   ],
   "source": [
    "pylab.plot(n_trees, scoring.mean(axis = 1), marker='.', label='RandomForest')\n",
    "pylab.plot(n_trees, xgb_scoring.mean(axis = 1), marker='.', label='XGBoost')\n",
    "#pylab.plot(n_trees, xgb_scoring_1_15_trees.mean(axis = 1), marker='o', label='XGBoost_old')\n",
    "\n",
    "\n",
    "pylab.grid(True)\n",
    "pylab.xlabel('n_trees')\n",
    "pylab.ylabel('score')\n",
    "pylab.title('Accuracy score')\n",
    "pylab.legend(loc='lower right')"
   ]
  },
  {
   "cell_type": "code",
   "execution_count": 43,
   "metadata": {
    "collapsed": true
   },
   "outputs": [],
   "source": [
    "xgb_scoring_1_15_trees = xgb_scoring"
   ]
  },
  {
   "cell_type": "code",
   "execution_count": null,
   "metadata": {
    "collapsed": true
   },
   "outputs": [],
   "source": []
  },
  {
   "cell_type": "code",
   "execution_count": 32,
   "metadata": {
    "collapsed": true
   },
   "outputs": [],
   "source": [
    "from sklearn.model_selection import train_test_split\n",
    "# Разбиение выборки\n",
    "X_train, X_test, y_train, y_test = train_test_split(X, encoded_y,\n",
    "                                                  test_size = 0.2,\n",
    "                                                  random_state=42)\n",
    "\n"
   ]
  },
  {
   "cell_type": "code",
   "execution_count": 33,
   "metadata": {
    "collapsed": true
   },
   "outputs": [],
   "source": [
    "# fix random seed for reproducibility\n",
    "seed = 42\n",
    "np.random.seed(seed)"
   ]
  },
  {
   "cell_type": "code",
   "execution_count": 34,
   "metadata": {
    "collapsed": true
   },
   "outputs": [],
   "source": [
    "#In order to calculate the CLASS WEIGHT do the following\n",
    "\n",
    "from sklearn.utils import class_weight\n",
    "\n",
    "class_weight = class_weight.compute_class_weight('balanced', np.unique(encoded_y), encoded_y)"
   ]
  },
  {
   "cell_type": "code",
   "execution_count": 35,
   "metadata": {},
   "outputs": [
    {
     "data": {
      "text/plain": [
       "array([  0.51891309,  13.71835531])"
      ]
     },
     "execution_count": 35,
     "metadata": {},
     "output_type": "execute_result"
    }
   ],
   "source": [
    "class_weight"
   ]
  },
  {
   "cell_type": "code",
   "execution_count": 36,
   "metadata": {
    "collapsed": true
   },
   "outputs": [],
   "source": [
    "# baseline model\n",
    "def create_baseline():\n",
    "    # create model\n",
    "    model = Sequential()\n",
    "    model.add(Dense(100, input_dim=148, kernel_initializer='normal', activation='relu'))\n",
    "    model.add(Dense(1, kernel_initializer='normal', activation='sigmoid'))\n",
    "    # Compile model\n",
    "    model.compile(loss='binary_crossentropy', optimizer='adam', metrics=['accuracy'])\n",
    "    return model"
   ]
  },
  {
   "cell_type": "code",
   "execution_count": 90,
   "metadata": {},
   "outputs": [
    {
     "name": "stdout",
     "output_type": "stream",
     "text": [
      "Epoch 1/2\n",
      "476169/476169 [==============================] - 28s - loss: 0.1561 - acc: 0.9636    \n",
      "Epoch 2/2\n",
      "476169/476169 [==============================] - 25s - loss: 0.1545 - acc: 0.9636    \n"
     ]
    }
   ],
   "source": [
    "model = create_baseline()\n",
    "history = model.fit(X_train, y_train, batch_size=40, nb_epoch=2, verbose=1,class_weight=class_weight)"
   ]
  },
  {
   "cell_type": "code",
   "execution_count": null,
   "metadata": {
    "collapsed": true
   },
   "outputs": [],
   "source": [
    "Epoch 1/2\n",
    "476169/476169 [==============================] - 53s - loss: 0.1558 - acc: 0.9636    \n",
    "Epoch 2/2\n",
    "476169/476169 [==============================] - 46s - loss: 0.1545 - acc: 0.9636 "
   ]
  },
  {
   "cell_type": "code",
   "execution_count": 40,
   "metadata": {},
   "outputs": [
    {
     "data": {
      "text/plain": [
       "{'acc': [0.96360115189210815,\n",
       "  0.96364945395437362,\n",
       "  0.96364945401946489,\n",
       "  0.9636494540282271,\n",
       "  0.96364945393184209,\n",
       "  0.96364945395187018,\n",
       "  0.96364945405952096,\n",
       "  0.9636494540870596,\n",
       "  0.96364945400694735,\n",
       "  0.9636494540144579,\n",
       "  0.96364945401946489,\n",
       "  0.9636494540144579,\n",
       "  0.96364945387676493,\n",
       "  0.96364945395750301,\n",
       "  0.96364945400757318,\n",
       "  0.96364945395938073,\n",
       "  0.96364945399004864,\n",
       "  0.96364945387050616,\n",
       "  0.96364945399755919,\n",
       "  0.96364945404449998],\n",
       " 'loss': [0.15575256265945975,\n",
       "  0.15454775324897183,\n",
       "  0.15418523449349519,\n",
       "  0.15399068294169718,\n",
       "  0.15384033348348866,\n",
       "  0.15372078907529732,\n",
       "  0.15365126906103432,\n",
       "  0.15355402835195556,\n",
       "  0.15348847186950951,\n",
       "  0.15341689517182236,\n",
       "  0.15333508504253993,\n",
       "  0.15329770498202688,\n",
       "  0.15326585811931626,\n",
       "  0.1531988317366717,\n",
       "  0.15316017443333138,\n",
       "  0.15312056919455991,\n",
       "  0.15311072140853785,\n",
       "  0.1530370685778138,\n",
       "  0.15300722221651436,\n",
       "  0.15294796933018007]}"
      ]
     },
     "execution_count": 40,
     "metadata": {},
     "output_type": "execute_result"
    }
   ],
   "source": [
    "history.history"
   ]
  },
  {
   "cell_type": "code",
   "execution_count": 38,
   "metadata": {},
   "outputs": [
    {
     "data": {
      "text/plain": [
       "[<matplotlib.lines.Line2D at 0x11fb7eb90>]"
      ]
     },
     "execution_count": 38,
     "metadata": {},
     "output_type": "execute_result"
    },
    {
     "data": {
      "image/png": "[encoded data removed]",
      "text/plain": [
       "<matplotlib.figure.Figure at 0x1224e7fd0>"
      ]
     },
     "metadata": {},
     "output_type": "display_data"
    }
   ],
   "source": [
    "plt.plot(history.history['loss'],label=\"loss\")"
   ]
  },
  {
   "cell_type": "code",
   "execution_count": 41,
   "metadata": {},
   "outputs": [
    {
     "data": {
      "text/plain": [
       "[<matplotlib.lines.Line2D at 0x11fcae1d0>]"
      ]
     },
     "execution_count": 41,
     "metadata": {},
     "output_type": "execute_result"
    },
    {
     "data": {
      "image/png": "[encoded data removed]",
      "text/plain": [
       "<matplotlib.figure.Figure at 0x11927aad0>"
      ]
     },
     "metadata": {},
     "output_type": "display_data"
    }
   ],
   "source": [
    "plt.plot(history.history['acc'],label=\"categorical_accuracy\")"
   ]
  },
  {
   "cell_type": "code",
   "execution_count": 42,
   "metadata": {},
   "outputs": [
    {
     "name": "stdout",
     "output_type": "stream",
     "text": [
      "117088/119043 [============================>.] - ETA: 0slog_loss: 0.155528312867\n",
      "log_loss: 0.155528312867\n"
     ]
    }
   ],
   "source": [
    "predictions = model.predict_proba(X_test)\n",
    "predictions_label = model.predict_classes(X_test)\n",
    "\n",
    "print('log_loss: {}'.format(log_loss(y_test, predictions)))\n",
    "print('log_loss: {}'.format(log_loss(y_test, predictions)))"
   ]
  },
  {
   "cell_type": "code",
   "execution_count": null,
   "metadata": {
    "collapsed": true
   },
   "outputs": [],
   "source": [
    "117888/119043 [============================>.] - ETA: 0slog_loss: 0.155388533902\n",
    "log_loss: 0.155388533902"
   ]
  },
  {
   "cell_type": "code",
   "execution_count": 211,
   "metadata": {},
   "outputs": [
    {
     "data": {
      "text/plain": [
       "array([[ 0.05255816],\n",
       "       [ 0.04388293],\n",
       "       [ 0.03853805],\n",
       "       ..., \n",
       "       [ 0.0255963 ],\n",
       "       [ 0.05526821],\n",
       "       [ 0.06268914]], dtype=float32)"
      ]
     },
     "execution_count": 211,
     "metadata": {},
     "output_type": "execute_result"
    }
   ],
   "source": [
    "predictions"
   ]
  },
  {
   "cell_type": "code",
   "execution_count": null,
   "metadata": {
    "collapsed": true
   },
   "outputs": [],
   "source": []
  },
  {
   "cell_type": "markdown",
   "metadata": {},
   "source": [
    "## Модель RandomForestClassifier"
   ]
  },
  {
   "cell_type": "markdown",
   "metadata": {},
   "source": [
    "#### Зависимость качества от количесвта деревьев"
   ]
  },
  {
   "cell_type": "code",
   "execution_count": 48,
   "metadata": {
    "collapsed": true
   },
   "outputs": [],
   "source": [
    "n_trees = [1] + range(10, 30, 10)"
   ]
  },
  {
   "cell_type": "code",
   "execution_count": 50,
   "metadata": {},
   "outputs": [
    {
     "name": "stdout",
     "output_type": "stream",
     "text": [
      "1\n",
      "10\n",
      "20\n",
      "CPU times: user 1min 47s, sys: 3.93 s, total: 1min 51s\n",
      "Wall time: 2min 1s\n"
     ]
    }
   ],
   "source": [
    "%%time\n",
    "scoring = []\n",
    "for n_tree in n_trees:\n",
    "    print n_tree\n",
    "    estimator = ensemble.RandomForestClassifier(n_estimators = n_tree, min_samples_split=5, random_state=42)\n",
    "    score = cross_validation.cross_val_score(estimator, X_train, y_train, \n",
    "                                             scoring = 'accuracy', cv = 2)    \n",
    "    scoring.append(score)\n",
    "scoring = np.asmatrix(scoring)"
   ]
  },
  {
   "cell_type": "code",
   "execution_count": 51,
   "metadata": {},
   "outputs": [
    {
     "data": {
      "text/plain": [
       "matrix([[ 0.94134645,  0.9415571 ],\n",
       "        [ 0.96372015,  0.9637294 ],\n",
       "        [ 0.96373455,  0.963739  ]])"
      ]
     },
     "execution_count": 51,
     "metadata": {},
     "output_type": "execute_result"
    }
   ],
   "source": [
    "scoring"
   ]
  },
  {
   "cell_type": "code",
   "execution_count": 52,
   "metadata": {},
   "outputs": [
    {
     "data": {
      "text/plain": [
       "<matplotlib.legend.Legend at 0x1116cda10>"
      ]
     },
     "execution_count": 52,
     "metadata": {},
     "output_type": "execute_result"
    },
    {
     "data": {
      "image/png": "[encoded data removed]",
      "text/plain": [
       "<matplotlib.figure.Figure at 0x1116cddd0>"
      ]
     },
     "metadata": {},
     "output_type": "display_data"
    }
   ],
   "source": [
    "pylab.plot(n_trees, scoring.mean(axis = 1), marker='.', label='RandomForest')\n",
    "pylab.grid(True)\n",
    "pylab.xlabel('n_trees')\n",
    "pylab.ylabel('score')\n",
    "pylab.title('Accuracy score')\n",
    "pylab.legend(loc='lower right')"
   ]
  },
  {
   "cell_type": "markdown",
   "metadata": {},
   "source": [
    "# TEST"
   ]
  },
  {
   "cell_type": "code",
   "execution_count": 57,
   "metadata": {},
   "outputs": [
    {
     "name": "stdout",
     "output_type": "stream",
     "text": [
      "890112/892816 [============================>.] - ETA: 0s"
     ]
    }
   ],
   "source": [
    "predictions_zadacha = model.predict_proba(X_zadacha)"
   ]
  },
  {
   "cell_type": "code",
   "execution_count": 58,
   "metadata": {},
   "outputs": [
    {
     "data": {
      "text/plain": [
       "array([[ 0.03376983],\n",
       "       [ 0.03388553],\n",
       "       [ 0.0222657 ],\n",
       "       ..., \n",
       "       [ 0.04295562],\n",
       "       [ 0.02673575],\n",
       "       [ 0.04098137]], dtype=float32)"
      ]
     },
     "execution_count": 58,
     "metadata": {},
     "output_type": "execute_result"
    }
   ],
   "source": [
    "predictions_zadacha"
   ]
  },
  {
   "cell_type": "code",
   "execution_count": 59,
   "metadata": {
    "collapsed": true
   },
   "outputs": [],
   "source": [
    "predDF = df"
   ]
  },
  {
   "cell_type": "code",
   "execution_count": 65,
   "metadata": {
    "collapsed": true
   },
   "outputs": [],
   "source": [
    "predDF['target'] = predictions_zadacha"
   ]
  },
  {
   "cell_type": "code",
   "execution_count": 72,
   "metadata": {
    "collapsed": true
   },
   "outputs": [],
   "source": [
    "predDF1 = predDF['target']"
   ]
  },
  {
   "cell_type": "code",
   "execution_count": 73,
   "metadata": {},
   "outputs": [
    {
     "data": {
      "text/plain": [
       "id\n",
       "0          0.033770\n",
       "1          0.033886\n",
       "2          0.022266\n",
       "3          0.027020\n",
       "4          0.037137\n",
       "5          0.031677\n",
       "6          0.047656\n",
       "8          0.034170\n",
       "10         0.058890\n",
       "11         0.068268\n",
       "12         0.026394\n",
       "14         0.034973\n",
       "15         0.061378\n",
       "18         0.057488\n",
       "21         0.033843\n",
       "23         0.043103\n",
       "24         0.037923\n",
       "25         0.032853\n",
       "27         0.013669\n",
       "29         0.044276\n",
       "30         0.039741\n",
       "31         0.043932\n",
       "32         0.056988\n",
       "33         0.024375\n",
       "37         0.051109\n",
       "38         0.044099\n",
       "39         0.069656\n",
       "40         0.035113\n",
       "41         0.045966\n",
       "42         0.032546\n",
       "             ...   \n",
       "1487982    0.029858\n",
       "1487984    0.043615\n",
       "1487985    0.046502\n",
       "1487986    0.041439\n",
       "1487987    0.056050\n",
       "1487989    0.020557\n",
       "1487991    0.022201\n",
       "1487993    0.033973\n",
       "1487995    0.043656\n",
       "1487997    0.039717\n",
       "1487998    0.051232\n",
       "1487999    0.072074\n",
       "1488000    0.045083\n",
       "1488002    0.038417\n",
       "1488003    0.043233\n",
       "1488004    0.036199\n",
       "1488006    0.048980\n",
       "1488007    0.031528\n",
       "1488010    0.038429\n",
       "1488012    0.032632\n",
       "1488014    0.017362\n",
       "1488015    0.021214\n",
       "1488018    0.027204\n",
       "1488019    0.020317\n",
       "1488020    0.033310\n",
       "1488022    0.076716\n",
       "1488023    0.057860\n",
       "1488024    0.042956\n",
       "1488025    0.026736\n",
       "1488026    0.040981\n",
       "Name: target, Length: 892816, dtype: float32"
      ]
     },
     "execution_count": 73,
     "metadata": {},
     "output_type": "execute_result"
    }
   ],
   "source": [
    "predDF1"
   ]
  },
  {
   "cell_type": "code",
   "execution_count": 87,
   "metadata": {
    "collapsed": true
   },
   "outputs": [],
   "source": [
    "predDF1['target'].to_csv(\"first_sub_net.csv\")"
   ]
  },
  {
   "cell_type": "code",
   "execution_count": null,
   "metadata": {
    "collapsed": true
   },
   "outputs": [],
   "source": []
  },
  {
   "cell_type": "code",
   "execution_count": null,
   "metadata": {
    "collapsed": true
   },
   "outputs": [],
   "source": []
  },
  {
   "cell_type": "code",
   "execution_count": null,
   "metadata": {
    "collapsed": true
   },
   "outputs": [],
   "source": []
  },
  {
   "cell_type": "code",
   "execution_count": null,
   "metadata": {
    "collapsed": true
   },
   "outputs": [],
   "source": []
  },
  {
   "cell_type": "code",
   "execution_count": null,
   "metadata": {
    "collapsed": true
   },
   "outputs": [],
   "source": []
  },
  {
   "cell_type": "code",
   "execution_count": null,
   "metadata": {
    "collapsed": true
   },
   "outputs": [],
   "source": []
  },
  {
   "cell_type": "code",
   "execution_count": null,
   "metadata": {
    "collapsed": true
   },
   "outputs": [],
   "source": []
  },
  {
   "cell_type": "code",
   "execution_count": null,
   "metadata": {
    "collapsed": true
   },
   "outputs": [],
   "source": []
  },
  {
   "cell_type": "code",
   "execution_count": null,
   "metadata": {
    "collapsed": true
   },
   "outputs": [],
   "source": []
  },
  {
   "cell_type": "code",
   "execution_count": null,
   "metadata": {
    "collapsed": true
   },
   "outputs": [],
   "source": []
  },
  {
   "cell_type": "code",
   "execution_count": null,
   "metadata": {
    "collapsed": true
   },
   "outputs": [],
   "source": []
  },
  {
   "cell_type": "code",
   "execution_count": null,
   "metadata": {
    "collapsed": true
   },
   "outputs": [],
   "source": []
  },
  {
   "cell_type": "code",
   "execution_count": null,
   "metadata": {
    "collapsed": true
   },
   "outputs": [],
   "source": []
  },
  {
   "cell_type": "code",
   "execution_count": null,
   "metadata": {
    "collapsed": true
   },
   "outputs": [],
   "source": []
  },
  {
   "cell_type": "code",
   "execution_count": null,
   "metadata": {
    "collapsed": true
   },
   "outputs": [],
   "source": []
  },
  {
   "cell_type": "code",
   "execution_count": null,
   "metadata": {
    "collapsed": true
   },
   "outputs": [],
   "source": []
  },
  {
   "cell_type": "code",
   "execution_count": null,
   "metadata": {
    "collapsed": true
   },
   "outputs": [],
   "source": []
  },
  {
   "cell_type": "code",
   "execution_count": null,
   "metadata": {
    "collapsed": true
   },
   "outputs": [],
   "source": []
  },
  {
   "cell_type": "code",
   "execution_count": null,
   "metadata": {
    "collapsed": true
   },
   "outputs": [],
   "source": []
  },
  {
   "cell_type": "code",
   "execution_count": null,
   "metadata": {
    "collapsed": true
   },
   "outputs": [],
   "source": []
  },
  {
   "cell_type": "code",
   "execution_count": null,
   "metadata": {
    "collapsed": true
   },
   "outputs": [],
   "source": []
  },
  {
   "cell_type": "code",
   "execution_count": null,
   "metadata": {
    "collapsed": true
   },
   "outputs": [],
   "source": []
  },
  {
   "cell_type": "code",
   "execution_count": null,
   "metadata": {
    "collapsed": true
   },
   "outputs": [],
   "source": []
  }
 ],
 "metadata": {
  "kernelspec": {
   "display_name": "Python 2",
   "language": "python",
   "name": "python2"
  },
  "language_info": {
   "codemirror_mode": {
    "name": "ipython",
    "version": 2
   },
   "file_extension": ".py",
   "mimetype": "text/x-python",
   "name": "python",
   "nbconvert_exporter": "python",
   "pygments_lexer": "ipython2",
   "version": "2.7.13"
  }
 },
 "nbformat": 4,
 "nbformat_minor": 2
}

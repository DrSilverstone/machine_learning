{
 "cells": [
  {
   "cell_type": "code",
   "execution_count": 1,
   "metadata": {},
   "outputs": [
    {
     "name": "stdout",
     "output_type": "stream",
     "text": [
      "Populating the interactive namespace from numpy and matplotlib\n"
     ]
    }
   ],
   "source": [
    "from sklearn.metrics import roc_auc_score\n",
    "\n",
    "import numpy as np\n",
    "\n",
    "#from sklearn.model_selection import cross_val_score\n",
    "#from sklearn.model_selection import KFold\n",
    "from sklearn.preprocessing import LabelEncoder\n",
    "from sklearn.pipeline import Pipeline\n",
    "\n",
    "%pylab inline\n",
    "import pandas as pd\n",
    "from scipy import stats\n",
    "#import statsmodels.api as sm\n",
    "import matplotlib.pyplot as plt\n",
    "import warnings\n",
    "from itertools import product\n",
    "\n",
    "from sklearn import preprocessing\n",
    "\n",
    "from sklearn.preprocessing import MinMaxScaler\n",
    "\n",
    "import time\n",
    "import datetime"
   ]
  },
  {
   "cell_type": "code",
   "execution_count": 2,
   "metadata": {
    "collapsed": true
   },
   "outputs": [],
   "source": [
    "# Sites 100 most popular\n",
    "sites_test = np.load('sparse_matrix_Alice_dic_100_values_TEST.npy')\n",
    "sites_train = np.load('sparse_matrix_Alice_dic_100_values.npy')\n",
    "\n",
    "# 3 in row (need to be transponed)\n",
    "X_train_sitelines = np.load('sor_alice_TRAIN_3inrow_appear_50times.npy')\n",
    "X_test_sitelines = np.load('sor_alice_TEST_3inrow_appear_50times.npy')\n",
    "\n",
    "\n",
    "# TIME\n",
    "time_train = pd.read_csv('df_train_time_scaled_oct26.csv',',',  dayfirst=True)\n",
    "time_test = pd.read_csv('df_test_time_scaled_oct26.csv',',',  dayfirst=True)"
   ]
  },
  {
   "cell_type": "code",
   "execution_count": 3,
   "metadata": {
    "collapsed": true
   },
   "outputs": [],
   "source": [
    "# Объединение\n",
    "\n",
    "# TRAIN\n",
    "\n",
    "X_f = np.hstack((sites_train, X_train_sitelines.T))\n",
    "\n",
    "X = np.hstack((np.array(time_train), X_f))             \n",
    "\n",
    "y = np.load('Y_TRAIN_oct24.npy')\n",
    "\n",
    "\n",
    "\n",
    "# TEST\n",
    "X_TEST_f = np.hstack((sites_test, X_test_sitelines.T))\n",
    "X_TEST = np.hstack((X_TEST_f, np.array(time_test)))"
   ]
  },
  {
   "cell_type": "code",
   "execution_count": 4,
   "metadata": {},
   "outputs": [
    {
     "name": "stderr",
     "output_type": "stream",
     "text": [
      "/Users/aurinko/anaconda/envs/Py27_proekt/lib/python2.7/site-packages/sklearn/cross_validation.py:41: DeprecationWarning: This module was deprecated in version 0.18 in favor of the model_selection module into which all the refactored classes and functions are moved. Also note that the interface of the new CV iterators are different from that of this module. This module will be removed in 0.20.\n",
      "  \"This module will be removed in 0.20.\", DeprecationWarning)\n"
     ]
    }
   ],
   "source": [
    "from sklearn.cross_validation import train_test_split\n",
    "# Разбиение выборки\n",
    "X_train_big, X_test, y_train_big, y_test = train_test_split(X, y,\n",
    "                                                  test_size = 0.2,\n",
    "                                                  random_state=42)\n",
    "\n",
    "X_train_sm, X_test_sm, y_train_sm, y_test_sm = train_test_split(X_train_big,  y_train_big,\n",
    "                                                  test_size = 0.2,\n",
    "                                                  random_state=42)"
   ]
  },
  {
   "cell_type": "markdown",
   "metadata": {},
   "source": [
    "# Voting Ensemble for Classification"
   ]
  },
  {
   "cell_type": "code",
   "execution_count": 8,
   "metadata": {
    "collapsed": true
   },
   "outputs": [],
   "source": [
    "# Voting Ensemble for Classification\n",
    "from sklearn import model_selection\n",
    "from sklearn.linear_model import LogisticRegression\n",
    "from sklearn.tree import DecisionTreeClassifier\n",
    "from sklearn.svm import SVC\n",
    "from sklearn.ensemble import VotingClassifier\n",
    "from sklearn.naive_bayes import GaussianNB\n",
    "from sklearn.ensemble import AdaBoostClassifier\n",
    "from sklearn import ensemble , cross_validation, learning_curve, metrics, datasets, tree \n",
    "\n",
    "\n",
    "seed = 42\n",
    "kfold = model_selection.KFold(n_splits=10, random_state=seed)\n",
    "\n",
    "# create the sub models\n",
    "estimators = []\n",
    "\n",
    "model1 = DecisionTreeClassifier(random_state=42)\n",
    "estimators.append(('tree', model1))\n",
    "\n",
    "\n",
    "model2 = AdaBoostClassifier(tree.DecisionTreeClassifier(random_state=42),\n",
    "                         algorithm=\"SAMME\",\n",
    "                         n_estimators=20, random_state=42)\n",
    "estimators.append(('Ada', model2))\n",
    "\n",
    "\n",
    "\n",
    "model3 =  GaussianNB()\n",
    "estimators.append(('NB', model3))\n",
    "\n",
    "\n",
    "\n",
    "# create the ensemble model\n",
    "ensemble = VotingClassifier(estimators, voting='soft')\n"
   ]
  },
  {
   "cell_type": "code",
   "execution_count": null,
   "metadata": {
    "collapsed": true
   },
   "outputs": [],
   "source": [
    "# По ТЕСТОВОЙ ВЫБОРКЕ\n",
    "ensemble.fit(X, y)\n",
    "\n",
    "# make predictions\n",
    "ensemble.predict_proba(X_TEST)"
   ]
  },
  {
   "cell_type": "code",
   "execution_count": 39,
   "metadata": {},
   "outputs": [
    {
     "name": "stdout",
     "output_type": "stream",
     "text": [
      "82797\n",
      "82797\n"
     ]
    }
   ],
   "source": [
    "# Подготовка к загрузке на кегл\n",
    "p = ensemble.predict_proba(X_TEST)\n",
    "\n",
    "# Преобразования ответа\n",
    "\n",
    "p_1 = p[:,1:]                # удаляю первый столбец  беру только столбец с ответами к классу 1\n",
    "p_2 = p_1.reshape(len(p_1))  # изменяю форму на строку\n",
    "\n",
    "# создаю полную строку сессий\n",
    "session_id_full = range(1, len(p_2)+1)\n",
    "\n",
    "print (len(session_id_full))\n",
    "print (len(p_2))\n",
    "\n",
    "#создаю датафрейм ответа\n",
    "d = {'session_id': session_id_full, 'target': p_2}\n",
    "a = pd.DataFrame(data=d, )\n",
    "a.head()\n",
    "\n",
    "a.to_csv('TEST_6_SUB.csv', sep=',', index=False)"
   ]
  },
  {
   "cell_type": "code",
   "execution_count": 9,
   "metadata": {},
   "outputs": [
    {
     "data": {
      "text/plain": [
       "array([[ 0.91035286,  0.08964714],\n",
       "       [ 0.91035286,  0.08964714],\n",
       "       [ 0.91035286,  0.08964714],\n",
       "       ..., \n",
       "       [ 0.91035286,  0.08964714],\n",
       "       [ 0.57701953,  0.42298047],\n",
       "       [ 0.91035286,  0.08964714]])"
      ]
     },
     "execution_count": 9,
     "metadata": {},
     "output_type": "execute_result"
    }
   ],
   "source": [
    "ensemble.fit(X_train_sm, y_train_sm)\n",
    "\n",
    "# make predictions\n",
    "ensemble.predict_proba(X_test_sm)"
   ]
  },
  {
   "cell_type": "code",
   "execution_count": 10,
   "metadata": {},
   "outputs": [
    {
     "name": "stdout",
     "output_type": "stream",
     "text": [
      "matrix_test_sm\n",
      "[[40111    95]\n",
      " [  122   242]]\n",
      "f1_score\n",
      "('test', 0.69044222539229672)\n",
      "\n",
      "matrix_test\n",
      "[[50145   110]\n",
      " [  137   321]]\n",
      "f1_score\n",
      "('test', 0.72215973003374578)\n",
      "\n",
      "\n"
     ]
    }
   ],
   "source": [
    "print ('matrix_test_sm') \n",
    "print (metrics.confusion_matrix(y_test_sm, ensemble.predict(X_test_sm)))\n",
    "print (\"f1_score\")\n",
    "print ('test', metrics.f1_score(y_test_sm, ensemble.predict(X_test_sm)))\n",
    "print (\"\")\n",
    "print ('matrix_test') \n",
    "print (metrics.confusion_matrix(y_test, ensemble.predict(X_test)))\n",
    "print (\"f1_score\")\n",
    "print ('test', metrics.f1_score(y_test, ensemble.predict(X_test)))\n",
    "print (\"\")\n",
    "print (\"\")"
   ]
  },
  {
   "cell_type": "code",
   "execution_count": null,
   "metadata": {
    "collapsed": true
   },
   "outputs": [],
   "source": [
    "matrix_test_sm\n",
    "[[40173    33]\n",
    " [  126   238]]\n",
    "f1_score\n",
    "('test', 0.74960629921259847)\n",
    "\n",
    "matrix_test\n",
    "[[50217    38]\n",
    " [  156   302]]\n",
    "f1_score\n",
    "('test', 0.75689223057644106)"
   ]
  },
  {
   "cell_type": "markdown",
   "metadata": {},
   "source": [
    "matrix_test_sm\n",
    "[[40173    33]\n",
    " [  126   238]]\n",
    "f1_score\n",
    "('test', 0.74960629921259847)\n",
    "\n",
    "matrix_test\n",
    "[[50217    38]\n",
    " [  156   302]]\n",
    "f1_score\n",
    "('test', 0.75689223057644106)\n",
    "\n",
    "\n",
    "model1 = DecisionTreeClassifier(random_state=42)\n",
    "estimators.append(('tree', model1))\n",
    "\n",
    "\n",
    "model2 = AdaBoostClassifier(tree.DecisionTreeClassifier(random_state=42, max_depth=9),\n",
    "                         algorithm=\"SAMME\",\n",
    "                         n_estimators=20, random_state=42)\n",
    "estimators.append(('Ada', model2))\n",
    "\n",
    "\n",
    "\n",
    "model3 =  GaussianNB()\n",
    "estimators.append(('NB', model3))"
   ]
  },
  {
   "cell_type": "code",
   "execution_count": 192,
   "metadata": {
    "scrolled": true
   },
   "outputs": [
    {
     "name": "stdout",
     "output_type": "stream",
     "text": [
      "f1_score: 0.33 (+/- 0.02) [Tree]\n",
      "f1_score: 0.33 (+/- 0.03) [Ada]\n",
      "f1_score: 0.03 (+/- 0.00) [NB]\n",
      "f1_score: 0.21 (+/- 0.04) [GB]\n",
      "f1_score: 0.35 (+/- 0.02) [Ensemble]\n"
     ]
    }
   ],
   "source": [
    "for clf, label in zip([model1, model2, model3, model4, ensemble], ['Tree', 'Ada', 'NB', 'GB', 'Ensemble']):\n",
    "    scores = cross_val_score(clf, X_test_sm, y_test_sm, cv=10, scoring='f1')\n",
    "    print(\"f1_score: %0.2f (+/- %0.2f) [%s]\" % (scores.mean(), scores.std(), label))"
   ]
  },
  {
   "cell_type": "markdown",
   "metadata": {},
   "source": [
    "# DecisionTreeClassifier"
   ]
  },
  {
   "cell_type": "code",
   "execution_count": 11,
   "metadata": {
    "collapsed": true,
    "scrolled": true
   },
   "outputs": [],
   "source": [
    "from sklearn import ensemble , cross_validation, learning_curve, metrics, datasets, tree "
   ]
  },
  {
   "cell_type": "code",
   "execution_count": 12,
   "metadata": {
    "collapsed": true
   },
   "outputs": [],
   "source": [
    "d_tree = tree.DecisionTreeClassifier(random_state=42)\n",
    "d_tree.fit(X_train_sm, y_train_sm)\n",
    "d_tree_pred = d_tree.predict(X_train_sm)"
   ]
  },
  {
   "cell_type": "code",
   "execution_count": 13,
   "metadata": {},
   "outputs": [
    {
     "data": {
      "text/plain": [
       "array([0, 0, 0, ..., 0, 0, 0])"
      ]
     },
     "execution_count": 13,
     "metadata": {},
     "output_type": "execute_result"
    }
   ],
   "source": [
    "d_tree.predict(X_test_sm)"
   ]
  },
  {
   "cell_type": "code",
   "execution_count": 14,
   "metadata": {},
   "outputs": [
    {
     "data": {
      "text/plain": [
       "array([[ 1.,  0.],\n",
       "       [ 1.,  0.],\n",
       "       [ 1.,  0.],\n",
       "       ..., \n",
       "       [ 1.,  0.],\n",
       "       [ 1.,  0.],\n",
       "       [ 1.,  0.]])"
      ]
     },
     "execution_count": 14,
     "metadata": {},
     "output_type": "execute_result"
    }
   ],
   "source": [
    "d_tree.predict_proba(X_test_sm)"
   ]
  },
  {
   "cell_type": "code",
   "execution_count": 15,
   "metadata": {},
   "outputs": [
    {
     "name": "stdout",
     "output_type": "stream",
     "text": [
      "matrix_test\n",
      "[[40090   116]\n",
      " [  121   243]]\n",
      "\n",
      "('test', 0.67219917012448138)\n",
      "matrix_test\n",
      "[[50123   132]\n",
      " [  137   321]]\n",
      "\n",
      "('test', 0.70472008781558715)\n"
     ]
    }
   ],
   "source": [
    "print ('matrix_test') \n",
    "print (metrics.confusion_matrix(y_test_sm, d_tree.predict(X_test_sm)))\n",
    "print (\"\")\n",
    "print ('test', metrics.f1_score(y_test_sm, d_tree.predict(X_test_sm)))\n",
    "\n",
    "print ('matrix_test') \n",
    "print (metrics.confusion_matrix(y_test, d_tree.predict(X_test)))\n",
    "print (\"\")\n",
    "print ('test', metrics.f1_score(y_test, d_tree.predict(X_test)))"
   ]
  },
  {
   "cell_type": "code",
   "execution_count": null,
   "metadata": {
    "collapsed": true
   },
   "outputs": [],
   "source": [
    "matrix_test\n",
    "[[40090   116]\n",
    " [  121   243]]\n",
    "\n",
    "('test', 0.67219917012448138)\n",
    "matrix_test\n",
    "[[50123   132]\n",
    " [  137   321]]\n",
    "\n",
    "('test', 0.70472008781558715)"
   ]
  },
  {
   "cell_type": "markdown",
   "metadata": {
    "collapsed": true
   },
   "source": [
    "matrix_test\n",
    "[[40078   128]\n",
    " [  111   253]]\n",
    "\n",
    "('test', 0.67919463087248322)\n",
    "matrix_test\n",
    "[[50114   141]\n",
    " [  127   331]]\n",
    "\n",
    "('test', 0.71182795698924739)"
   ]
  },
  {
   "cell_type": "code",
   "execution_count": 77,
   "metadata": {},
   "outputs": [
    {
     "data": {
      "text/plain": [
       "(231052, 21)"
      ]
     },
     "execution_count": 77,
     "metadata": {},
     "output_type": "execute_result"
    }
   ],
   "source": [
    "X.shape"
   ]
  },
  {
   "cell_type": "markdown",
   "metadata": {},
   "source": [
    "# Наивный байес"
   ]
  },
  {
   "cell_type": "code",
   "execution_count": 19,
   "metadata": {
    "collapsed": true
   },
   "outputs": [],
   "source": [
    "from sklearn import metrics\n",
    "from sklearn.naive_bayes import GaussianNB"
   ]
  },
  {
   "cell_type": "code",
   "execution_count": 20,
   "metadata": {},
   "outputs": [
    {
     "data": {
      "text/plain": [
       "array([0, 0, 0, ..., 0, 1, 0])"
      ]
     },
     "execution_count": 20,
     "metadata": {},
     "output_type": "execute_result"
    }
   ],
   "source": [
    "modelNB = GaussianNB()\n",
    "\n",
    "modelNB.fit(X_train_sm, y_train_sm)\n",
    "\n",
    "modelNB.predict(X_test_sm)"
   ]
  },
  {
   "cell_type": "code",
   "execution_count": 22,
   "metadata": {},
   "outputs": [
    {
     "data": {
      "text/plain": [
       "array([[  1.00000000e+00,   8.35130831e-81],\n",
       "       [  1.00000000e+00,   1.13670653e-72],\n",
       "       [  1.00000000e+00,   8.22711143e-74],\n",
       "       ..., \n",
       "       [  1.00000000e+00,   7.89218096e-73],\n",
       "       [  0.00000000e+00,   1.00000000e+00],\n",
       "       [  1.00000000e+00,   1.96680486e-63]])"
      ]
     },
     "execution_count": 22,
     "metadata": {},
     "output_type": "execute_result"
    }
   ],
   "source": [
    "modelNB.predict_proba(X_test_sm)"
   ]
  },
  {
   "cell_type": "code",
   "execution_count": 21,
   "metadata": {},
   "outputs": [
    {
     "name": "stdout",
     "output_type": "stream",
     "text": [
      "matrix_test_sm\n",
      "[[37611  2595]\n",
      " [  170   194]]\n",
      "\n",
      "('test', 0.12305740564541705)\n",
      "\n",
      "matrix_test\n",
      "[[47008  3247]\n",
      " [  185   273]]\n",
      "\n",
      "('test', 0.13725490196078433)\n",
      "\n",
      "\n"
     ]
    }
   ],
   "source": [
    "print ('matrix_test_sm') \n",
    "print (metrics.confusion_matrix(y_test_sm, modelNB.predict(X_test_sm)))\n",
    "print (\"\")\n",
    "print ('test', metrics.f1_score(y_test_sm, modelNB.predict(X_test_sm)))\n",
    "print (\"\")\n",
    "print ('matrix_test') \n",
    "print (metrics.confusion_matrix(y_test, modelNB.predict(X_test)))\n",
    "print (\"\")\n",
    "print ('test', metrics.f1_score(y_test, modelNB.predict(X_test)))\n",
    "print (\"\")\n",
    "print (\"\")"
   ]
  },
  {
   "cell_type": "markdown",
   "metadata": {},
   "source": [
    "matrix_test_sm\n",
    "[[37933  2273]\n",
    " [  199   165]]\n",
    "\n",
    "('test', 0.11777301927194861)\n",
    "\n",
    "matrix_test\n",
    "[[47446  2809]\n",
    " [  233   225]]\n",
    "\n",
    "('test', 0.12886597938144329)"
   ]
  },
  {
   "cell_type": "markdown",
   "metadata": {},
   "source": [
    "# AdaBoost"
   ]
  },
  {
   "cell_type": "code",
   "execution_count": 16,
   "metadata": {},
   "outputs": [
    {
     "data": {
      "text/plain": [
       "AdaBoostClassifier(algorithm='SAMME',\n",
       "          base_estimator=DecisionTreeClassifier(class_weight=None, criterion='gini', max_depth=9,\n",
       "            max_features=None, max_leaf_nodes=None,\n",
       "            min_impurity_decrease=0.0, min_impurity_split=None,\n",
       "            min_samples_leaf=1, min_samples_split=2,\n",
       "            min_weight_fraction_leaf=0.0, presort=False, random_state=42,\n",
       "            splitter='best'),\n",
       "          learning_rate=1.0, n_estimators=30, random_state=42)"
      ]
     },
     "execution_count": 16,
     "metadata": {},
     "output_type": "execute_result"
    }
   ],
   "source": [
    "import numpy as np\n",
    "from sklearn.ensemble import AdaBoostClassifier\n",
    "\n",
    "\n",
    "\n",
    "\n",
    "# Create and fit an AdaBoosted decision tree\n",
    "bdt = AdaBoostClassifier(tree.DecisionTreeClassifier(random_state=42, max_depth=9),\n",
    "                         algorithm=\"SAMME\",\n",
    "                         n_estimators=30, random_state=42)\n",
    "\n",
    "bdt.fit(X_train_sm, y_train_sm)\n"
   ]
  },
  {
   "cell_type": "code",
   "execution_count": 17,
   "metadata": {},
   "outputs": [
    {
     "data": {
      "text/plain": [
       "array([[ 0.63335132,  0.36664868],\n",
       "       [ 0.6247909 ,  0.3752091 ],\n",
       "       [ 0.61653167,  0.38346833],\n",
       "       ..., \n",
       "       [ 0.62762507,  0.37237493],\n",
       "       [ 0.46509844,  0.53490156],\n",
       "       [ 0.63448206,  0.36551794]])"
      ]
     },
     "execution_count": 17,
     "metadata": {},
     "output_type": "execute_result"
    }
   ],
   "source": [
    "bdt.predict_proba(X_test_sm)"
   ]
  },
  {
   "cell_type": "code",
   "execution_count": 18,
   "metadata": {},
   "outputs": [
    {
     "name": "stdout",
     "output_type": "stream",
     "text": [
      "matrix_test_sm\n",
      "[[40190    16]\n",
      " [  155   209]]\n",
      "\n",
      "('test', 0.70967741935483863)\n",
      "\n",
      "matrix_test\n",
      "[[50237    18]\n",
      " [  182   276]]\n",
      "\n",
      "('test', 0.73404255319148937)\n",
      "\n",
      "\n"
     ]
    }
   ],
   "source": [
    "print ('matrix_test_sm') \n",
    "print (metrics.confusion_matrix(y_test_sm, bdt.predict(X_test_sm)))\n",
    "print (\"\")\n",
    "print ('test', metrics.f1_score(y_test_sm, bdt.predict(X_test_sm)))\n",
    "print (\"\")\n",
    "print ('matrix_test') \n",
    "print (metrics.confusion_matrix(y_test, bdt.predict(X_test)))\n",
    "print (\"\")\n",
    "print ('test', metrics.f1_score(y_test, bdt.predict(X_test)))\n",
    "print (\"\")\n",
    "print (\"\")"
   ]
  },
  {
   "cell_type": "code",
   "execution_count": null,
   "metadata": {
    "collapsed": true
   },
   "outputs": [],
   "source": [
    "matrix_test_sm\n",
    "[[40189    17]\n",
    " [  129   235]]\n",
    "\n",
    "('test', 0.76298701298701299)\n",
    "\n",
    "matrix_test\n",
    "[[50235    20]\n",
    " [  157   301]]\n",
    "\n",
    "('test', 0.77278562259306804)\n",
    "\n",
    "\n",
    "\n",
    "AdaBoostClassifier(algorithm='SAMME',\n",
    "          base_estimator=DecisionTreeClassifier(class_weight=None, criterion='gini', max_depth=9,\n",
    "            max_features=None, max_leaf_nodes=None,\n",
    "            min_impurity_decrease=0.0, min_impurity_split=None,\n",
    "            min_samples_leaf=1, min_samples_split=2,\n",
    "            min_weight_fraction_leaf=0.0, presort=False, random_state=42,\n",
    "            splitter='best'),\n",
    "          learning_rate=1.0, n_estimators=20, random_state=42)"
   ]
  },
  {
   "cell_type": "code",
   "execution_count": null,
   "metadata": {
    "collapsed": true
   },
   "outputs": [],
   "source": [
    "matrix_test_sm\n",
    "[[40188    18]\n",
    " [  124   240]]\n",
    "\n",
    "('test', 0.77170418006430874)\n",
    "\n",
    "matrix_test\n",
    "[[50232    23]\n",
    " [  156   302]]\n",
    "\n",
    "('test', 0.77139208173690932)\n",
    "\n",
    "AdaBoostClassifier(algorithm='SAMME',\n",
    "          base_estimator=DecisionTreeClassifier(class_weight=None, criterion='gini', max_depth=9,\n",
    "            max_features=None, max_leaf_nodes=None,\n",
    "            min_impurity_decrease=0.0, min_impurity_split=None,\n",
    "            min_samples_leaf=1, min_samples_split=2,\n",
    "            min_weight_fraction_leaf=0.0, presort=False, random_state=42,\n",
    "            splitter='best'),\n",
    "          learning_rate=1.0, n_estimators=20, random_state=42)"
   ]
  },
  {
   "cell_type": "code",
   "execution_count": null,
   "metadata": {
    "collapsed": true
   },
   "outputs": [],
   "source": [
    "matrix_test_sm\n",
    "[[40173    33]\n",
    " [  122   242]]\n",
    "\n",
    "('test', 0.75743348982785597)\n",
    "\n",
    "matrix_test\n",
    "[[50221    34]\n",
    " [  159   299]]\n",
    "\n",
    "('test', 0.75600505689001274)\n",
    "\n",
    "AdaBoostClassifier(algorithm='SAMME',\n",
    "          base_estimator=DecisionTreeClassifier(class_weight=None, criterion='gini', max_depth=8,\n",
    "            max_features=None, max_leaf_nodes=None,\n",
    "            min_impurity_decrease=0.0, min_impurity_split=None,\n",
    "            min_samples_leaf=1, min_samples_split=2,\n",
    "            min_weight_fraction_leaf=0.0, presort=False, random_state=42,\n",
    "            splitter='best'),\n",
    "          learning_rate=1.0, n_estimators=20, random_state=42)"
   ]
  },
  {
   "cell_type": "code",
   "execution_count": null,
   "metadata": {
    "collapsed": true
   },
   "outputs": [],
   "source": [
    "matrix_test_sm\n",
    "[[40177    29]\n",
    " [  143   221]]\n",
    "\n",
    "('test', 0.71986970684039087)\n",
    "\n",
    "matrix_test\n",
    "[[50212    43]\n",
    " [  177   281]]\n",
    "\n",
    "('test', 0.71867007672634264)\n",
    "\n",
    "\n",
    "AdaBoostClassifier(algorithm='SAMME',\n",
    "          base_estimator=DecisionTreeClassifier(class_weight=None, criterion='gini', max_depth=7,\n",
    "            max_features=None, max_leaf_nodes=None,\n",
    "            min_impurity_decrease=0.0, min_impurity_split=None,\n",
    "            min_samples_leaf=1, min_samples_split=2,\n",
    "            min_weight_fraction_leaf=0.0, presort=False, random_state=42,\n",
    "            splitter='best'),\n",
    "          learning_rate=1.0, n_estimators=20, random_state=42)"
   ]
  },
  {
   "cell_type": "markdown",
   "metadata": {},
   "source": [
    "matrix_test_sm\n",
    "[[40176    30]\n",
    " [  140   224]]\n",
    "\n",
    "('test', 0.72491909385113273)\n",
    "\n",
    "matrix_test\n",
    "[[50233    22]\n",
    " [  157   301]]\n",
    "\n",
    "('test', 0.77080665813060179)\n",
    "\n",
    "AdaBoostClassifier(algorithm='SAMME',\n",
    "          base_estimator=DecisionTreeClassifier(class_weight=None, criterion='gini', max_depth=5,\n",
    "            max_features=None, max_leaf_nodes=None,\n",
    "            min_impurity_decrease=0.0, min_impurity_split=None,\n",
    "            min_samples_leaf=1, min_samples_split=2,\n",
    "            min_weight_fraction_leaf=0.0, presort=False, random_state=42,\n",
    "            splitter='best'),\n",
    "          learning_rate=1.0, n_estimators=200, random_state=42)"
   ]
  },
  {
   "cell_type": "code",
   "execution_count": null,
   "metadata": {
    "collapsed": true
   },
   "outputs": [],
   "source": []
  },
  {
   "cell_type": "markdown",
   "metadata": {},
   "source": [
    "# K-ближайших соседей"
   ]
  },
  {
   "cell_type": "code",
   "execution_count": 23,
   "metadata": {
    "collapsed": true
   },
   "outputs": [],
   "source": [
    "from sklearn import metrics\n",
    "from sklearn.neighbors import KNeighborsClassifier"
   ]
  },
  {
   "cell_type": "code",
   "execution_count": null,
   "metadata": {
    "collapsed": true
   },
   "outputs": [],
   "source": [
    "modelKnn = KNeighborsClassifier()\n",
    "\n",
    "modelKnn.fit(X_train_sm, y_train_sm)\n",
    "\n",
    "    \n",
    "print ('matrix_test_sm') \n",
    "print (metrics.confusion_matrix(y_test_sm, modelKnn.predict(X_test_sm)))\n",
    "print (\"\")\n",
    "print ('test', metrics.f1_score(y_test_sm, modelKnn.predict(X_test_sm)))\n",
    "print (\"\")\n",
    "print ('matrix_test') \n",
    "print (metrics.confusion_matrix(y_test, modelKnn.predict(X_test)))\n",
    "print (\"\")\n",
    "print ('test', metrics.f1_score(y_test, modelKnn.predict(X_test)))\n",
    "print (\"\")\n",
    "print (\"\")"
   ]
  },
  {
   "cell_type": "markdown",
   "metadata": {
    "collapsed": true
   },
   "source": [
    "matrix_test_sm\n",
    "[[36566    45]\n",
    " [  339    19]]\n",
    "\n",
    "('test', 0.98961291893207826)\n",
    "\n",
    "matrix_test\n",
    "[[45702    74]\n",
    " [  408    27]]\n",
    "\n",
    "('test', 0.98956958299971864)\n"
   ]
  },
  {
   "cell_type": "markdown",
   "metadata": {
    "collapsed": true
   },
   "source": [
    "# Лес"
   ]
  },
  {
   "cell_type": "code",
   "execution_count": 10,
   "metadata": {},
   "outputs": [
    {
     "data": {
      "text/plain": [
       "RandomForestClassifier(bootstrap=True, class_weight=None, criterion='gini',\n",
       "            max_depth=None, max_features='auto', max_leaf_nodes=None,\n",
       "            min_impurity_decrease=0.0, min_impurity_split=None,\n",
       "            min_samples_leaf=1, min_samples_split=2,\n",
       "            min_weight_fraction_leaf=0.0, n_estimators=30, n_jobs=1,\n",
       "            oob_score=False, random_state=42, verbose=0, warm_start=False)"
      ]
     },
     "execution_count": 10,
     "metadata": {},
     "output_type": "execute_result"
    }
   ],
   "source": [
    "#Train The Random Forest Classifier\n",
    "from sklearn.ensemble import RandomForestClassifier\n",
    "\n",
    "class_weight=[]\n",
    "\n",
    "# Create a random forest Classifier. By convention, clf means 'Classifier'\n",
    "model_forest = RandomForestClassifier(random_state=42, n_estimators=30)#, bootstrap=True)\n",
    "\n",
    "# Train the Classifier to take the training features and learn how they relate\n",
    "# to the training y (the species)\n",
    "model_forest.fit(X_train_sm, y_train_sm)"
   ]
  },
  {
   "cell_type": "code",
   "execution_count": 11,
   "metadata": {},
   "outputs": [
    {
     "name": "stdout",
     "output_type": "stream",
     "text": [
      "matrix_test\n",
      "[[40202     4]\n",
      " [  241   123]]\n",
      "\n",
      "('test', 0.50101832993890016)\n",
      "matrix_test\n",
      "[[50253     2]\n",
      " [  280   178]]\n",
      "\n",
      "('test', 0.55799373040752354)\n"
     ]
    }
   ],
   "source": [
    "print ('matrix_test') \n",
    "print (metrics.confusion_matrix(y_test_sm, model_forest.predict(X_test_sm)))\n",
    "print (\"\")\n",
    "print ('test', metrics.f1_score(y_test_sm, model_forest.predict(X_test_sm)))\n",
    "\n",
    "print ('matrix_test') \n",
    "print (metrics.confusion_matrix(y_test, model_forest.predict(X_test)))\n",
    "print (\"\")\n",
    "print ('test', metrics.f1_score(y_test, model_forest.predict(X_test)))"
   ]
  },
  {
   "cell_type": "code",
   "execution_count": null,
   "metadata": {
    "collapsed": true
   },
   "outputs": [],
   "source": [
    "matrix_test\n",
    "[[40202     4]\n",
    " [  241   123]]\n",
    "\n",
    "('test', 0.50101832993890016)\n",
    "matrix_test\n",
    "[[50253     2]\n",
    " [  280   178]]\n",
    "\n",
    "('test', 0.55799373040752354)\n",
    "\n",
    "RandomForestClassifier(bootstrap=True, class_weight=None, criterion='gini',\n",
    "            max_depth=None, max_features='auto', max_leaf_nodes=None,\n",
    "            min_impurity_decrease=0.0, min_impurity_split=None,\n",
    "            min_samples_leaf=1, min_samples_split=2,\n",
    "            min_weight_fraction_leaf=0.0, n_estimators=30, n_jobs=1,\n",
    "            oob_score=False, random_state=42, verbose=0, warm_start=False)"
   ]
  },
  {
   "cell_type": "code",
   "execution_count": null,
   "metadata": {
    "collapsed": true
   },
   "outputs": [],
   "source": [
    "matrix_test\n",
    "[[40200     6]\n",
    " [  250   114]]\n",
    "\n",
    "('test', 0.4710743801652893)\n",
    "matrix_test\n",
    "[[50253     2]\n",
    " [  282   176]]\n",
    "\n",
    "('test', 0.55345911949685533)\n",
    "\n",
    "RandomForestClassifier(bootstrap=True, class_weight=None, criterion='gini',\n",
    "            max_depth=None, max_features='auto', max_leaf_nodes=None,\n",
    "            min_impurity_decrease=0.0, min_impurity_split=None,\n",
    "            min_samples_leaf=1, min_samples_split=2,\n",
    "            min_weight_fraction_leaf=0.0, n_estimators=20, n_jobs=1,\n",
    "            oob_score=False, random_state=42, verbose=0, warm_start=False)"
   ]
  },
  {
   "cell_type": "markdown",
   "metadata": {},
   "source": [
    "# Gradient Boosting"
   ]
  },
  {
   "cell_type": "code",
   "execution_count": 159,
   "metadata": {},
   "outputs": [
    {
     "data": {
      "text/plain": [
       "array([[  9.99267227e-01,   7.32772668e-04],\n",
       "       [  9.43205846e-01,   5.67941544e-02],\n",
       "       [  9.99199965e-01,   8.00034801e-04],\n",
       "       ..., \n",
       "       [  9.99266384e-01,   7.33616396e-04],\n",
       "       [  9.99906498e-01,   9.35016684e-05],\n",
       "       [  9.98543175e-01,   1.45682525e-03]])"
      ]
     },
     "execution_count": 159,
     "metadata": {},
     "output_type": "execute_result"
    }
   ],
   "source": [
    "from sklearn.ensemble import GradientBoostingClassifier\n",
    "\n",
    "GBC = GradientBoostingClassifier(random_state=42)\n",
    "GBC.fit(X_train_sm, y_train_sm)\n",
    "GBC.predict_proba(X_test_sm)"
   ]
  },
  {
   "cell_type": "code",
   "execution_count": 160,
   "metadata": {},
   "outputs": [
    {
     "name": "stdout",
     "output_type": "stream",
     "text": [
      "matrix_test_sm\n",
      "[[36602     9]\n",
      " [  319    39]]\n",
      "\n",
      "('test', 0.99112770158781682)\n",
      "\n",
      "matrix_test\n",
      "[[45763    13]\n",
      " [  390    45]]\n",
      "\n",
      "('test', 0.99127913267403867)\n",
      "\n",
      "\n"
     ]
    }
   ],
   "source": [
    "\n",
    "print ('matrix_test_sm') \n",
    "print (metrics.confusion_matrix(y_test_sm, GBC.predict(X_test_sm)))\n",
    "print (\"\")\n",
    "print ('test', metrics.f1_score(y_test_sm, GBC.predict(X_test_sm)))\n",
    "print (\"\")\n",
    "print ('matrix_test') \n",
    "print (metrics.confusion_matrix(y_test, GBC.predict(X_test)))\n",
    "print (\"\")\n",
    "print ('test', metrics.f1_score(y_test, GBC.predict(X_test)))\n",
    "print (\"\")\n",
    "print (\"\")"
   ]
  },
  {
   "cell_type": "markdown",
   "metadata": {},
   "source": [
    "# SVC"
   ]
  },
  {
   "cell_type": "code",
   "execution_count": 143,
   "metadata": {},
   "outputs": [
    {
     "data": {
      "text/plain": [
       "array([[ 0.98860499,  0.01139501],\n",
       "       [ 0.9915993 ,  0.0084007 ],\n",
       "       [ 0.9896708 ,  0.0103292 ],\n",
       "       ..., \n",
       "       [ 0.9904273 ,  0.0095727 ],\n",
       "       [ 0.9669431 ,  0.0330569 ],\n",
       "       [ 0.98238038,  0.01761962]])"
      ]
     },
     "execution_count": 143,
     "metadata": {},
     "output_type": "execute_result"
    }
   ],
   "source": [
    "from sklearn.svm import SVC\n",
    "\n",
    "svc = SVC(kernel='rbf', probability=True)\n",
    "\n",
    "svc.fit(X_train_sm, y_train_sm)\n",
    "svc.predict_proba(X_test_sm)"
   ]
  },
  {
   "cell_type": "code",
   "execution_count": 144,
   "metadata": {},
   "outputs": [
    {
     "name": "stdout",
     "output_type": "stream",
     "text": [
      "matrix_test_sm\n",
      "[[36611     0]\n",
      " [  358     0]]\n",
      "\n",
      "('test', 0.99031621087938548)\n",
      "\n",
      "matrix_test\n",
      "[[45776     0]\n",
      " [  435     0]]\n",
      "\n",
      "('test', 0.99058665685659264)\n",
      "\n",
      "\n"
     ]
    }
   ],
   "source": [
    "\n",
    "print ('matrix_test_sm') \n",
    "print (metrics.confusion_matrix(y_test_sm, svc.predict(X_test_sm)))\n",
    "print (\"\")\n",
    "print ('test', metrics.accuracy_score(y_test_sm, svc.predict(X_test_sm)))\n",
    "print (\"\")\n",
    "print ('matrix_test') \n",
    "print (metrics.confusion_matrix(y_test, svc.predict(X_test)))\n",
    "print (\"\")\n",
    "print ('test', metrics.accuracy_score(y_test, svc.predict(X_test)))\n",
    "print (\"\")\n",
    "print (\"\")"
   ]
  },
  {
   "cell_type": "code",
   "execution_count": null,
   "metadata": {
    "collapsed": true
   },
   "outputs": [],
   "source": []
  },
  {
   "cell_type": "markdown",
   "metadata": {},
   "source": [
    "# BaggingClassifier"
   ]
  },
  {
   "cell_type": "code",
   "execution_count": null,
   "metadata": {
    "collapsed": true
   },
   "outputs": [],
   "source": [
    "from sklearn import model_selection\n",
    "from sklearn.ensemble import BaggingClassifier\n",
    "\n",
    "seed = 42\n",
    "kfold = model_selection.KFold(n_splits=10, random_state=seed)\n",
    "cart = tree.DecisionTreeClassifier(random_state=seed)\n",
    "num_trees = 100\n",
    "model = BaggingClassifier(base_estimator=cart, n_estimators=num_trees, random_state=seed)\n",
    "results = model_selection.cross_val_score(model, X_train_sm, y_train_sm, cv=kfold, scoring = 'f1')\n",
    "print(results.mean())"
   ]
  },
  {
   "cell_type": "code",
   "execution_count": null,
   "metadata": {
    "collapsed": true
   },
   "outputs": [],
   "source": [
    "model.fit(X_train_sm, y_train_sm)\n",
    "\n",
    "# make predictions\n",
    "model.predict_proba(X_test_sm)"
   ]
  },
  {
   "cell_type": "code",
   "execution_count": null,
   "metadata": {
    "collapsed": true
   },
   "outputs": [],
   "source": [
    "print ('matrix_test_sm') \n",
    "print (metrics.confusion_matrix(y_test_sm, model.predict(X_test_sm)))\n",
    "print (\"\")\n",
    "print (\"f1_score\")\n",
    "\n",
    "print ('test_sm', metrics.f1_score(y_test_sm, model.predict(X_test_sm)))\n",
    "print (\"\")\n",
    "print (\"\")\n",
    "print ('matrix_test') \n",
    "print (metrics.confusion_matrix(y_test, model.predict(X_test)))\n",
    "print (\"\")\n",
    "print (\"f1_score\")\n",
    "print ('test', metrics.f1_score(y_test, model.predict(X_test)))\n",
    "print (\"\")\n",
    "print (\"\")"
   ]
  },
  {
   "cell_type": "code",
   "execution_count": null,
   "metadata": {
    "collapsed": true
   },
   "outputs": [],
   "source": [
    "matrix_test_sm\n",
    "[[36598    13]\n",
    " [  299    59]]\n",
    "f1_score\n",
    "\n",
    "('test', 0.2744186046511628)\n",
    "\n",
    "\n",
    "matrix_test\n",
    "[[45757    19]\n",
    " [  367    68]]\n",
    "\n",
    "f1_score\n",
    "('test', 0.26053639846743293)"
   ]
  },
  {
   "cell_type": "markdown",
   "metadata": {},
   "source": [
    "# LogisticRegression"
   ]
  },
  {
   "cell_type": "code",
   "execution_count": 65,
   "metadata": {
    "collapsed": true
   },
   "outputs": [],
   "source": [
    "from sklearn import metrics\n",
    "from sklearn.linear_model import LogisticRegression"
   ]
  },
  {
   "cell_type": "code",
   "execution_count": 66,
   "metadata": {},
   "outputs": [
    {
     "data": {
      "text/plain": [
       "LogisticRegression(C=1.0, class_weight=None, dual=False, fit_intercept=True,\n",
       "          intercept_scaling=1, max_iter=100, multi_class='ovr', n_jobs=1,\n",
       "          penalty='l2', random_state=42, solver='liblinear', tol=0.0001,\n",
       "          verbose=0, warm_start=False)"
      ]
     },
     "execution_count": 66,
     "metadata": {},
     "output_type": "execute_result"
    }
   ],
   "source": [
    "modelLR = LogisticRegression(random_state=42)\n",
    "\n",
    "modelLR.fit(X_train_sm, y_train_sm)\n"
   ]
  },
  {
   "cell_type": "code",
   "execution_count": 67,
   "metadata": {},
   "outputs": [
    {
     "data": {
      "text/plain": [
       "0.99031621087938548"
      ]
     },
     "execution_count": 67,
     "metadata": {},
     "output_type": "execute_result"
    }
   ],
   "source": [
    "metrics.accuracy_score(y_test_sm, modelLR.predict(X_test_sm))"
   ]
  },
  {
   "cell_type": "code",
   "execution_count": 68,
   "metadata": {
    "scrolled": true
   },
   "outputs": [
    {
     "data": {
      "text/plain": [
       "0.99058665685659264"
      ]
     },
     "execution_count": 68,
     "metadata": {},
     "output_type": "execute_result"
    }
   ],
   "source": [
    "metrics.accuracy_score(y_test, modelLR.predict(X_test))"
   ]
  },
  {
   "cell_type": "code",
   "execution_count": 69,
   "metadata": {
    "scrolled": true
   },
   "outputs": [
    {
     "data": {
      "text/plain": [
       "array([[36611,     0],\n",
       "       [  358,     0]])"
      ]
     },
     "execution_count": 69,
     "metadata": {},
     "output_type": "execute_result"
    }
   ],
   "source": [
    "metrics.confusion_matrix(y_test_sm, modelLR.predict(X_test_sm))"
   ]
  },
  {
   "cell_type": "code",
   "execution_count": 70,
   "metadata": {},
   "outputs": [
    {
     "data": {
      "text/plain": [
       "array([[45776,     0],\n",
       "       [  435,     0]])"
      ]
     },
     "execution_count": 70,
     "metadata": {},
     "output_type": "execute_result"
    }
   ],
   "source": [
    "metrics.confusion_matrix(y_test, modelLR.predict(X_test))"
   ]
  },
  {
   "cell_type": "code",
   "execution_count": null,
   "metadata": {
    "collapsed": true
   },
   "outputs": [],
   "source": []
  },
  {
   "cell_type": "code",
   "execution_count": null,
   "metadata": {
    "collapsed": true
   },
   "outputs": [],
   "source": []
  },
  {
   "cell_type": "code",
   "execution_count": null,
   "metadata": {
    "collapsed": true
   },
   "outputs": [],
   "source": []
  }
 ],
 "metadata": {
  "kernelspec": {
   "display_name": "Python 2",
   "language": "python",
   "name": "python2"
  },
  "language_info": {
   "codemirror_mode": {
    "name": "ipython",
    "version": 2
   },
   "file_extension": ".py",
   "mimetype": "text/x-python",
   "name": "python",
   "nbconvert_exporter": "python",
   "pygments_lexer": "ipython2",
   "version": "2.7.13"
  }
 },
 "nbformat": 4,
 "nbformat_minor": 2
}
